{
 "cells": [
  {
   "cell_type": "code",
   "execution_count": 1,
   "metadata": {},
   "outputs": [
    {
     "name": "stderr",
     "output_type": "stream",
     "text": [
      "WARNING:param.HoloViews01477: Displaying Panel objects in the notebook requires the panel extension to be loaded. Ensure you run pn.extension() before displaying objects in the notebook.\n"
     ]
    },
    {
     "data": {
      "text/plain": [
       "HoloViews(Layout)"
      ]
     },
     "execution_count": 1,
     "metadata": {},
     "output_type": "execute_result"
    }
   ],
   "source": [
    "import numpy as np\n",
    "import panel as pn\n",
    "import holoviews as hv\n",
    "import holoviews.plotting.bokeh\n",
    "\n",
    "points = hv.Points(np.random.randn(1000,2 )).opts(tools=['box_select', 'lasso_select'])\n",
    "selection = hv.streams.Selection1D(source=points)\n",
    "\n",
    "def selected_info(index):\n",
    "    arr = points.array()[index]\n",
    "    if index:\n",
    "        label = 'Mean x, y: %.3f, %.3f' % tuple(arr.mean(axis=0))\n",
    "    else:\n",
    "        label = 'No selection'\n",
    "    return points.clone(arr, label=label).opts(color='red')\n",
    "\n",
    "layout = points + hv.DynamicMap(selected_info, streams=[selection])\n",
    "\n",
    "pn.panel(layout).servable(title='HoloViews App')"
   ]
  },
  {
   "cell_type": "code",
   "execution_count": 2,
   "metadata": {},
   "outputs": [
    {
     "name": "stdout",
     "output_type": "stream",
     "text": [
      "2020-10-21 03:26:08,568 Starting Bokeh server version 2.2.1 (running on Tornado 5.1.1)\n",
      "2020-10-21 03:26:08,569 User authentication hooks NOT provided (default user enabled)\n",
      "2020-10-21 03:26:08,572 Bokeh app running at: http://localhost:8080/30-lasso-interact\n",
      "2020-10-21 03:26:08,572 Starting Bokeh server with process id: 11698\n",
      "2020-10-21 03:26:14,282 Error running application handler <bokeh.application.handlers.notebook.NotebookHandler object at 0x7f5b2a641e48>: name 'get_ipython' is not defined\n",
      "File \"30-lasso-interact.ipynb\", line 31, in <module>:\n",
      "\"\\n\", Traceback (most recent call last):\n",
      "  File \"/opt/tljh/user/lib/python3.7/site-packages/bokeh/application/handlers/code_runner.py\", line 197, in run\n",
      "    exec(self._code, module.__dict__)\n",
      "  File \"/home/jupyter-butzer/opt/etviz/1-Bokeh/day-01-Datashader/bokeh-real-python/30-lasso-interact.ipynb\", line 31, in <module>\n",
      "    \"\\n\",\n",
      "NameError: name 'get_ipython' is not defined\n",
      " \n",
      "2020-10-21 03:26:15,024 WebSocket connection opened\n",
      "2020-10-21 03:26:15,025 ServerConnection created\n",
      "2020-10-21 03:29:25,220 WebSocket connection closed: code=1001, reason=None\n",
      "^C\n",
      "\n",
      "Interrupted, shutting down\n"
     ]
    }
   ],
   "source": [
    "! (export BOKEH_ALLOW_WS_ORIGIN=10.12.68.246:8080 && panel serve --show --port 8080 30-lasso-interact.ipynb)"
   ]
  }
 ],
 "metadata": {
  "kernelspec": {
   "display_name": "Python 3",
   "language": "python",
   "name": "python3"
  },
  "language_info": {
   "codemirror_mode": {
    "name": "ipython",
    "version": 3
   },
   "file_extension": ".py",
   "mimetype": "text/x-python",
   "name": "python",
   "nbconvert_exporter": "python",
   "pygments_lexer": "ipython3",
   "version": "3.7.3"
  }
 },
 "nbformat": 4,
 "nbformat_minor": 4
}
