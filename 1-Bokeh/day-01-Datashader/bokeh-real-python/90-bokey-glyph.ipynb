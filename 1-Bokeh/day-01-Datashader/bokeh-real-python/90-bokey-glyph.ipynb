{
 "cells": [
  {
   "cell_type": "code",
   "execution_count": 1,
   "metadata": {},
   "outputs": [],
   "source": [
    "import numpy as np\n",
    "\n",
    "from bokeh.io import curdoc, show\n",
    "from bokeh.models import ColumnDataSource, Grid, LinearAxis, Plot, Text\n",
    "\n",
    "N = 9\n",
    "x = np.linspace(-2, 2, N)\n",
    "y = x**2\n",
    "a = \"abcdefghijklmnopqrstuvwxyz\"\n",
    "text = [a[i*3:i*3+3] for i in range(N)]\n",
    "\n",
    "source = ColumnDataSource(dict(x=x, y=y, text=text))\n",
    "\n",
    "plot = Plot(\n",
    "    title=None, plot_width=300, plot_height=300,\n",
    "    min_border=0, toolbar_location=None)\n",
    "\n",
    "glyph = Text(x=\"x\", y=\"y\", text=\"text\", angle=0.3, text_color=\"#96deb3\")\n",
    "plot.add_glyph(source, glyph)\n",
    "\n",
    "xaxis = LinearAxis()\n",
    "plot.add_layout(xaxis, 'below')\n",
    "\n",
    "yaxis = LinearAxis()\n",
    "plot.add_layout(yaxis, 'left')\n",
    "\n",
    "plot.add_layout(Grid(dimension=0, ticker=xaxis.ticker))\n",
    "plot.add_layout(Grid(dimension=1, ticker=yaxis.ticker))\n",
    "\n",
    "curdoc().add_root(plot)\n",
    "\n",
    "show(plot)"
   ]
  },
  {
   "cell_type": "code",
   "execution_count": null,
   "metadata": {},
   "outputs": [],
   "source": []
  }
 ],
 "metadata": {
  "kernelspec": {
   "display_name": "Python 3",
   "language": "python",
   "name": "python3"
  },
  "language_info": {
   "codemirror_mode": {
    "name": "ipython",
    "version": 3
   },
   "file_extension": ".py",
   "mimetype": "text/x-python",
   "name": "python",
   "nbconvert_exporter": "python",
   "pygments_lexer": "ipython3",
   "version": "3.7.3"
  }
 },
 "nbformat": 4,
 "nbformat_minor": 4
}
