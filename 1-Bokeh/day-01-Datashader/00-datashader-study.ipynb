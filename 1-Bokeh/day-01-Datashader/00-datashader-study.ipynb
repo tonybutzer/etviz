{
 "cells": [
  {
   "cell_type": "markdown",
   "metadata": {},
   "source": [
    "# References\n",
    "\n",
    "https://www.youtube.com/watch?v=8Jktm-Imt-I&list=PLGB9meziqbzr3Ipb2ZzIsDGiIeqD_Kzc4&index=3&t=0s\n",
    "    \n",
    "https://examples.pyviz.org/glaciers/glaciers.html \n",
    "    \n",
    "    \n",
    "## distraction\n",
    "    - https://github.com/karolzak/ipyplot\n",
    "    \n",
    "    - https://github.com/plotly/dash-datashader/blob/master/app.py"
   ]
  },
  {
   "cell_type": "markdown",
   "metadata": {},
   "source": [
    "# rEQUISITES\n",
    "\n",
    "conda install -c pyviz pandas=0.24 param=1.9.0 panel=0.5.1 holoviews=1.12.2 geoviews=1.6.2 datashader=0.7.0"
   ]
  },
  {
   "cell_type": "code",
   "execution_count": null,
   "metadata": {},
   "outputs": [],
   "source": [
    "import numpy as np, pandas as pd, cartopy.crs as ccrs\n",
    "import holoviews as hv, geoviews as gv, datashader as ds\n",
    "\n",
    "from colorcet import bmy\n",
    "from holoviews.operation.datashader import rasterize, datashade\n",
    "\n",
    "hv.extension('bokeh', width=100)"
   ]
  },
  {
   "cell_type": "code",
   "execution_count": null,
   "metadata": {},
   "outputs": [],
   "source": [
    "! conda --help"
   ]
  },
  {
   "cell_type": "code",
   "execution_count": null,
   "metadata": {},
   "outputs": [],
   "source": [
    "#! pip3 install --user cartopy"
   ]
  },
  {
   "cell_type": "code",
   "execution_count": null,
   "metadata": {},
   "outputs": [],
   "source": [
    "df = pd.read_csv('data/oggm_glacier_explorer.csv')\n",
    "df['latdeg'] = df.cenlat\n",
    "\n",
    "df.tail()"
   ]
  },
  {
   "cell_type": "code",
   "execution_count": null,
   "metadata": {},
   "outputs": [],
   "source": [
    "#! wget https://raw.githubusercontent.com/pyviz-demos/glaciers/master/data/oggm_glacier_explorer.csv"
   ]
  },
  {
   "cell_type": "code",
   "execution_count": null,
   "metadata": {},
   "outputs": [],
   "source": [
    "#! mv ogg* data; head data/oggm_glacier_explorer.csv"
   ]
  },
  {
   "cell_type": "code",
   "execution_count": null,
   "metadata": {},
   "outputs": [],
   "source": [
    "data = gv.Points(df, [('cenlon', 'Longitude'), ('cenlat', 'Latitude')],\n",
    "                     [('avg_prcp', 'Annual Precipitation (mm/yr)'),\n",
    "                      ('area_km2', 'Area'), ('latdeg', 'Latitude (deg)'),\n",
    "                      ('avg_temp_at_mean_elev', 'Annual Temperature at avg. altitude'), \n",
    "                      ('mean_elev', 'Elevation')])\n",
    "total_area = df.area_km2.sum()\n",
    "print(data, len(data), total_area)"
   ]
  },
  {
   "cell_type": "code",
   "execution_count": null,
   "metadata": {},
   "outputs": [],
   "source": [
    "data = gv.Dataset(gv.operation.project_points(data))"
   ]
  },
  {
   "cell_type": "code",
   "execution_count": null,
   "metadata": {},
   "outputs": [],
   "source": [
    "geo_kw    = dict(aggregator=ds.sum('area_km2'), x_sampling=1000, y_sampling=1000)\n",
    "elev_kw   = dict(cmap='#7d3c98')\n",
    "temp_kw   = dict(num_bins=50, adjoin=False, normed=False, bin_range=data.range('avg_temp_at_mean_elev'))\n",
    "prcp_kw   = dict(num_bins=50, adjoin=False, normed=False, bin_range=data.range('avg_prcp'))\n",
    "\n",
    "size_opts = dict(min_height=400, min_width=600, responsive=True)\n",
    "geo_opts  = dict(size_opts, cmap=bmy, global_extent=False, logz=True, colorbar=True)\n",
    "elev_opts = dict(size_opts, show_grid=True)\n",
    "temp_opts = dict(size_opts, fill_color='#f1948a', default_tools=[], toolbar=None, alpha=1.0)\n",
    "prcp_opts = dict(size_opts, fill_color='#85c1e9', default_tools=[], toolbar=None, alpha=1.0)"
   ]
  },
  {
   "cell_type": "code",
   "execution_count": null,
   "metadata": {},
   "outputs": [],
   "source": [
    "geo_bg = gv.tile_sources.EsriImagery.options(alpha=0.6, bgcolor=\"black\")\n",
    "geopoints = data.to(gv.Points, ['cenlon', 'cenlat'], ['area_km2'], []).options(**geo_opts).redim.range(area_km2=(0, 3000))\n",
    "\n",
    "(geo_bg*rasterize(geopoints, **geo_kw).options(**geo_opts) + \n",
    " datashade(data.to(hv.Scatter, 'mean_elev','latdeg', []), **elev_kw).options(**elev_opts) + \n",
    " data.hist('avg_temp_at_mean_elev', **temp_kw).options(**temp_opts) +\n",
    " data.hist('avg_prcp',              **prcp_kw).options(**prcp_opts)).cols(2)"
   ]
  },
  {
   "cell_type": "code",
   "execution_count": null,
   "metadata": {},
   "outputs": [],
   "source": []
  }
 ],
 "metadata": {
  "kernelspec": {
   "display_name": "Python 3",
   "language": "python",
   "name": "python3"
  },
  "language_info": {
   "codemirror_mode": {
    "name": "ipython",
    "version": 3
   },
   "file_extension": ".py",
   "mimetype": "text/x-python",
   "name": "python",
   "nbconvert_exporter": "python",
   "pygments_lexer": "ipython3",
   "version": "3.7.8"
  }
 },
 "nbformat": 4,
 "nbformat_minor": 2
}
