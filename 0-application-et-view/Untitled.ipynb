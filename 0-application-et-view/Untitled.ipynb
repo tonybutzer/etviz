{
 "cells": [
  {
   "cell_type": "code",
   "execution_count": 1,
   "metadata": {},
   "outputs": [
    {
     "data": {
      "text/plain": [
       "'temp-plot.html'"
      ]
     },
     "execution_count": 1,
     "metadata": {},
     "output_type": "execute_result"
    }
   ],
   "source": [
    "import pandas as pd\n",
    "import io\n",
    "import plotly.graph_objs as go \n",
    "from plotly.offline import plot\n",
    "\n",
    "# the data is different but it works\n",
    "\n",
    "txt = \"\"\"   state   abv ibu id  beer    style   ounces  brewery city\n",
    "0   AK  25  17  25  25.0    25.0    25  25  25\n",
    "1   AL  10  9   10  10.0    10.0    10  10  10\n",
    "2   AR  5   1   5   5.0 5.0 5   5   5\n",
    "3   AZ  44  24  47  47.0    46.0    47  47  47\n",
    "4   CA  182 135 183 183.0   183.0   183 183 183\n",
    "5   CO  250 146 265 265.0   263.0   265 265 265\n",
    "6   CT  27  6   27  27.0    27.0    27  27  27\n",
    "7   DC  8   4   8   8.0 8.0 8   8   8\n",
    "8   DE  1   1   2   2.0 2.0 2   2   2\n",
    "9   FL  56  37  58  58.0    58.0    58  58  58\n",
    "10  GA  16  7   16  16.0    16.0    16  16  16\n",
    "\"\"\"\n",
    "\n",
    "gb_state = pd.read_csv(io.StringIO(txt), delim_whitespace=True)\n",
    "\n",
    "\n",
    "data = dict(type='choropleth',\n",
    "            locations=gb_state['state'],\n",
    "            locationmode='USA-states',\n",
    "            text=gb_state['state'],\n",
    "            z=gb_state['beer'],\n",
    "            ) \n",
    "\n",
    "layout = dict(geo = dict(scope='usa',\n",
    "                         showlakes= False)\n",
    "             )\n",
    "\n",
    "choromap = go.Figure(data=[data], layout=layout)\n",
    "plot(choromap)"
   ]
  },
  {
   "cell_type": "code",
   "execution_count": null,
   "metadata": {},
   "outputs": [],
   "source": []
  }
 ],
 "metadata": {
  "kernelspec": {
   "display_name": "Python 3",
   "language": "python",
   "name": "python3"
  },
  "language_info": {
   "codemirror_mode": {
    "name": "ipython",
    "version": 3
   },
   "file_extension": ".py",
   "mimetype": "text/x-python",
   "name": "python",
   "nbconvert_exporter": "python",
   "pygments_lexer": "ipython3",
   "version": "3.7.3"
  }
 },
 "nbformat": 4,
 "nbformat_minor": 4
}
