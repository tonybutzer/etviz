{
 "cells": [
  {
   "cell_type": "code",
   "execution_count": null,
   "metadata": {},
   "outputs": [
    {
     "name": "stdout",
     "output_type": "stream",
     "text": [
      "Dash is running on http://127.0.0.1:8050/\n",
      "\n",
      " * Serving Flask app \"__main__\" (lazy loading)\n",
      " * Environment: production\n",
      "\u001b[31m   WARNING: This is a development server. Do not use it in a production deployment.\u001b[0m\n",
      "\u001b[2m   Use a production WSGI server instead.\u001b[0m\n",
      " * Debug mode: off\n"
     ]
    },
    {
     "name": "stderr",
     "output_type": "stream",
     "text": [
      " * Running on http://127.0.0.1:8050/ (Press CTRL+C to quit)\n",
      "127.0.0.1 - - [24/Nov/2020 06:34:41] \"\u001b[37mGET / HTTP/1.1\u001b[0m\" 200 -\n",
      "127.0.0.1 - - [24/Nov/2020 06:34:41] \"\u001b[37mGET /_dash-component-suites/dash_renderer/polyfill@7.v1_8_2m1601380660.8.7.min.js HTTP/1.1\u001b[0m\" 200 -\n",
      "127.0.0.1 - - [24/Nov/2020 06:34:41] \"\u001b[37mGET /_dash-component-suites/dash_renderer/react@16.v1_8_2m1601380660.13.0.min.js HTTP/1.1\u001b[0m\" 200 -\n",
      "127.0.0.1 - - [24/Nov/2020 06:34:41] \"\u001b[37mGET /_dash-component-suites/dash_renderer/prop-types@15.v1_8_2m1601380660.7.2.min.js HTTP/1.1\u001b[0m\" 200 -\n",
      "127.0.0.1 - - [24/Nov/2020 06:34:41] \"\u001b[37mGET /_dash-component-suites/dash_html_components/dash_html_components.v1_1_1m1601380662.min.js HTTP/1.1\u001b[0m\" 200 -\n",
      "127.0.0.1 - - [24/Nov/2020 06:34:41] \"\u001b[37mGET /_dash-component-suites/dash_renderer/react-dom@16.v1_8_2m1601380660.13.0.min.js HTTP/1.1\u001b[0m\" 200 -\n",
      "127.0.0.1 - - [24/Nov/2020 06:34:41] \"\u001b[37mGET /_dash-component-suites/dash_leaflet/dash_leaflet.v0_1_8m1606199609.min.js HTTP/1.1\u001b[0m\" 200 -\n",
      "127.0.0.1 - - [24/Nov/2020 06:34:41] \"\u001b[37mGET /_dash-component-suites/dash_renderer/dash_renderer.v1_8_2m1601380660.min.js HTTP/1.1\u001b[0m\" 200 -\n",
      "127.0.0.1 - - [24/Nov/2020 06:34:42] \"\u001b[37mGET /_dash-layout HTTP/1.1\u001b[0m\" 200 -\n",
      "127.0.0.1 - - [24/Nov/2020 06:34:42] \"\u001b[37mGET /_dash-dependencies HTTP/1.1\u001b[0m\" 200 -\n",
      "127.0.0.1 - - [24/Nov/2020 06:34:42] \"\u001b[37mGET /_favicon.ico?v=1.16.2 HTTP/1.1\u001b[0m\" 200 -\n",
      "127.0.0.1 - - [24/Nov/2020 06:34:50] \"\u001b[37mPOST /_dash-update-component HTTP/1.1\u001b[0m\" 200 -\n",
      "127.0.0.1 - - [24/Nov/2020 06:34:55] \"\u001b[37mPOST /_dash-update-component HTTP/1.1\u001b[0m\" 200 -\n",
      "127.0.0.1 - - [24/Nov/2020 06:35:10] \"\u001b[37mPOST /_dash-update-component HTTP/1.1\u001b[0m\" 200 -\n",
      "127.0.0.1 - - [24/Nov/2020 06:35:12] \"\u001b[37mPOST /_dash-update-component HTTP/1.1\u001b[0m\" 200 -\n",
      "127.0.0.1 - - [24/Nov/2020 06:35:19] \"\u001b[37mPOST /_dash-update-component HTTP/1.1\u001b[0m\" 200 -\n",
      "127.0.0.1 - - [24/Nov/2020 06:38:25] \"\u001b[37mGET / HTTP/1.1\u001b[0m\" 200 -\n",
      "127.0.0.1 - - [24/Nov/2020 06:38:25] \"\u001b[37mGET /_dash-component-suites/dash_renderer/react@16.v1_8_2m1601380660.13.0.min.js HTTP/1.1\u001b[0m\" 200 -\n",
      "127.0.0.1 - - [24/Nov/2020 06:38:25] \"\u001b[37mGET /_dash-component-suites/dash_renderer/polyfill@7.v1_8_2m1601380660.8.7.min.js HTTP/1.1\u001b[0m\" 200 -\n",
      "127.0.0.1 - - [24/Nov/2020 06:38:25] \"\u001b[37mGET /_dash-component-suites/dash_renderer/prop-types@15.v1_8_2m1601380660.7.2.min.js HTTP/1.1\u001b[0m\" 200 -\n",
      "127.0.0.1 - - [24/Nov/2020 06:38:25] \"\u001b[37mGET /_dash-component-suites/dash_renderer/react-dom@16.v1_8_2m1601380660.13.0.min.js HTTP/1.1\u001b[0m\" 200 -\n",
      "127.0.0.1 - - [24/Nov/2020 06:38:25] \"\u001b[37mGET /_dash-component-suites/dash_html_components/dash_html_components.v1_1_1m1601380662.min.js HTTP/1.1\u001b[0m\" 200 -\n",
      "127.0.0.1 - - [24/Nov/2020 06:38:25] \"\u001b[37mGET /_dash-component-suites/dash_leaflet/dash_leaflet.v0_1_8m1606199609.min.js HTTP/1.1\u001b[0m\" 200 -\n",
      "127.0.0.1 - - [24/Nov/2020 06:38:26] \"\u001b[37mGET /_dash-component-suites/dash_renderer/dash_renderer.v1_8_2m1601380660.min.js HTTP/1.1\u001b[0m\" 200 -\n",
      "127.0.0.1 - - [24/Nov/2020 06:38:26] \"\u001b[37mGET /_dash-layout HTTP/1.1\u001b[0m\" 200 -\n",
      "127.0.0.1 - - [24/Nov/2020 06:38:26] \"\u001b[37mGET /_dash-dependencies HTTP/1.1\u001b[0m\" 200 -\n",
      "127.0.0.1 - - [24/Nov/2020 06:38:26] \"\u001b[37mGET /_favicon.ico?v=1.16.2 HTTP/1.1\u001b[0m\" 200 -\n",
      "127.0.0.1 - - [24/Nov/2020 06:42:55] \"\u001b[37mPOST /_dash-update-component HTTP/1.1\u001b[0m\" 200 -\n",
      "127.0.0.1 - - [24/Nov/2020 06:43:00] \"\u001b[37mPOST /_dash-update-component HTTP/1.1\u001b[0m\" 200 -\n",
      "127.0.0.1 - - [24/Nov/2020 06:43:02] \"\u001b[37mPOST /_dash-update-component HTTP/1.1\u001b[0m\" 200 -\n",
      "127.0.0.1 - - [24/Nov/2020 06:44:29] \"\u001b[37mPOST /_dash-update-component HTTP/1.1\u001b[0m\" 200 -\n",
      "127.0.0.1 - - [24/Nov/2020 06:44:31] \"\u001b[37mPOST /_dash-update-component HTTP/1.1\u001b[0m\" 200 -\n",
      "127.0.0.1 - - [24/Nov/2020 06:44:32] \"\u001b[37mPOST /_dash-update-component HTTP/1.1\u001b[0m\" 200 -\n"
     ]
    }
   ],
   "source": [
    "import dash\n",
    "import dash_html_components as html\n",
    "import dash_leaflet as dl\n",
    "from dash.dependencies import Input, Output\n",
    "\n",
    "positions = [(11, 11), (33, 33), (55, 55)]\n",
    "markers = [dl.Marker(dl.Tooltip(\"test\"), position=pos, id=\"marker{}\".format(i)) for i, pos in enumerate(positions)]\n",
    "cluster = dl.MarkerClusterGroup(id=\"markers\", children=markers, options={\"polygonOptions\": {\"color\": \"red\"}})\n",
    "\n",
    "app = dash.Dash(prevent_initial_callbacks=True)\n",
    "app.layout = html.Div([\n",
    "    html.Div(dl.Map([dl.TileLayer(), cluster], center=(33, 33), zoom=3, id=\"map\",\n",
    "                    style={'width': '100%', 'height': '50vh', 'margin': \"auto\", \"display\": \"block\"})),\n",
    "    html.Div(id='clickdata')\n",
    "])\n",
    "\n",
    "\n",
    "@app.callback(Output(\"clickdata\", \"children\"),\n",
    "              [Input(marker.id, \"n_clicks\") for marker in markers])\n",
    "def marker_click(*args):\n",
    "    marker_id = dash.callback_context.triggered[0][\"prop_id\"].split(\".\")[0]\n",
    "    return \"Hello from {}\".format(marker_id)\n",
    "\n",
    "\n",
    "if __name__ == '__main__':\n",
    "    app.run_server()"
   ]
  },
  {
   "cell_type": "code",
   "execution_count": null,
   "metadata": {},
   "outputs": [],
   "source": [
    "#! pip install --user dash_leaflet"
   ]
  },
  {
   "cell_type": "code",
   "execution_count": null,
   "metadata": {},
   "outputs": [],
   "source": []
  }
 ],
 "metadata": {
  "kernelspec": {
   "display_name": "Python 3",
   "language": "python",
   "name": "python3"
  },
  "language_info": {
   "codemirror_mode": {
    "name": "ipython",
    "version": 3
   },
   "file_extension": ".py",
   "mimetype": "text/x-python",
   "name": "python",
   "nbconvert_exporter": "python",
   "pygments_lexer": "ipython3",
   "version": "3.7.3"
  }
 },
 "nbformat": 4,
 "nbformat_minor": 4
}
