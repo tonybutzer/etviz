{
 "cells": [
  {
   "cell_type": "code",
   "execution_count": 1,
   "metadata": {},
   "outputs": [
    {
     "data": {
      "text/plain": [
       "['dev-et-data/out/DelawareRiverBasin/Run12_24_2020/run_drb150_1224_bigs_chip39.84N-73.72E_o',\n",
       " 'dev-et-data/out/DelawareRiverBasin/Run12_24_2020/run_drb150_1224_bigs_chip39.84N-74.74E_o',\n",
       " 'dev-et-data/out/DelawareRiverBasin/Run12_24_2020/run_drb150_1224_bigs_chip39.84N-75.77E_o',\n",
       " 'dev-et-data/out/DelawareRiverBasin/Run12_24_2020/run_drb150_1224_bigs_chip39.84N-76.79E_o']"
      ]
     },
     "execution_count": 1,
     "metadata": {},
     "output_type": "execute_result"
    }
   ],
   "source": [
    "import fsspec\n",
    "\n",
    "fs = fsspec.filesystem('s3', anon=False, requester_pays=True)\n",
    "\n",
    "# return all the COGS for a given year\n",
    "def get_paths(full_path):\n",
    "    files = fs.ls(full_path)\n",
    "    return [f for f in files ]\n",
    "\n",
    "path1 = 'dev-et-data/out/DelawareRiverBasin/Run12_24_2020/'\n",
    "\n",
    "path_list = get_paths(path1)\n",
    "\n",
    "path_list[0:4]"
   ]
  },
  {
   "cell_type": "code",
   "execution_count": 2,
   "metadata": {},
   "outputs": [
    {
     "data": {
      "text/plain": [
       "['dev-et-data/out/DelawareRiverBasin/Run12_24_2020/run_drb150_1224_bigs_chip39.84N-73.72E_o',\n",
       " 'dev-et-data/out/DelawareRiverBasin/Run12_24_2020/run_drb150_1224_bigs_chip39.84N-74.74E_o',\n",
       " 'dev-et-data/out/DelawareRiverBasin/Run12_24_2020/run_drb150_1224_bigs_chip39.84N-75.77E_o',\n",
       " 'dev-et-data/out/DelawareRiverBasin/Run12_24_2020/run_drb150_1224_bigs_chip39.84N-76.79E_o',\n",
       " 'dev-et-data/out/DelawareRiverBasin/Run12_24_2020/run_drb150_1224_bigs_chip41.33N-73.72E_o',\n",
       " 'dev-et-data/out/DelawareRiverBasin/Run12_24_2020/run_drb150_1224_bigs_chip41.33N-74.74E_o',\n",
       " 'dev-et-data/out/DelawareRiverBasin/Run12_24_2020/run_drb150_1224_bigs_chip41.33N-75.77E_o',\n",
       " 'dev-et-data/out/DelawareRiverBasin/Run12_24_2020/run_drb150_1224_bigs_chip41.33N-76.79E_o',\n",
       " 'dev-et-data/out/DelawareRiverBasin/Run12_24_2020/run_drb150_1224_bigs_chip42.81N-73.72E_o',\n",
       " 'dev-et-data/out/DelawareRiverBasin/Run12_24_2020/run_drb150_1224_bigs_chip42.81N-74.74E_o',\n",
       " 'dev-et-data/out/DelawareRiverBasin/Run12_24_2020/run_drb150_1224_bigs_chip42.81N-75.77E_o',\n",
       " 'dev-et-data/out/DelawareRiverBasin/Run12_24_2020/run_drb150_1224_bigs_chip42.81N-76.79E_o']"
      ]
     },
     "execution_count": 2,
     "metadata": {},
     "output_type": "execute_result"
    }
   ],
   "source": [
    "path_list"
   ]
  },
  {
   "cell_type": "code",
   "execution_count": 3,
   "metadata": {},
   "outputs": [],
   "source": [
    "def get_tifs(full_path):\n",
    "    files = fs.ls(full_path)\n",
    "    # return [f for f in files if f.endswith('_etasw.tif')]    \n",
    "    return [f for f in files ]"
   ]
  },
  {
   "cell_type": "code",
   "execution_count": 4,
   "metadata": {},
   "outputs": [],
   "source": [
    "tif_list=get_tifs(path_list[0])"
   ]
  },
  {
   "cell_type": "code",
   "execution_count": 5,
   "metadata": {},
   "outputs": [
    {
     "data": {
      "text/plain": [
       "['dev-et-data/out/DelawareRiverBasin/Run12_24_2020/run_drb150_1224_bigs_chip39.84N-73.72E_o/1950',\n",
       " 'dev-et-data/out/DelawareRiverBasin/Run12_24_2020/run_drb150_1224_bigs_chip39.84N-73.72E_o/1951',\n",
       " 'dev-et-data/out/DelawareRiverBasin/Run12_24_2020/run_drb150_1224_bigs_chip39.84N-73.72E_o/1952',\n",
       " 'dev-et-data/out/DelawareRiverBasin/Run12_24_2020/run_drb150_1224_bigs_chip39.84N-73.72E_o/1953',\n",
       " 'dev-et-data/out/DelawareRiverBasin/Run12_24_2020/run_drb150_1224_bigs_chip39.84N-73.72E_o/1954',\n",
       " 'dev-et-data/out/DelawareRiverBasin/Run12_24_2020/run_drb150_1224_bigs_chip39.84N-73.72E_o/1955',\n",
       " 'dev-et-data/out/DelawareRiverBasin/Run12_24_2020/run_drb150_1224_bigs_chip39.84N-73.72E_o/1956',\n",
       " 'dev-et-data/out/DelawareRiverBasin/Run12_24_2020/run_drb150_1224_bigs_chip39.84N-73.72E_o/1957',\n",
       " 'dev-et-data/out/DelawareRiverBasin/Run12_24_2020/run_drb150_1224_bigs_chip39.84N-73.72E_o/1958',\n",
       " 'dev-et-data/out/DelawareRiverBasin/Run12_24_2020/run_drb150_1224_bigs_chip39.84N-73.72E_o/1959',\n",
       " 'dev-et-data/out/DelawareRiverBasin/Run12_24_2020/run_drb150_1224_bigs_chip39.84N-73.72E_o/1960',\n",
       " 'dev-et-data/out/DelawareRiverBasin/Run12_24_2020/run_drb150_1224_bigs_chip39.84N-73.72E_o/1961',\n",
       " 'dev-et-data/out/DelawareRiverBasin/Run12_24_2020/run_drb150_1224_bigs_chip39.84N-73.72E_o/1962',\n",
       " 'dev-et-data/out/DelawareRiverBasin/Run12_24_2020/run_drb150_1224_bigs_chip39.84N-73.72E_o/1963',\n",
       " 'dev-et-data/out/DelawareRiverBasin/Run12_24_2020/run_drb150_1224_bigs_chip39.84N-73.72E_o/1964',\n",
       " 'dev-et-data/out/DelawareRiverBasin/Run12_24_2020/run_drb150_1224_bigs_chip39.84N-73.72E_o/1965',\n",
       " 'dev-et-data/out/DelawareRiverBasin/Run12_24_2020/run_drb150_1224_bigs_chip39.84N-73.72E_o/1966',\n",
       " 'dev-et-data/out/DelawareRiverBasin/Run12_24_2020/run_drb150_1224_bigs_chip39.84N-73.72E_o/1967',\n",
       " 'dev-et-data/out/DelawareRiverBasin/Run12_24_2020/run_drb150_1224_bigs_chip39.84N-73.72E_o/1968',\n",
       " 'dev-et-data/out/DelawareRiverBasin/Run12_24_2020/run_drb150_1224_bigs_chip39.84N-73.72E_o/1969',\n",
       " 'dev-et-data/out/DelawareRiverBasin/Run12_24_2020/run_drb150_1224_bigs_chip39.84N-73.72E_o/1970',\n",
       " 'dev-et-data/out/DelawareRiverBasin/Run12_24_2020/run_drb150_1224_bigs_chip39.84N-73.72E_o/1971',\n",
       " 'dev-et-data/out/DelawareRiverBasin/Run12_24_2020/run_drb150_1224_bigs_chip39.84N-73.72E_o/1972',\n",
       " 'dev-et-data/out/DelawareRiverBasin/Run12_24_2020/run_drb150_1224_bigs_chip39.84N-73.72E_o/1973',\n",
       " 'dev-et-data/out/DelawareRiverBasin/Run12_24_2020/run_drb150_1224_bigs_chip39.84N-73.72E_o/1974',\n",
       " 'dev-et-data/out/DelawareRiverBasin/Run12_24_2020/run_drb150_1224_bigs_chip39.84N-73.72E_o/1975',\n",
       " 'dev-et-data/out/DelawareRiverBasin/Run12_24_2020/run_drb150_1224_bigs_chip39.84N-73.72E_o/1976',\n",
       " 'dev-et-data/out/DelawareRiverBasin/Run12_24_2020/run_drb150_1224_bigs_chip39.84N-73.72E_o/1977',\n",
       " 'dev-et-data/out/DelawareRiverBasin/Run12_24_2020/run_drb150_1224_bigs_chip39.84N-73.72E_o/1978',\n",
       " 'dev-et-data/out/DelawareRiverBasin/Run12_24_2020/run_drb150_1224_bigs_chip39.84N-73.72E_o/1979',\n",
       " 'dev-et-data/out/DelawareRiverBasin/Run12_24_2020/run_drb150_1224_bigs_chip39.84N-73.72E_o/1980',\n",
       " 'dev-et-data/out/DelawareRiverBasin/Run12_24_2020/run_drb150_1224_bigs_chip39.84N-73.72E_o/1981',\n",
       " 'dev-et-data/out/DelawareRiverBasin/Run12_24_2020/run_drb150_1224_bigs_chip39.84N-73.72E_o/1982',\n",
       " 'dev-et-data/out/DelawareRiverBasin/Run12_24_2020/run_drb150_1224_bigs_chip39.84N-73.72E_o/1983',\n",
       " 'dev-et-data/out/DelawareRiverBasin/Run12_24_2020/run_drb150_1224_bigs_chip39.84N-73.72E_o/1984',\n",
       " 'dev-et-data/out/DelawareRiverBasin/Run12_24_2020/run_drb150_1224_bigs_chip39.84N-73.72E_o/1985',\n",
       " 'dev-et-data/out/DelawareRiverBasin/Run12_24_2020/run_drb150_1224_bigs_chip39.84N-73.72E_o/1986',\n",
       " 'dev-et-data/out/DelawareRiverBasin/Run12_24_2020/run_drb150_1224_bigs_chip39.84N-73.72E_o/1987',\n",
       " 'dev-et-data/out/DelawareRiverBasin/Run12_24_2020/run_drb150_1224_bigs_chip39.84N-73.72E_o/1988',\n",
       " 'dev-et-data/out/DelawareRiverBasin/Run12_24_2020/run_drb150_1224_bigs_chip39.84N-73.72E_o/1989',\n",
       " 'dev-et-data/out/DelawareRiverBasin/Run12_24_2020/run_drb150_1224_bigs_chip39.84N-73.72E_o/1990',\n",
       " 'dev-et-data/out/DelawareRiverBasin/Run12_24_2020/run_drb150_1224_bigs_chip39.84N-73.72E_o/1991',\n",
       " 'dev-et-data/out/DelawareRiverBasin/Run12_24_2020/run_drb150_1224_bigs_chip39.84N-73.72E_o/1992',\n",
       " 'dev-et-data/out/DelawareRiverBasin/Run12_24_2020/run_drb150_1224_bigs_chip39.84N-73.72E_o/1993',\n",
       " 'dev-et-data/out/DelawareRiverBasin/Run12_24_2020/run_drb150_1224_bigs_chip39.84N-73.72E_o/1994',\n",
       " 'dev-et-data/out/DelawareRiverBasin/Run12_24_2020/run_drb150_1224_bigs_chip39.84N-73.72E_o/1995',\n",
       " 'dev-et-data/out/DelawareRiverBasin/Run12_24_2020/run_drb150_1224_bigs_chip39.84N-73.72E_o/1996',\n",
       " 'dev-et-data/out/DelawareRiverBasin/Run12_24_2020/run_drb150_1224_bigs_chip39.84N-73.72E_o/1997',\n",
       " 'dev-et-data/out/DelawareRiverBasin/Run12_24_2020/run_drb150_1224_bigs_chip39.84N-73.72E_o/1998',\n",
       " 'dev-et-data/out/DelawareRiverBasin/Run12_24_2020/run_drb150_1224_bigs_chip39.84N-73.72E_o/1999',\n",
       " 'dev-et-data/out/DelawareRiverBasin/Run12_24_2020/run_drb150_1224_bigs_chip39.84N-73.72E_o/2000',\n",
       " 'dev-et-data/out/DelawareRiverBasin/Run12_24_2020/run_drb150_1224_bigs_chip39.84N-73.72E_o/2001',\n",
       " 'dev-et-data/out/DelawareRiverBasin/Run12_24_2020/run_drb150_1224_bigs_chip39.84N-73.72E_o/2002',\n",
       " 'dev-et-data/out/DelawareRiverBasin/Run12_24_2020/run_drb150_1224_bigs_chip39.84N-73.72E_o/2003',\n",
       " 'dev-et-data/out/DelawareRiverBasin/Run12_24_2020/run_drb150_1224_bigs_chip39.84N-73.72E_o/2004',\n",
       " 'dev-et-data/out/DelawareRiverBasin/Run12_24_2020/run_drb150_1224_bigs_chip39.84N-73.72E_o/2005',\n",
       " 'dev-et-data/out/DelawareRiverBasin/Run12_24_2020/run_drb150_1224_bigs_chip39.84N-73.72E_o/2006',\n",
       " 'dev-et-data/out/DelawareRiverBasin/Run12_24_2020/run_drb150_1224_bigs_chip39.84N-73.72E_o/2007',\n",
       " 'dev-et-data/out/DelawareRiverBasin/Run12_24_2020/run_drb150_1224_bigs_chip39.84N-73.72E_o/2008',\n",
       " 'dev-et-data/out/DelawareRiverBasin/Run12_24_2020/run_drb150_1224_bigs_chip39.84N-73.72E_o/2009',\n",
       " 'dev-et-data/out/DelawareRiverBasin/Run12_24_2020/run_drb150_1224_bigs_chip39.84N-73.72E_o/2010',\n",
       " 'dev-et-data/out/DelawareRiverBasin/Run12_24_2020/run_drb150_1224_bigs_chip39.84N-73.72E_o/2011',\n",
       " 'dev-et-data/out/DelawareRiverBasin/Run12_24_2020/run_drb150_1224_bigs_chip39.84N-73.72E_o/2012',\n",
       " 'dev-et-data/out/DelawareRiverBasin/Run12_24_2020/run_drb150_1224_bigs_chip39.84N-73.72E_o/2013',\n",
       " 'dev-et-data/out/DelawareRiverBasin/Run12_24_2020/run_drb150_1224_bigs_chip39.84N-73.72E_o/2014',\n",
       " 'dev-et-data/out/DelawareRiverBasin/Run12_24_2020/run_drb150_1224_bigs_chip39.84N-73.72E_o/2015',\n",
       " 'dev-et-data/out/DelawareRiverBasin/Run12_24_2020/run_drb150_1224_bigs_chip39.84N-73.72E_o/2016',\n",
       " 'dev-et-data/out/DelawareRiverBasin/Run12_24_2020/run_drb150_1224_bigs_chip39.84N-73.72E_o/2017',\n",
       " 'dev-et-data/out/DelawareRiverBasin/Run12_24_2020/run_drb150_1224_bigs_chip39.84N-73.72E_o/2018',\n",
       " 'dev-et-data/out/DelawareRiverBasin/Run12_24_2020/run_drb150_1224_bigs_chip39.84N-73.72E_o/2019',\n",
       " 'dev-et-data/out/DelawareRiverBasin/Run12_24_2020/run_drb150_1224_bigs_chip39.84N-73.72E_o/2020',\n",
       " 'dev-et-data/out/DelawareRiverBasin/Run12_24_2020/run_drb150_1224_bigs_chip39.84N-73.72E_o/2021',\n",
       " 'dev-et-data/out/DelawareRiverBasin/Run12_24_2020/run_drb150_1224_bigs_chip39.84N-73.72E_o/2022',\n",
       " 'dev-et-data/out/DelawareRiverBasin/Run12_24_2020/run_drb150_1224_bigs_chip39.84N-73.72E_o/2023',\n",
       " 'dev-et-data/out/DelawareRiverBasin/Run12_24_2020/run_drb150_1224_bigs_chip39.84N-73.72E_o/2024',\n",
       " 'dev-et-data/out/DelawareRiverBasin/Run12_24_2020/run_drb150_1224_bigs_chip39.84N-73.72E_o/2025',\n",
       " 'dev-et-data/out/DelawareRiverBasin/Run12_24_2020/run_drb150_1224_bigs_chip39.84N-73.72E_o/2026',\n",
       " 'dev-et-data/out/DelawareRiverBasin/Run12_24_2020/run_drb150_1224_bigs_chip39.84N-73.72E_o/2027',\n",
       " 'dev-et-data/out/DelawareRiverBasin/Run12_24_2020/run_drb150_1224_bigs_chip39.84N-73.72E_o/2028',\n",
       " 'dev-et-data/out/DelawareRiverBasin/Run12_24_2020/run_drb150_1224_bigs_chip39.84N-73.72E_o/2029',\n",
       " 'dev-et-data/out/DelawareRiverBasin/Run12_24_2020/run_drb150_1224_bigs_chip39.84N-73.72E_o/2030',\n",
       " 'dev-et-data/out/DelawareRiverBasin/Run12_24_2020/run_drb150_1224_bigs_chip39.84N-73.72E_o/2031',\n",
       " 'dev-et-data/out/DelawareRiverBasin/Run12_24_2020/run_drb150_1224_bigs_chip39.84N-73.72E_o/2032',\n",
       " 'dev-et-data/out/DelawareRiverBasin/Run12_24_2020/run_drb150_1224_bigs_chip39.84N-73.72E_o/2033',\n",
       " 'dev-et-data/out/DelawareRiverBasin/Run12_24_2020/run_drb150_1224_bigs_chip39.84N-73.72E_o/2034',\n",
       " 'dev-et-data/out/DelawareRiverBasin/Run12_24_2020/run_drb150_1224_bigs_chip39.84N-73.72E_o/2035',\n",
       " 'dev-et-data/out/DelawareRiverBasin/Run12_24_2020/run_drb150_1224_bigs_chip39.84N-73.72E_o/2036',\n",
       " 'dev-et-data/out/DelawareRiverBasin/Run12_24_2020/run_drb150_1224_bigs_chip39.84N-73.72E_o/2037',\n",
       " 'dev-et-data/out/DelawareRiverBasin/Run12_24_2020/run_drb150_1224_bigs_chip39.84N-73.72E_o/2038',\n",
       " 'dev-et-data/out/DelawareRiverBasin/Run12_24_2020/run_drb150_1224_bigs_chip39.84N-73.72E_o/2039',\n",
       " 'dev-et-data/out/DelawareRiverBasin/Run12_24_2020/run_drb150_1224_bigs_chip39.84N-73.72E_o/2040',\n",
       " 'dev-et-data/out/DelawareRiverBasin/Run12_24_2020/run_drb150_1224_bigs_chip39.84N-73.72E_o/2041',\n",
       " 'dev-et-data/out/DelawareRiverBasin/Run12_24_2020/run_drb150_1224_bigs_chip39.84N-73.72E_o/2042',\n",
       " 'dev-et-data/out/DelawareRiverBasin/Run12_24_2020/run_drb150_1224_bigs_chip39.84N-73.72E_o/2043',\n",
       " 'dev-et-data/out/DelawareRiverBasin/Run12_24_2020/run_drb150_1224_bigs_chip39.84N-73.72E_o/2044',\n",
       " 'dev-et-data/out/DelawareRiverBasin/Run12_24_2020/run_drb150_1224_bigs_chip39.84N-73.72E_o/2045',\n",
       " 'dev-et-data/out/DelawareRiverBasin/Run12_24_2020/run_drb150_1224_bigs_chip39.84N-73.72E_o/2046',\n",
       " 'dev-et-data/out/DelawareRiverBasin/Run12_24_2020/run_drb150_1224_bigs_chip39.84N-73.72E_o/2047',\n",
       " 'dev-et-data/out/DelawareRiverBasin/Run12_24_2020/run_drb150_1224_bigs_chip39.84N-73.72E_o/2048',\n",
       " 'dev-et-data/out/DelawareRiverBasin/Run12_24_2020/run_drb150_1224_bigs_chip39.84N-73.72E_o/2049',\n",
       " 'dev-et-data/out/DelawareRiverBasin/Run12_24_2020/run_drb150_1224_bigs_chip39.84N-73.72E_o/2050',\n",
       " 'dev-et-data/out/DelawareRiverBasin/Run12_24_2020/run_drb150_1224_bigs_chip39.84N-73.72E_o/2051',\n",
       " 'dev-et-data/out/DelawareRiverBasin/Run12_24_2020/run_drb150_1224_bigs_chip39.84N-73.72E_o/2052',\n",
       " 'dev-et-data/out/DelawareRiverBasin/Run12_24_2020/run_drb150_1224_bigs_chip39.84N-73.72E_o/2053',\n",
       " 'dev-et-data/out/DelawareRiverBasin/Run12_24_2020/run_drb150_1224_bigs_chip39.84N-73.72E_o/2054',\n",
       " 'dev-et-data/out/DelawareRiverBasin/Run12_24_2020/run_drb150_1224_bigs_chip39.84N-73.72E_o/2055',\n",
       " 'dev-et-data/out/DelawareRiverBasin/Run12_24_2020/run_drb150_1224_bigs_chip39.84N-73.72E_o/2056',\n",
       " 'dev-et-data/out/DelawareRiverBasin/Run12_24_2020/run_drb150_1224_bigs_chip39.84N-73.72E_o/2057',\n",
       " 'dev-et-data/out/DelawareRiverBasin/Run12_24_2020/run_drb150_1224_bigs_chip39.84N-73.72E_o/2058',\n",
       " 'dev-et-data/out/DelawareRiverBasin/Run12_24_2020/run_drb150_1224_bigs_chip39.84N-73.72E_o/2059',\n",
       " 'dev-et-data/out/DelawareRiverBasin/Run12_24_2020/run_drb150_1224_bigs_chip39.84N-73.72E_o/2060',\n",
       " 'dev-et-data/out/DelawareRiverBasin/Run12_24_2020/run_drb150_1224_bigs_chip39.84N-73.72E_o/2061',\n",
       " 'dev-et-data/out/DelawareRiverBasin/Run12_24_2020/run_drb150_1224_bigs_chip39.84N-73.72E_o/2062',\n",
       " 'dev-et-data/out/DelawareRiverBasin/Run12_24_2020/run_drb150_1224_bigs_chip39.84N-73.72E_o/2063',\n",
       " 'dev-et-data/out/DelawareRiverBasin/Run12_24_2020/run_drb150_1224_bigs_chip39.84N-73.72E_o/2064',\n",
       " 'dev-et-data/out/DelawareRiverBasin/Run12_24_2020/run_drb150_1224_bigs_chip39.84N-73.72E_o/2065',\n",
       " 'dev-et-data/out/DelawareRiverBasin/Run12_24_2020/run_drb150_1224_bigs_chip39.84N-73.72E_o/2066',\n",
       " 'dev-et-data/out/DelawareRiverBasin/Run12_24_2020/run_drb150_1224_bigs_chip39.84N-73.72E_o/2067',\n",
       " 'dev-et-data/out/DelawareRiverBasin/Run12_24_2020/run_drb150_1224_bigs_chip39.84N-73.72E_o/2068',\n",
       " 'dev-et-data/out/DelawareRiverBasin/Run12_24_2020/run_drb150_1224_bigs_chip39.84N-73.72E_o/2069',\n",
       " 'dev-et-data/out/DelawareRiverBasin/Run12_24_2020/run_drb150_1224_bigs_chip39.84N-73.72E_o/2070',\n",
       " 'dev-et-data/out/DelawareRiverBasin/Run12_24_2020/run_drb150_1224_bigs_chip39.84N-73.72E_o/2071',\n",
       " 'dev-et-data/out/DelawareRiverBasin/Run12_24_2020/run_drb150_1224_bigs_chip39.84N-73.72E_o/2072',\n",
       " 'dev-et-data/out/DelawareRiverBasin/Run12_24_2020/run_drb150_1224_bigs_chip39.84N-73.72E_o/2073',\n",
       " 'dev-et-data/out/DelawareRiverBasin/Run12_24_2020/run_drb150_1224_bigs_chip39.84N-73.72E_o/2074',\n",
       " 'dev-et-data/out/DelawareRiverBasin/Run12_24_2020/run_drb150_1224_bigs_chip39.84N-73.72E_o/2075',\n",
       " 'dev-et-data/out/DelawareRiverBasin/Run12_24_2020/run_drb150_1224_bigs_chip39.84N-73.72E_o/2076',\n",
       " 'dev-et-data/out/DelawareRiverBasin/Run12_24_2020/run_drb150_1224_bigs_chip39.84N-73.72E_o/2077',\n",
       " 'dev-et-data/out/DelawareRiverBasin/Run12_24_2020/run_drb150_1224_bigs_chip39.84N-73.72E_o/2078',\n",
       " 'dev-et-data/out/DelawareRiverBasin/Run12_24_2020/run_drb150_1224_bigs_chip39.84N-73.72E_o/2079',\n",
       " 'dev-et-data/out/DelawareRiverBasin/Run12_24_2020/run_drb150_1224_bigs_chip39.84N-73.72E_o/2080',\n",
       " 'dev-et-data/out/DelawareRiverBasin/Run12_24_2020/run_drb150_1224_bigs_chip39.84N-73.72E_o/2081',\n",
       " 'dev-et-data/out/DelawareRiverBasin/Run12_24_2020/run_drb150_1224_bigs_chip39.84N-73.72E_o/2082',\n",
       " 'dev-et-data/out/DelawareRiverBasin/Run12_24_2020/run_drb150_1224_bigs_chip39.84N-73.72E_o/2083',\n",
       " 'dev-et-data/out/DelawareRiverBasin/Run12_24_2020/run_drb150_1224_bigs_chip39.84N-73.72E_o/2084',\n",
       " 'dev-et-data/out/DelawareRiverBasin/Run12_24_2020/run_drb150_1224_bigs_chip39.84N-73.72E_o/2085',\n",
       " 'dev-et-data/out/DelawareRiverBasin/Run12_24_2020/run_drb150_1224_bigs_chip39.84N-73.72E_o/2086',\n",
       " 'dev-et-data/out/DelawareRiverBasin/Run12_24_2020/run_drb150_1224_bigs_chip39.84N-73.72E_o/2087',\n",
       " 'dev-et-data/out/DelawareRiverBasin/Run12_24_2020/run_drb150_1224_bigs_chip39.84N-73.72E_o/2088',\n",
       " 'dev-et-data/out/DelawareRiverBasin/Run12_24_2020/run_drb150_1224_bigs_chip39.84N-73.72E_o/2089',\n",
       " 'dev-et-data/out/DelawareRiverBasin/Run12_24_2020/run_drb150_1224_bigs_chip39.84N-73.72E_o/2090',\n",
       " 'dev-et-data/out/DelawareRiverBasin/Run12_24_2020/run_drb150_1224_bigs_chip39.84N-73.72E_o/2091',\n",
       " 'dev-et-data/out/DelawareRiverBasin/Run12_24_2020/run_drb150_1224_bigs_chip39.84N-73.72E_o/2092',\n",
       " 'dev-et-data/out/DelawareRiverBasin/Run12_24_2020/run_drb150_1224_bigs_chip39.84N-73.72E_o/2093',\n",
       " 'dev-et-data/out/DelawareRiverBasin/Run12_24_2020/run_drb150_1224_bigs_chip39.84N-73.72E_o/2094',\n",
       " 'dev-et-data/out/DelawareRiverBasin/Run12_24_2020/run_drb150_1224_bigs_chip39.84N-73.72E_o/2095',\n",
       " 'dev-et-data/out/DelawareRiverBasin/Run12_24_2020/run_drb150_1224_bigs_chip39.84N-73.72E_o/2096',\n",
       " 'dev-et-data/out/DelawareRiverBasin/Run12_24_2020/run_drb150_1224_bigs_chip39.84N-73.72E_o/2097',\n",
       " 'dev-et-data/out/DelawareRiverBasin/Run12_24_2020/run_drb150_1224_bigs_chip39.84N-73.72E_o/2098',\n",
       " 'dev-et-data/out/DelawareRiverBasin/Run12_24_2020/run_drb150_1224_bigs_chip39.84N-73.72E_o/2099',\n",
       " 'dev-et-data/out/DelawareRiverBasin/Run12_24_2020/run_drb150_1224_bigs_chip39.84N-73.72E_o/Annual',\n",
       " 'dev-et-data/out/DelawareRiverBasin/Run12_24_2020/run_drb150_1224_bigs_chip39.84N-73.72E_o/aaalog']"
      ]
     },
     "execution_count": 5,
     "metadata": {},
     "output_type": "execute_result"
    }
   ],
   "source": [
    "tif_list"
   ]
  },
  {
   "cell_type": "code",
   "execution_count": 6,
   "metadata": {},
   "outputs": [],
   "source": [
    "def get_tifs2(full_path):\n",
    "    files = fs.ls(full_path)\n",
    "    return [f for f in files if 'etasw_' in f]    "
   ]
  },
  {
   "cell_type": "code",
   "execution_count": 7,
   "metadata": {},
   "outputs": [],
   "source": [
    "tif_list=get_tifs2(path_list[0]+'/1950')"
   ]
  },
  {
   "cell_type": "code",
   "execution_count": 8,
   "metadata": {},
   "outputs": [
    {
     "data": {
      "text/plain": [
       "['dev-et-data/out/DelawareRiverBasin/Run12_24_2020/run_drb150_1224_bigs_chip39.84N-73.72E_o/1950/etasw_1950001.tif',\n",
       " 'dev-et-data/out/DelawareRiverBasin/Run12_24_2020/run_drb150_1224_bigs_chip39.84N-73.72E_o/1950/etasw_1950002.tif',\n",
       " 'dev-et-data/out/DelawareRiverBasin/Run12_24_2020/run_drb150_1224_bigs_chip39.84N-73.72E_o/1950/etasw_1950003.tif',\n",
       " 'dev-et-data/out/DelawareRiverBasin/Run12_24_2020/run_drb150_1224_bigs_chip39.84N-73.72E_o/1950/etasw_1950004.tif',\n",
       " 'dev-et-data/out/DelawareRiverBasin/Run12_24_2020/run_drb150_1224_bigs_chip39.84N-73.72E_o/1950/etasw_1950005.tif',\n",
       " 'dev-et-data/out/DelawareRiverBasin/Run12_24_2020/run_drb150_1224_bigs_chip39.84N-73.72E_o/1950/etasw_1950006.tif',\n",
       " 'dev-et-data/out/DelawareRiverBasin/Run12_24_2020/run_drb150_1224_bigs_chip39.84N-73.72E_o/1950/etasw_1950007.tif',\n",
       " 'dev-et-data/out/DelawareRiverBasin/Run12_24_2020/run_drb150_1224_bigs_chip39.84N-73.72E_o/1950/etasw_1950008.tif',\n",
       " 'dev-et-data/out/DelawareRiverBasin/Run12_24_2020/run_drb150_1224_bigs_chip39.84N-73.72E_o/1950/etasw_1950009.tif',\n",
       " 'dev-et-data/out/DelawareRiverBasin/Run12_24_2020/run_drb150_1224_bigs_chip39.84N-73.72E_o/1950/etasw_195001.tif',\n",
       " 'dev-et-data/out/DelawareRiverBasin/Run12_24_2020/run_drb150_1224_bigs_chip39.84N-73.72E_o/1950/etasw_1950010.tif',\n",
       " 'dev-et-data/out/DelawareRiverBasin/Run12_24_2020/run_drb150_1224_bigs_chip39.84N-73.72E_o/1950/etasw_1950011.tif',\n",
       " 'dev-et-data/out/DelawareRiverBasin/Run12_24_2020/run_drb150_1224_bigs_chip39.84N-73.72E_o/1950/etasw_1950012.tif',\n",
       " 'dev-et-data/out/DelawareRiverBasin/Run12_24_2020/run_drb150_1224_bigs_chip39.84N-73.72E_o/1950/etasw_1950013.tif',\n",
       " 'dev-et-data/out/DelawareRiverBasin/Run12_24_2020/run_drb150_1224_bigs_chip39.84N-73.72E_o/1950/etasw_1950014.tif',\n",
       " 'dev-et-data/out/DelawareRiverBasin/Run12_24_2020/run_drb150_1224_bigs_chip39.84N-73.72E_o/1950/etasw_1950015.tif',\n",
       " 'dev-et-data/out/DelawareRiverBasin/Run12_24_2020/run_drb150_1224_bigs_chip39.84N-73.72E_o/1950/etasw_1950016.tif',\n",
       " 'dev-et-data/out/DelawareRiverBasin/Run12_24_2020/run_drb150_1224_bigs_chip39.84N-73.72E_o/1950/etasw_1950017.tif',\n",
       " 'dev-et-data/out/DelawareRiverBasin/Run12_24_2020/run_drb150_1224_bigs_chip39.84N-73.72E_o/1950/etasw_1950018.tif',\n",
       " 'dev-et-data/out/DelawareRiverBasin/Run12_24_2020/run_drb150_1224_bigs_chip39.84N-73.72E_o/1950/etasw_1950019.tif',\n",
       " 'dev-et-data/out/DelawareRiverBasin/Run12_24_2020/run_drb150_1224_bigs_chip39.84N-73.72E_o/1950/etasw_195002.tif',\n",
       " 'dev-et-data/out/DelawareRiverBasin/Run12_24_2020/run_drb150_1224_bigs_chip39.84N-73.72E_o/1950/etasw_1950020.tif',\n",
       " 'dev-et-data/out/DelawareRiverBasin/Run12_24_2020/run_drb150_1224_bigs_chip39.84N-73.72E_o/1950/etasw_1950021.tif',\n",
       " 'dev-et-data/out/DelawareRiverBasin/Run12_24_2020/run_drb150_1224_bigs_chip39.84N-73.72E_o/1950/etasw_1950022.tif',\n",
       " 'dev-et-data/out/DelawareRiverBasin/Run12_24_2020/run_drb150_1224_bigs_chip39.84N-73.72E_o/1950/etasw_1950023.tif',\n",
       " 'dev-et-data/out/DelawareRiverBasin/Run12_24_2020/run_drb150_1224_bigs_chip39.84N-73.72E_o/1950/etasw_1950024.tif',\n",
       " 'dev-et-data/out/DelawareRiverBasin/Run12_24_2020/run_drb150_1224_bigs_chip39.84N-73.72E_o/1950/etasw_1950025.tif',\n",
       " 'dev-et-data/out/DelawareRiverBasin/Run12_24_2020/run_drb150_1224_bigs_chip39.84N-73.72E_o/1950/etasw_1950026.tif',\n",
       " 'dev-et-data/out/DelawareRiverBasin/Run12_24_2020/run_drb150_1224_bigs_chip39.84N-73.72E_o/1950/etasw_1950027.tif',\n",
       " 'dev-et-data/out/DelawareRiverBasin/Run12_24_2020/run_drb150_1224_bigs_chip39.84N-73.72E_o/1950/etasw_1950028.tif',\n",
       " 'dev-et-data/out/DelawareRiverBasin/Run12_24_2020/run_drb150_1224_bigs_chip39.84N-73.72E_o/1950/etasw_1950029.tif',\n",
       " 'dev-et-data/out/DelawareRiverBasin/Run12_24_2020/run_drb150_1224_bigs_chip39.84N-73.72E_o/1950/etasw_195003.tif',\n",
       " 'dev-et-data/out/DelawareRiverBasin/Run12_24_2020/run_drb150_1224_bigs_chip39.84N-73.72E_o/1950/etasw_1950030.tif',\n",
       " 'dev-et-data/out/DelawareRiverBasin/Run12_24_2020/run_drb150_1224_bigs_chip39.84N-73.72E_o/1950/etasw_1950031.tif',\n",
       " 'dev-et-data/out/DelawareRiverBasin/Run12_24_2020/run_drb150_1224_bigs_chip39.84N-73.72E_o/1950/etasw_1950032.tif',\n",
       " 'dev-et-data/out/DelawareRiverBasin/Run12_24_2020/run_drb150_1224_bigs_chip39.84N-73.72E_o/1950/etasw_1950033.tif',\n",
       " 'dev-et-data/out/DelawareRiverBasin/Run12_24_2020/run_drb150_1224_bigs_chip39.84N-73.72E_o/1950/etasw_1950034.tif',\n",
       " 'dev-et-data/out/DelawareRiverBasin/Run12_24_2020/run_drb150_1224_bigs_chip39.84N-73.72E_o/1950/etasw_1950035.tif',\n",
       " 'dev-et-data/out/DelawareRiverBasin/Run12_24_2020/run_drb150_1224_bigs_chip39.84N-73.72E_o/1950/etasw_1950036.tif',\n",
       " 'dev-et-data/out/DelawareRiverBasin/Run12_24_2020/run_drb150_1224_bigs_chip39.84N-73.72E_o/1950/etasw_1950037.tif',\n",
       " 'dev-et-data/out/DelawareRiverBasin/Run12_24_2020/run_drb150_1224_bigs_chip39.84N-73.72E_o/1950/etasw_1950038.tif',\n",
       " 'dev-et-data/out/DelawareRiverBasin/Run12_24_2020/run_drb150_1224_bigs_chip39.84N-73.72E_o/1950/etasw_1950039.tif',\n",
       " 'dev-et-data/out/DelawareRiverBasin/Run12_24_2020/run_drb150_1224_bigs_chip39.84N-73.72E_o/1950/etasw_195004.tif',\n",
       " 'dev-et-data/out/DelawareRiverBasin/Run12_24_2020/run_drb150_1224_bigs_chip39.84N-73.72E_o/1950/etasw_1950040.tif',\n",
       " 'dev-et-data/out/DelawareRiverBasin/Run12_24_2020/run_drb150_1224_bigs_chip39.84N-73.72E_o/1950/etasw_1950041.tif',\n",
       " 'dev-et-data/out/DelawareRiverBasin/Run12_24_2020/run_drb150_1224_bigs_chip39.84N-73.72E_o/1950/etasw_1950042.tif',\n",
       " 'dev-et-data/out/DelawareRiverBasin/Run12_24_2020/run_drb150_1224_bigs_chip39.84N-73.72E_o/1950/etasw_1950043.tif',\n",
       " 'dev-et-data/out/DelawareRiverBasin/Run12_24_2020/run_drb150_1224_bigs_chip39.84N-73.72E_o/1950/etasw_1950044.tif',\n",
       " 'dev-et-data/out/DelawareRiverBasin/Run12_24_2020/run_drb150_1224_bigs_chip39.84N-73.72E_o/1950/etasw_1950045.tif',\n",
       " 'dev-et-data/out/DelawareRiverBasin/Run12_24_2020/run_drb150_1224_bigs_chip39.84N-73.72E_o/1950/etasw_1950046.tif',\n",
       " 'dev-et-data/out/DelawareRiverBasin/Run12_24_2020/run_drb150_1224_bigs_chip39.84N-73.72E_o/1950/etasw_1950047.tif',\n",
       " 'dev-et-data/out/DelawareRiverBasin/Run12_24_2020/run_drb150_1224_bigs_chip39.84N-73.72E_o/1950/etasw_1950048.tif',\n",
       " 'dev-et-data/out/DelawareRiverBasin/Run12_24_2020/run_drb150_1224_bigs_chip39.84N-73.72E_o/1950/etasw_1950049.tif',\n",
       " 'dev-et-data/out/DelawareRiverBasin/Run12_24_2020/run_drb150_1224_bigs_chip39.84N-73.72E_o/1950/etasw_195005.tif',\n",
       " 'dev-et-data/out/DelawareRiverBasin/Run12_24_2020/run_drb150_1224_bigs_chip39.84N-73.72E_o/1950/etasw_1950050.tif',\n",
       " 'dev-et-data/out/DelawareRiverBasin/Run12_24_2020/run_drb150_1224_bigs_chip39.84N-73.72E_o/1950/etasw_1950051.tif',\n",
       " 'dev-et-data/out/DelawareRiverBasin/Run12_24_2020/run_drb150_1224_bigs_chip39.84N-73.72E_o/1950/etasw_1950052.tif',\n",
       " 'dev-et-data/out/DelawareRiverBasin/Run12_24_2020/run_drb150_1224_bigs_chip39.84N-73.72E_o/1950/etasw_1950053.tif',\n",
       " 'dev-et-data/out/DelawareRiverBasin/Run12_24_2020/run_drb150_1224_bigs_chip39.84N-73.72E_o/1950/etasw_1950054.tif',\n",
       " 'dev-et-data/out/DelawareRiverBasin/Run12_24_2020/run_drb150_1224_bigs_chip39.84N-73.72E_o/1950/etasw_1950055.tif',\n",
       " 'dev-et-data/out/DelawareRiverBasin/Run12_24_2020/run_drb150_1224_bigs_chip39.84N-73.72E_o/1950/etasw_1950056.tif',\n",
       " 'dev-et-data/out/DelawareRiverBasin/Run12_24_2020/run_drb150_1224_bigs_chip39.84N-73.72E_o/1950/etasw_1950057.tif',\n",
       " 'dev-et-data/out/DelawareRiverBasin/Run12_24_2020/run_drb150_1224_bigs_chip39.84N-73.72E_o/1950/etasw_1950058.tif',\n",
       " 'dev-et-data/out/DelawareRiverBasin/Run12_24_2020/run_drb150_1224_bigs_chip39.84N-73.72E_o/1950/etasw_1950059.tif',\n",
       " 'dev-et-data/out/DelawareRiverBasin/Run12_24_2020/run_drb150_1224_bigs_chip39.84N-73.72E_o/1950/etasw_195006.tif',\n",
       " 'dev-et-data/out/DelawareRiverBasin/Run12_24_2020/run_drb150_1224_bigs_chip39.84N-73.72E_o/1950/etasw_1950060.tif',\n",
       " 'dev-et-data/out/DelawareRiverBasin/Run12_24_2020/run_drb150_1224_bigs_chip39.84N-73.72E_o/1950/etasw_1950061.tif',\n",
       " 'dev-et-data/out/DelawareRiverBasin/Run12_24_2020/run_drb150_1224_bigs_chip39.84N-73.72E_o/1950/etasw_1950062.tif',\n",
       " 'dev-et-data/out/DelawareRiverBasin/Run12_24_2020/run_drb150_1224_bigs_chip39.84N-73.72E_o/1950/etasw_1950063.tif',\n",
       " 'dev-et-data/out/DelawareRiverBasin/Run12_24_2020/run_drb150_1224_bigs_chip39.84N-73.72E_o/1950/etasw_1950064.tif',\n",
       " 'dev-et-data/out/DelawareRiverBasin/Run12_24_2020/run_drb150_1224_bigs_chip39.84N-73.72E_o/1950/etasw_1950065.tif',\n",
       " 'dev-et-data/out/DelawareRiverBasin/Run12_24_2020/run_drb150_1224_bigs_chip39.84N-73.72E_o/1950/etasw_1950066.tif',\n",
       " 'dev-et-data/out/DelawareRiverBasin/Run12_24_2020/run_drb150_1224_bigs_chip39.84N-73.72E_o/1950/etasw_1950067.tif',\n",
       " 'dev-et-data/out/DelawareRiverBasin/Run12_24_2020/run_drb150_1224_bigs_chip39.84N-73.72E_o/1950/etasw_1950068.tif',\n",
       " 'dev-et-data/out/DelawareRiverBasin/Run12_24_2020/run_drb150_1224_bigs_chip39.84N-73.72E_o/1950/etasw_1950069.tif',\n",
       " 'dev-et-data/out/DelawareRiverBasin/Run12_24_2020/run_drb150_1224_bigs_chip39.84N-73.72E_o/1950/etasw_195007.tif',\n",
       " 'dev-et-data/out/DelawareRiverBasin/Run12_24_2020/run_drb150_1224_bigs_chip39.84N-73.72E_o/1950/etasw_1950070.tif',\n",
       " 'dev-et-data/out/DelawareRiverBasin/Run12_24_2020/run_drb150_1224_bigs_chip39.84N-73.72E_o/1950/etasw_1950071.tif',\n",
       " 'dev-et-data/out/DelawareRiverBasin/Run12_24_2020/run_drb150_1224_bigs_chip39.84N-73.72E_o/1950/etasw_1950072.tif',\n",
       " 'dev-et-data/out/DelawareRiverBasin/Run12_24_2020/run_drb150_1224_bigs_chip39.84N-73.72E_o/1950/etasw_1950073.tif',\n",
       " 'dev-et-data/out/DelawareRiverBasin/Run12_24_2020/run_drb150_1224_bigs_chip39.84N-73.72E_o/1950/etasw_1950074.tif',\n",
       " 'dev-et-data/out/DelawareRiverBasin/Run12_24_2020/run_drb150_1224_bigs_chip39.84N-73.72E_o/1950/etasw_1950075.tif',\n",
       " 'dev-et-data/out/DelawareRiverBasin/Run12_24_2020/run_drb150_1224_bigs_chip39.84N-73.72E_o/1950/etasw_1950076.tif',\n",
       " 'dev-et-data/out/DelawareRiverBasin/Run12_24_2020/run_drb150_1224_bigs_chip39.84N-73.72E_o/1950/etasw_1950077.tif',\n",
       " 'dev-et-data/out/DelawareRiverBasin/Run12_24_2020/run_drb150_1224_bigs_chip39.84N-73.72E_o/1950/etasw_1950078.tif',\n",
       " 'dev-et-data/out/DelawareRiverBasin/Run12_24_2020/run_drb150_1224_bigs_chip39.84N-73.72E_o/1950/etasw_1950079.tif',\n",
       " 'dev-et-data/out/DelawareRiverBasin/Run12_24_2020/run_drb150_1224_bigs_chip39.84N-73.72E_o/1950/etasw_195008.tif',\n",
       " 'dev-et-data/out/DelawareRiverBasin/Run12_24_2020/run_drb150_1224_bigs_chip39.84N-73.72E_o/1950/etasw_1950080.tif',\n",
       " 'dev-et-data/out/DelawareRiverBasin/Run12_24_2020/run_drb150_1224_bigs_chip39.84N-73.72E_o/1950/etasw_1950081.tif',\n",
       " 'dev-et-data/out/DelawareRiverBasin/Run12_24_2020/run_drb150_1224_bigs_chip39.84N-73.72E_o/1950/etasw_1950082.tif',\n",
       " 'dev-et-data/out/DelawareRiverBasin/Run12_24_2020/run_drb150_1224_bigs_chip39.84N-73.72E_o/1950/etasw_1950083.tif',\n",
       " 'dev-et-data/out/DelawareRiverBasin/Run12_24_2020/run_drb150_1224_bigs_chip39.84N-73.72E_o/1950/etasw_1950084.tif',\n",
       " 'dev-et-data/out/DelawareRiverBasin/Run12_24_2020/run_drb150_1224_bigs_chip39.84N-73.72E_o/1950/etasw_1950085.tif',\n",
       " 'dev-et-data/out/DelawareRiverBasin/Run12_24_2020/run_drb150_1224_bigs_chip39.84N-73.72E_o/1950/etasw_1950086.tif',\n",
       " 'dev-et-data/out/DelawareRiverBasin/Run12_24_2020/run_drb150_1224_bigs_chip39.84N-73.72E_o/1950/etasw_1950087.tif',\n",
       " 'dev-et-data/out/DelawareRiverBasin/Run12_24_2020/run_drb150_1224_bigs_chip39.84N-73.72E_o/1950/etasw_1950088.tif',\n",
       " 'dev-et-data/out/DelawareRiverBasin/Run12_24_2020/run_drb150_1224_bigs_chip39.84N-73.72E_o/1950/etasw_1950089.tif',\n",
       " 'dev-et-data/out/DelawareRiverBasin/Run12_24_2020/run_drb150_1224_bigs_chip39.84N-73.72E_o/1950/etasw_195009.tif',\n",
       " 'dev-et-data/out/DelawareRiverBasin/Run12_24_2020/run_drb150_1224_bigs_chip39.84N-73.72E_o/1950/etasw_1950090.tif',\n",
       " 'dev-et-data/out/DelawareRiverBasin/Run12_24_2020/run_drb150_1224_bigs_chip39.84N-73.72E_o/1950/etasw_1950091.tif',\n",
       " 'dev-et-data/out/DelawareRiverBasin/Run12_24_2020/run_drb150_1224_bigs_chip39.84N-73.72E_o/1950/etasw_1950092.tif',\n",
       " 'dev-et-data/out/DelawareRiverBasin/Run12_24_2020/run_drb150_1224_bigs_chip39.84N-73.72E_o/1950/etasw_1950093.tif',\n",
       " 'dev-et-data/out/DelawareRiverBasin/Run12_24_2020/run_drb150_1224_bigs_chip39.84N-73.72E_o/1950/etasw_1950094.tif',\n",
       " 'dev-et-data/out/DelawareRiverBasin/Run12_24_2020/run_drb150_1224_bigs_chip39.84N-73.72E_o/1950/etasw_1950095.tif',\n",
       " 'dev-et-data/out/DelawareRiverBasin/Run12_24_2020/run_drb150_1224_bigs_chip39.84N-73.72E_o/1950/etasw_1950096.tif',\n",
       " 'dev-et-data/out/DelawareRiverBasin/Run12_24_2020/run_drb150_1224_bigs_chip39.84N-73.72E_o/1950/etasw_1950097.tif',\n",
       " 'dev-et-data/out/DelawareRiverBasin/Run12_24_2020/run_drb150_1224_bigs_chip39.84N-73.72E_o/1950/etasw_1950098.tif',\n",
       " 'dev-et-data/out/DelawareRiverBasin/Run12_24_2020/run_drb150_1224_bigs_chip39.84N-73.72E_o/1950/etasw_1950099.tif',\n",
       " 'dev-et-data/out/DelawareRiverBasin/Run12_24_2020/run_drb150_1224_bigs_chip39.84N-73.72E_o/1950/etasw_195010.tif',\n",
       " 'dev-et-data/out/DelawareRiverBasin/Run12_24_2020/run_drb150_1224_bigs_chip39.84N-73.72E_o/1950/etasw_1950100.tif',\n",
       " 'dev-et-data/out/DelawareRiverBasin/Run12_24_2020/run_drb150_1224_bigs_chip39.84N-73.72E_o/1950/etasw_1950101.tif',\n",
       " 'dev-et-data/out/DelawareRiverBasin/Run12_24_2020/run_drb150_1224_bigs_chip39.84N-73.72E_o/1950/etasw_1950102.tif',\n",
       " 'dev-et-data/out/DelawareRiverBasin/Run12_24_2020/run_drb150_1224_bigs_chip39.84N-73.72E_o/1950/etasw_1950103.tif',\n",
       " 'dev-et-data/out/DelawareRiverBasin/Run12_24_2020/run_drb150_1224_bigs_chip39.84N-73.72E_o/1950/etasw_1950104.tif',\n",
       " 'dev-et-data/out/DelawareRiverBasin/Run12_24_2020/run_drb150_1224_bigs_chip39.84N-73.72E_o/1950/etasw_1950105.tif',\n",
       " 'dev-et-data/out/DelawareRiverBasin/Run12_24_2020/run_drb150_1224_bigs_chip39.84N-73.72E_o/1950/etasw_1950106.tif',\n",
       " 'dev-et-data/out/DelawareRiverBasin/Run12_24_2020/run_drb150_1224_bigs_chip39.84N-73.72E_o/1950/etasw_1950107.tif',\n",
       " 'dev-et-data/out/DelawareRiverBasin/Run12_24_2020/run_drb150_1224_bigs_chip39.84N-73.72E_o/1950/etasw_1950108.tif',\n",
       " 'dev-et-data/out/DelawareRiverBasin/Run12_24_2020/run_drb150_1224_bigs_chip39.84N-73.72E_o/1950/etasw_1950109.tif',\n",
       " 'dev-et-data/out/DelawareRiverBasin/Run12_24_2020/run_drb150_1224_bigs_chip39.84N-73.72E_o/1950/etasw_195011.tif',\n",
       " 'dev-et-data/out/DelawareRiverBasin/Run12_24_2020/run_drb150_1224_bigs_chip39.84N-73.72E_o/1950/etasw_1950110.tif',\n",
       " 'dev-et-data/out/DelawareRiverBasin/Run12_24_2020/run_drb150_1224_bigs_chip39.84N-73.72E_o/1950/etasw_1950111.tif',\n",
       " 'dev-et-data/out/DelawareRiverBasin/Run12_24_2020/run_drb150_1224_bigs_chip39.84N-73.72E_o/1950/etasw_1950112.tif',\n",
       " 'dev-et-data/out/DelawareRiverBasin/Run12_24_2020/run_drb150_1224_bigs_chip39.84N-73.72E_o/1950/etasw_1950113.tif',\n",
       " 'dev-et-data/out/DelawareRiverBasin/Run12_24_2020/run_drb150_1224_bigs_chip39.84N-73.72E_o/1950/etasw_1950114.tif',\n",
       " 'dev-et-data/out/DelawareRiverBasin/Run12_24_2020/run_drb150_1224_bigs_chip39.84N-73.72E_o/1950/etasw_1950115.tif',\n",
       " 'dev-et-data/out/DelawareRiverBasin/Run12_24_2020/run_drb150_1224_bigs_chip39.84N-73.72E_o/1950/etasw_1950116.tif',\n",
       " 'dev-et-data/out/DelawareRiverBasin/Run12_24_2020/run_drb150_1224_bigs_chip39.84N-73.72E_o/1950/etasw_1950117.tif',\n",
       " 'dev-et-data/out/DelawareRiverBasin/Run12_24_2020/run_drb150_1224_bigs_chip39.84N-73.72E_o/1950/etasw_1950118.tif',\n",
       " 'dev-et-data/out/DelawareRiverBasin/Run12_24_2020/run_drb150_1224_bigs_chip39.84N-73.72E_o/1950/etasw_1950119.tif',\n",
       " 'dev-et-data/out/DelawareRiverBasin/Run12_24_2020/run_drb150_1224_bigs_chip39.84N-73.72E_o/1950/etasw_195012.tif',\n",
       " 'dev-et-data/out/DelawareRiverBasin/Run12_24_2020/run_drb150_1224_bigs_chip39.84N-73.72E_o/1950/etasw_1950120.tif',\n",
       " 'dev-et-data/out/DelawareRiverBasin/Run12_24_2020/run_drb150_1224_bigs_chip39.84N-73.72E_o/1950/etasw_1950121.tif',\n",
       " 'dev-et-data/out/DelawareRiverBasin/Run12_24_2020/run_drb150_1224_bigs_chip39.84N-73.72E_o/1950/etasw_1950122.tif',\n",
       " 'dev-et-data/out/DelawareRiverBasin/Run12_24_2020/run_drb150_1224_bigs_chip39.84N-73.72E_o/1950/etasw_1950123.tif',\n",
       " 'dev-et-data/out/DelawareRiverBasin/Run12_24_2020/run_drb150_1224_bigs_chip39.84N-73.72E_o/1950/etasw_1950124.tif',\n",
       " 'dev-et-data/out/DelawareRiverBasin/Run12_24_2020/run_drb150_1224_bigs_chip39.84N-73.72E_o/1950/etasw_1950125.tif',\n",
       " 'dev-et-data/out/DelawareRiverBasin/Run12_24_2020/run_drb150_1224_bigs_chip39.84N-73.72E_o/1950/etasw_1950126.tif',\n",
       " 'dev-et-data/out/DelawareRiverBasin/Run12_24_2020/run_drb150_1224_bigs_chip39.84N-73.72E_o/1950/etasw_1950127.tif',\n",
       " 'dev-et-data/out/DelawareRiverBasin/Run12_24_2020/run_drb150_1224_bigs_chip39.84N-73.72E_o/1950/etasw_1950128.tif',\n",
       " 'dev-et-data/out/DelawareRiverBasin/Run12_24_2020/run_drb150_1224_bigs_chip39.84N-73.72E_o/1950/etasw_1950129.tif',\n",
       " 'dev-et-data/out/DelawareRiverBasin/Run12_24_2020/run_drb150_1224_bigs_chip39.84N-73.72E_o/1950/etasw_1950130.tif',\n",
       " 'dev-et-data/out/DelawareRiverBasin/Run12_24_2020/run_drb150_1224_bigs_chip39.84N-73.72E_o/1950/etasw_1950131.tif',\n",
       " 'dev-et-data/out/DelawareRiverBasin/Run12_24_2020/run_drb150_1224_bigs_chip39.84N-73.72E_o/1950/etasw_1950132.tif',\n",
       " 'dev-et-data/out/DelawareRiverBasin/Run12_24_2020/run_drb150_1224_bigs_chip39.84N-73.72E_o/1950/etasw_1950133.tif',\n",
       " 'dev-et-data/out/DelawareRiverBasin/Run12_24_2020/run_drb150_1224_bigs_chip39.84N-73.72E_o/1950/etasw_1950134.tif',\n",
       " 'dev-et-data/out/DelawareRiverBasin/Run12_24_2020/run_drb150_1224_bigs_chip39.84N-73.72E_o/1950/etasw_1950135.tif',\n",
       " 'dev-et-data/out/DelawareRiverBasin/Run12_24_2020/run_drb150_1224_bigs_chip39.84N-73.72E_o/1950/etasw_1950136.tif',\n",
       " 'dev-et-data/out/DelawareRiverBasin/Run12_24_2020/run_drb150_1224_bigs_chip39.84N-73.72E_o/1950/etasw_1950137.tif',\n",
       " 'dev-et-data/out/DelawareRiverBasin/Run12_24_2020/run_drb150_1224_bigs_chip39.84N-73.72E_o/1950/etasw_1950138.tif',\n",
       " 'dev-et-data/out/DelawareRiverBasin/Run12_24_2020/run_drb150_1224_bigs_chip39.84N-73.72E_o/1950/etasw_1950139.tif',\n",
       " 'dev-et-data/out/DelawareRiverBasin/Run12_24_2020/run_drb150_1224_bigs_chip39.84N-73.72E_o/1950/etasw_1950140.tif',\n",
       " 'dev-et-data/out/DelawareRiverBasin/Run12_24_2020/run_drb150_1224_bigs_chip39.84N-73.72E_o/1950/etasw_1950141.tif',\n",
       " 'dev-et-data/out/DelawareRiverBasin/Run12_24_2020/run_drb150_1224_bigs_chip39.84N-73.72E_o/1950/etasw_1950142.tif',\n",
       " 'dev-et-data/out/DelawareRiverBasin/Run12_24_2020/run_drb150_1224_bigs_chip39.84N-73.72E_o/1950/etasw_1950143.tif',\n",
       " 'dev-et-data/out/DelawareRiverBasin/Run12_24_2020/run_drb150_1224_bigs_chip39.84N-73.72E_o/1950/etasw_1950144.tif',\n",
       " 'dev-et-data/out/DelawareRiverBasin/Run12_24_2020/run_drb150_1224_bigs_chip39.84N-73.72E_o/1950/etasw_1950145.tif',\n",
       " 'dev-et-data/out/DelawareRiverBasin/Run12_24_2020/run_drb150_1224_bigs_chip39.84N-73.72E_o/1950/etasw_1950146.tif',\n",
       " 'dev-et-data/out/DelawareRiverBasin/Run12_24_2020/run_drb150_1224_bigs_chip39.84N-73.72E_o/1950/etasw_1950147.tif',\n",
       " 'dev-et-data/out/DelawareRiverBasin/Run12_24_2020/run_drb150_1224_bigs_chip39.84N-73.72E_o/1950/etasw_1950148.tif',\n",
       " 'dev-et-data/out/DelawareRiverBasin/Run12_24_2020/run_drb150_1224_bigs_chip39.84N-73.72E_o/1950/etasw_1950149.tif',\n",
       " 'dev-et-data/out/DelawareRiverBasin/Run12_24_2020/run_drb150_1224_bigs_chip39.84N-73.72E_o/1950/etasw_1950150.tif',\n",
       " 'dev-et-data/out/DelawareRiverBasin/Run12_24_2020/run_drb150_1224_bigs_chip39.84N-73.72E_o/1950/etasw_1950151.tif',\n",
       " 'dev-et-data/out/DelawareRiverBasin/Run12_24_2020/run_drb150_1224_bigs_chip39.84N-73.72E_o/1950/etasw_1950152.tif',\n",
       " 'dev-et-data/out/DelawareRiverBasin/Run12_24_2020/run_drb150_1224_bigs_chip39.84N-73.72E_o/1950/etasw_1950153.tif',\n",
       " 'dev-et-data/out/DelawareRiverBasin/Run12_24_2020/run_drb150_1224_bigs_chip39.84N-73.72E_o/1950/etasw_1950154.tif',\n",
       " 'dev-et-data/out/DelawareRiverBasin/Run12_24_2020/run_drb150_1224_bigs_chip39.84N-73.72E_o/1950/etasw_1950155.tif',\n",
       " 'dev-et-data/out/DelawareRiverBasin/Run12_24_2020/run_drb150_1224_bigs_chip39.84N-73.72E_o/1950/etasw_1950156.tif',\n",
       " 'dev-et-data/out/DelawareRiverBasin/Run12_24_2020/run_drb150_1224_bigs_chip39.84N-73.72E_o/1950/etasw_1950157.tif',\n",
       " 'dev-et-data/out/DelawareRiverBasin/Run12_24_2020/run_drb150_1224_bigs_chip39.84N-73.72E_o/1950/etasw_1950158.tif',\n",
       " 'dev-et-data/out/DelawareRiverBasin/Run12_24_2020/run_drb150_1224_bigs_chip39.84N-73.72E_o/1950/etasw_1950159.tif',\n",
       " 'dev-et-data/out/DelawareRiverBasin/Run12_24_2020/run_drb150_1224_bigs_chip39.84N-73.72E_o/1950/etasw_1950160.tif',\n",
       " 'dev-et-data/out/DelawareRiverBasin/Run12_24_2020/run_drb150_1224_bigs_chip39.84N-73.72E_o/1950/etasw_1950161.tif',\n",
       " 'dev-et-data/out/DelawareRiverBasin/Run12_24_2020/run_drb150_1224_bigs_chip39.84N-73.72E_o/1950/etasw_1950162.tif',\n",
       " 'dev-et-data/out/DelawareRiverBasin/Run12_24_2020/run_drb150_1224_bigs_chip39.84N-73.72E_o/1950/etasw_1950163.tif',\n",
       " 'dev-et-data/out/DelawareRiverBasin/Run12_24_2020/run_drb150_1224_bigs_chip39.84N-73.72E_o/1950/etasw_1950164.tif',\n",
       " 'dev-et-data/out/DelawareRiverBasin/Run12_24_2020/run_drb150_1224_bigs_chip39.84N-73.72E_o/1950/etasw_1950165.tif',\n",
       " 'dev-et-data/out/DelawareRiverBasin/Run12_24_2020/run_drb150_1224_bigs_chip39.84N-73.72E_o/1950/etasw_1950166.tif',\n",
       " 'dev-et-data/out/DelawareRiverBasin/Run12_24_2020/run_drb150_1224_bigs_chip39.84N-73.72E_o/1950/etasw_1950167.tif',\n",
       " 'dev-et-data/out/DelawareRiverBasin/Run12_24_2020/run_drb150_1224_bigs_chip39.84N-73.72E_o/1950/etasw_1950168.tif',\n",
       " 'dev-et-data/out/DelawareRiverBasin/Run12_24_2020/run_drb150_1224_bigs_chip39.84N-73.72E_o/1950/etasw_1950169.tif',\n",
       " 'dev-et-data/out/DelawareRiverBasin/Run12_24_2020/run_drb150_1224_bigs_chip39.84N-73.72E_o/1950/etasw_1950170.tif',\n",
       " 'dev-et-data/out/DelawareRiverBasin/Run12_24_2020/run_drb150_1224_bigs_chip39.84N-73.72E_o/1950/etasw_1950171.tif',\n",
       " 'dev-et-data/out/DelawareRiverBasin/Run12_24_2020/run_drb150_1224_bigs_chip39.84N-73.72E_o/1950/etasw_1950172.tif',\n",
       " 'dev-et-data/out/DelawareRiverBasin/Run12_24_2020/run_drb150_1224_bigs_chip39.84N-73.72E_o/1950/etasw_1950173.tif',\n",
       " 'dev-et-data/out/DelawareRiverBasin/Run12_24_2020/run_drb150_1224_bigs_chip39.84N-73.72E_o/1950/etasw_1950174.tif',\n",
       " 'dev-et-data/out/DelawareRiverBasin/Run12_24_2020/run_drb150_1224_bigs_chip39.84N-73.72E_o/1950/etasw_1950175.tif',\n",
       " 'dev-et-data/out/DelawareRiverBasin/Run12_24_2020/run_drb150_1224_bigs_chip39.84N-73.72E_o/1950/etasw_1950176.tif',\n",
       " 'dev-et-data/out/DelawareRiverBasin/Run12_24_2020/run_drb150_1224_bigs_chip39.84N-73.72E_o/1950/etasw_1950177.tif',\n",
       " 'dev-et-data/out/DelawareRiverBasin/Run12_24_2020/run_drb150_1224_bigs_chip39.84N-73.72E_o/1950/etasw_1950178.tif',\n",
       " 'dev-et-data/out/DelawareRiverBasin/Run12_24_2020/run_drb150_1224_bigs_chip39.84N-73.72E_o/1950/etasw_1950179.tif',\n",
       " 'dev-et-data/out/DelawareRiverBasin/Run12_24_2020/run_drb150_1224_bigs_chip39.84N-73.72E_o/1950/etasw_1950180.tif',\n",
       " 'dev-et-data/out/DelawareRiverBasin/Run12_24_2020/run_drb150_1224_bigs_chip39.84N-73.72E_o/1950/etasw_1950181.tif',\n",
       " 'dev-et-data/out/DelawareRiverBasin/Run12_24_2020/run_drb150_1224_bigs_chip39.84N-73.72E_o/1950/etasw_1950182.tif',\n",
       " 'dev-et-data/out/DelawareRiverBasin/Run12_24_2020/run_drb150_1224_bigs_chip39.84N-73.72E_o/1950/etasw_1950183.tif',\n",
       " 'dev-et-data/out/DelawareRiverBasin/Run12_24_2020/run_drb150_1224_bigs_chip39.84N-73.72E_o/1950/etasw_1950184.tif',\n",
       " 'dev-et-data/out/DelawareRiverBasin/Run12_24_2020/run_drb150_1224_bigs_chip39.84N-73.72E_o/1950/etasw_1950185.tif',\n",
       " 'dev-et-data/out/DelawareRiverBasin/Run12_24_2020/run_drb150_1224_bigs_chip39.84N-73.72E_o/1950/etasw_1950186.tif',\n",
       " 'dev-et-data/out/DelawareRiverBasin/Run12_24_2020/run_drb150_1224_bigs_chip39.84N-73.72E_o/1950/etasw_1950187.tif',\n",
       " 'dev-et-data/out/DelawareRiverBasin/Run12_24_2020/run_drb150_1224_bigs_chip39.84N-73.72E_o/1950/etasw_1950188.tif',\n",
       " 'dev-et-data/out/DelawareRiverBasin/Run12_24_2020/run_drb150_1224_bigs_chip39.84N-73.72E_o/1950/etasw_1950189.tif',\n",
       " 'dev-et-data/out/DelawareRiverBasin/Run12_24_2020/run_drb150_1224_bigs_chip39.84N-73.72E_o/1950/etasw_1950190.tif',\n",
       " 'dev-et-data/out/DelawareRiverBasin/Run12_24_2020/run_drb150_1224_bigs_chip39.84N-73.72E_o/1950/etasw_1950191.tif',\n",
       " 'dev-et-data/out/DelawareRiverBasin/Run12_24_2020/run_drb150_1224_bigs_chip39.84N-73.72E_o/1950/etasw_1950192.tif',\n",
       " 'dev-et-data/out/DelawareRiverBasin/Run12_24_2020/run_drb150_1224_bigs_chip39.84N-73.72E_o/1950/etasw_1950193.tif',\n",
       " 'dev-et-data/out/DelawareRiverBasin/Run12_24_2020/run_drb150_1224_bigs_chip39.84N-73.72E_o/1950/etasw_1950194.tif',\n",
       " 'dev-et-data/out/DelawareRiverBasin/Run12_24_2020/run_drb150_1224_bigs_chip39.84N-73.72E_o/1950/etasw_1950195.tif',\n",
       " 'dev-et-data/out/DelawareRiverBasin/Run12_24_2020/run_drb150_1224_bigs_chip39.84N-73.72E_o/1950/etasw_1950196.tif',\n",
       " 'dev-et-data/out/DelawareRiverBasin/Run12_24_2020/run_drb150_1224_bigs_chip39.84N-73.72E_o/1950/etasw_1950197.tif',\n",
       " 'dev-et-data/out/DelawareRiverBasin/Run12_24_2020/run_drb150_1224_bigs_chip39.84N-73.72E_o/1950/etasw_1950198.tif',\n",
       " 'dev-et-data/out/DelawareRiverBasin/Run12_24_2020/run_drb150_1224_bigs_chip39.84N-73.72E_o/1950/etasw_1950199.tif',\n",
       " 'dev-et-data/out/DelawareRiverBasin/Run12_24_2020/run_drb150_1224_bigs_chip39.84N-73.72E_o/1950/etasw_1950200.tif',\n",
       " 'dev-et-data/out/DelawareRiverBasin/Run12_24_2020/run_drb150_1224_bigs_chip39.84N-73.72E_o/1950/etasw_1950201.tif',\n",
       " 'dev-et-data/out/DelawareRiverBasin/Run12_24_2020/run_drb150_1224_bigs_chip39.84N-73.72E_o/1950/etasw_1950202.tif',\n",
       " 'dev-et-data/out/DelawareRiverBasin/Run12_24_2020/run_drb150_1224_bigs_chip39.84N-73.72E_o/1950/etasw_1950203.tif',\n",
       " 'dev-et-data/out/DelawareRiverBasin/Run12_24_2020/run_drb150_1224_bigs_chip39.84N-73.72E_o/1950/etasw_1950204.tif',\n",
       " 'dev-et-data/out/DelawareRiverBasin/Run12_24_2020/run_drb150_1224_bigs_chip39.84N-73.72E_o/1950/etasw_1950205.tif',\n",
       " 'dev-et-data/out/DelawareRiverBasin/Run12_24_2020/run_drb150_1224_bigs_chip39.84N-73.72E_o/1950/etasw_1950206.tif',\n",
       " 'dev-et-data/out/DelawareRiverBasin/Run12_24_2020/run_drb150_1224_bigs_chip39.84N-73.72E_o/1950/etasw_1950207.tif',\n",
       " 'dev-et-data/out/DelawareRiverBasin/Run12_24_2020/run_drb150_1224_bigs_chip39.84N-73.72E_o/1950/etasw_1950208.tif',\n",
       " 'dev-et-data/out/DelawareRiverBasin/Run12_24_2020/run_drb150_1224_bigs_chip39.84N-73.72E_o/1950/etasw_1950209.tif',\n",
       " 'dev-et-data/out/DelawareRiverBasin/Run12_24_2020/run_drb150_1224_bigs_chip39.84N-73.72E_o/1950/etasw_1950210.tif',\n",
       " 'dev-et-data/out/DelawareRiverBasin/Run12_24_2020/run_drb150_1224_bigs_chip39.84N-73.72E_o/1950/etasw_1950211.tif',\n",
       " 'dev-et-data/out/DelawareRiverBasin/Run12_24_2020/run_drb150_1224_bigs_chip39.84N-73.72E_o/1950/etasw_1950212.tif',\n",
       " 'dev-et-data/out/DelawareRiverBasin/Run12_24_2020/run_drb150_1224_bigs_chip39.84N-73.72E_o/1950/etasw_1950213.tif',\n",
       " 'dev-et-data/out/DelawareRiverBasin/Run12_24_2020/run_drb150_1224_bigs_chip39.84N-73.72E_o/1950/etasw_1950214.tif',\n",
       " 'dev-et-data/out/DelawareRiverBasin/Run12_24_2020/run_drb150_1224_bigs_chip39.84N-73.72E_o/1950/etasw_1950215.tif',\n",
       " 'dev-et-data/out/DelawareRiverBasin/Run12_24_2020/run_drb150_1224_bigs_chip39.84N-73.72E_o/1950/etasw_1950216.tif',\n",
       " 'dev-et-data/out/DelawareRiverBasin/Run12_24_2020/run_drb150_1224_bigs_chip39.84N-73.72E_o/1950/etasw_1950217.tif',\n",
       " 'dev-et-data/out/DelawareRiverBasin/Run12_24_2020/run_drb150_1224_bigs_chip39.84N-73.72E_o/1950/etasw_1950218.tif',\n",
       " 'dev-et-data/out/DelawareRiverBasin/Run12_24_2020/run_drb150_1224_bigs_chip39.84N-73.72E_o/1950/etasw_1950219.tif',\n",
       " 'dev-et-data/out/DelawareRiverBasin/Run12_24_2020/run_drb150_1224_bigs_chip39.84N-73.72E_o/1950/etasw_1950220.tif',\n",
       " 'dev-et-data/out/DelawareRiverBasin/Run12_24_2020/run_drb150_1224_bigs_chip39.84N-73.72E_o/1950/etasw_1950221.tif',\n",
       " 'dev-et-data/out/DelawareRiverBasin/Run12_24_2020/run_drb150_1224_bigs_chip39.84N-73.72E_o/1950/etasw_1950222.tif',\n",
       " 'dev-et-data/out/DelawareRiverBasin/Run12_24_2020/run_drb150_1224_bigs_chip39.84N-73.72E_o/1950/etasw_1950223.tif',\n",
       " 'dev-et-data/out/DelawareRiverBasin/Run12_24_2020/run_drb150_1224_bigs_chip39.84N-73.72E_o/1950/etasw_1950224.tif',\n",
       " 'dev-et-data/out/DelawareRiverBasin/Run12_24_2020/run_drb150_1224_bigs_chip39.84N-73.72E_o/1950/etasw_1950225.tif',\n",
       " 'dev-et-data/out/DelawareRiverBasin/Run12_24_2020/run_drb150_1224_bigs_chip39.84N-73.72E_o/1950/etasw_1950226.tif',\n",
       " 'dev-et-data/out/DelawareRiverBasin/Run12_24_2020/run_drb150_1224_bigs_chip39.84N-73.72E_o/1950/etasw_1950227.tif',\n",
       " 'dev-et-data/out/DelawareRiverBasin/Run12_24_2020/run_drb150_1224_bigs_chip39.84N-73.72E_o/1950/etasw_1950228.tif',\n",
       " 'dev-et-data/out/DelawareRiverBasin/Run12_24_2020/run_drb150_1224_bigs_chip39.84N-73.72E_o/1950/etasw_1950229.tif',\n",
       " 'dev-et-data/out/DelawareRiverBasin/Run12_24_2020/run_drb150_1224_bigs_chip39.84N-73.72E_o/1950/etasw_1950230.tif',\n",
       " 'dev-et-data/out/DelawareRiverBasin/Run12_24_2020/run_drb150_1224_bigs_chip39.84N-73.72E_o/1950/etasw_1950231.tif',\n",
       " 'dev-et-data/out/DelawareRiverBasin/Run12_24_2020/run_drb150_1224_bigs_chip39.84N-73.72E_o/1950/etasw_1950232.tif',\n",
       " 'dev-et-data/out/DelawareRiverBasin/Run12_24_2020/run_drb150_1224_bigs_chip39.84N-73.72E_o/1950/etasw_1950233.tif',\n",
       " 'dev-et-data/out/DelawareRiverBasin/Run12_24_2020/run_drb150_1224_bigs_chip39.84N-73.72E_o/1950/etasw_1950234.tif',\n",
       " 'dev-et-data/out/DelawareRiverBasin/Run12_24_2020/run_drb150_1224_bigs_chip39.84N-73.72E_o/1950/etasw_1950235.tif',\n",
       " 'dev-et-data/out/DelawareRiverBasin/Run12_24_2020/run_drb150_1224_bigs_chip39.84N-73.72E_o/1950/etasw_1950236.tif',\n",
       " 'dev-et-data/out/DelawareRiverBasin/Run12_24_2020/run_drb150_1224_bigs_chip39.84N-73.72E_o/1950/etasw_1950237.tif',\n",
       " 'dev-et-data/out/DelawareRiverBasin/Run12_24_2020/run_drb150_1224_bigs_chip39.84N-73.72E_o/1950/etasw_1950238.tif',\n",
       " 'dev-et-data/out/DelawareRiverBasin/Run12_24_2020/run_drb150_1224_bigs_chip39.84N-73.72E_o/1950/etasw_1950239.tif',\n",
       " 'dev-et-data/out/DelawareRiverBasin/Run12_24_2020/run_drb150_1224_bigs_chip39.84N-73.72E_o/1950/etasw_1950240.tif',\n",
       " 'dev-et-data/out/DelawareRiverBasin/Run12_24_2020/run_drb150_1224_bigs_chip39.84N-73.72E_o/1950/etasw_1950241.tif',\n",
       " 'dev-et-data/out/DelawareRiverBasin/Run12_24_2020/run_drb150_1224_bigs_chip39.84N-73.72E_o/1950/etasw_1950242.tif',\n",
       " 'dev-et-data/out/DelawareRiverBasin/Run12_24_2020/run_drb150_1224_bigs_chip39.84N-73.72E_o/1950/etasw_1950243.tif',\n",
       " 'dev-et-data/out/DelawareRiverBasin/Run12_24_2020/run_drb150_1224_bigs_chip39.84N-73.72E_o/1950/etasw_1950244.tif',\n",
       " 'dev-et-data/out/DelawareRiverBasin/Run12_24_2020/run_drb150_1224_bigs_chip39.84N-73.72E_o/1950/etasw_1950245.tif',\n",
       " 'dev-et-data/out/DelawareRiverBasin/Run12_24_2020/run_drb150_1224_bigs_chip39.84N-73.72E_o/1950/etasw_1950246.tif',\n",
       " 'dev-et-data/out/DelawareRiverBasin/Run12_24_2020/run_drb150_1224_bigs_chip39.84N-73.72E_o/1950/etasw_1950247.tif',\n",
       " 'dev-et-data/out/DelawareRiverBasin/Run12_24_2020/run_drb150_1224_bigs_chip39.84N-73.72E_o/1950/etasw_1950248.tif',\n",
       " 'dev-et-data/out/DelawareRiverBasin/Run12_24_2020/run_drb150_1224_bigs_chip39.84N-73.72E_o/1950/etasw_1950249.tif',\n",
       " 'dev-et-data/out/DelawareRiverBasin/Run12_24_2020/run_drb150_1224_bigs_chip39.84N-73.72E_o/1950/etasw_1950250.tif',\n",
       " 'dev-et-data/out/DelawareRiverBasin/Run12_24_2020/run_drb150_1224_bigs_chip39.84N-73.72E_o/1950/etasw_1950251.tif',\n",
       " 'dev-et-data/out/DelawareRiverBasin/Run12_24_2020/run_drb150_1224_bigs_chip39.84N-73.72E_o/1950/etasw_1950252.tif',\n",
       " 'dev-et-data/out/DelawareRiverBasin/Run12_24_2020/run_drb150_1224_bigs_chip39.84N-73.72E_o/1950/etasw_1950253.tif',\n",
       " 'dev-et-data/out/DelawareRiverBasin/Run12_24_2020/run_drb150_1224_bigs_chip39.84N-73.72E_o/1950/etasw_1950254.tif',\n",
       " 'dev-et-data/out/DelawareRiverBasin/Run12_24_2020/run_drb150_1224_bigs_chip39.84N-73.72E_o/1950/etasw_1950255.tif',\n",
       " 'dev-et-data/out/DelawareRiverBasin/Run12_24_2020/run_drb150_1224_bigs_chip39.84N-73.72E_o/1950/etasw_1950256.tif',\n",
       " 'dev-et-data/out/DelawareRiverBasin/Run12_24_2020/run_drb150_1224_bigs_chip39.84N-73.72E_o/1950/etasw_1950257.tif',\n",
       " 'dev-et-data/out/DelawareRiverBasin/Run12_24_2020/run_drb150_1224_bigs_chip39.84N-73.72E_o/1950/etasw_1950258.tif',\n",
       " 'dev-et-data/out/DelawareRiverBasin/Run12_24_2020/run_drb150_1224_bigs_chip39.84N-73.72E_o/1950/etasw_1950259.tif',\n",
       " 'dev-et-data/out/DelawareRiverBasin/Run12_24_2020/run_drb150_1224_bigs_chip39.84N-73.72E_o/1950/etasw_1950260.tif',\n",
       " 'dev-et-data/out/DelawareRiverBasin/Run12_24_2020/run_drb150_1224_bigs_chip39.84N-73.72E_o/1950/etasw_1950261.tif',\n",
       " 'dev-et-data/out/DelawareRiverBasin/Run12_24_2020/run_drb150_1224_bigs_chip39.84N-73.72E_o/1950/etasw_1950262.tif',\n",
       " 'dev-et-data/out/DelawareRiverBasin/Run12_24_2020/run_drb150_1224_bigs_chip39.84N-73.72E_o/1950/etasw_1950263.tif',\n",
       " 'dev-et-data/out/DelawareRiverBasin/Run12_24_2020/run_drb150_1224_bigs_chip39.84N-73.72E_o/1950/etasw_1950264.tif',\n",
       " 'dev-et-data/out/DelawareRiverBasin/Run12_24_2020/run_drb150_1224_bigs_chip39.84N-73.72E_o/1950/etasw_1950265.tif',\n",
       " 'dev-et-data/out/DelawareRiverBasin/Run12_24_2020/run_drb150_1224_bigs_chip39.84N-73.72E_o/1950/etasw_1950266.tif',\n",
       " 'dev-et-data/out/DelawareRiverBasin/Run12_24_2020/run_drb150_1224_bigs_chip39.84N-73.72E_o/1950/etasw_1950267.tif',\n",
       " 'dev-et-data/out/DelawareRiverBasin/Run12_24_2020/run_drb150_1224_bigs_chip39.84N-73.72E_o/1950/etasw_1950268.tif',\n",
       " 'dev-et-data/out/DelawareRiverBasin/Run12_24_2020/run_drb150_1224_bigs_chip39.84N-73.72E_o/1950/etasw_1950269.tif',\n",
       " 'dev-et-data/out/DelawareRiverBasin/Run12_24_2020/run_drb150_1224_bigs_chip39.84N-73.72E_o/1950/etasw_1950270.tif',\n",
       " 'dev-et-data/out/DelawareRiverBasin/Run12_24_2020/run_drb150_1224_bigs_chip39.84N-73.72E_o/1950/etasw_1950271.tif',\n",
       " 'dev-et-data/out/DelawareRiverBasin/Run12_24_2020/run_drb150_1224_bigs_chip39.84N-73.72E_o/1950/etasw_1950272.tif',\n",
       " 'dev-et-data/out/DelawareRiverBasin/Run12_24_2020/run_drb150_1224_bigs_chip39.84N-73.72E_o/1950/etasw_1950273.tif',\n",
       " 'dev-et-data/out/DelawareRiverBasin/Run12_24_2020/run_drb150_1224_bigs_chip39.84N-73.72E_o/1950/etasw_1950274.tif',\n",
       " 'dev-et-data/out/DelawareRiverBasin/Run12_24_2020/run_drb150_1224_bigs_chip39.84N-73.72E_o/1950/etasw_1950275.tif',\n",
       " 'dev-et-data/out/DelawareRiverBasin/Run12_24_2020/run_drb150_1224_bigs_chip39.84N-73.72E_o/1950/etasw_1950276.tif',\n",
       " 'dev-et-data/out/DelawareRiverBasin/Run12_24_2020/run_drb150_1224_bigs_chip39.84N-73.72E_o/1950/etasw_1950277.tif',\n",
       " 'dev-et-data/out/DelawareRiverBasin/Run12_24_2020/run_drb150_1224_bigs_chip39.84N-73.72E_o/1950/etasw_1950278.tif',\n",
       " 'dev-et-data/out/DelawareRiverBasin/Run12_24_2020/run_drb150_1224_bigs_chip39.84N-73.72E_o/1950/etasw_1950279.tif',\n",
       " 'dev-et-data/out/DelawareRiverBasin/Run12_24_2020/run_drb150_1224_bigs_chip39.84N-73.72E_o/1950/etasw_1950280.tif',\n",
       " 'dev-et-data/out/DelawareRiverBasin/Run12_24_2020/run_drb150_1224_bigs_chip39.84N-73.72E_o/1950/etasw_1950281.tif',\n",
       " 'dev-et-data/out/DelawareRiverBasin/Run12_24_2020/run_drb150_1224_bigs_chip39.84N-73.72E_o/1950/etasw_1950282.tif',\n",
       " 'dev-et-data/out/DelawareRiverBasin/Run12_24_2020/run_drb150_1224_bigs_chip39.84N-73.72E_o/1950/etasw_1950283.tif',\n",
       " 'dev-et-data/out/DelawareRiverBasin/Run12_24_2020/run_drb150_1224_bigs_chip39.84N-73.72E_o/1950/etasw_1950284.tif',\n",
       " 'dev-et-data/out/DelawareRiverBasin/Run12_24_2020/run_drb150_1224_bigs_chip39.84N-73.72E_o/1950/etasw_1950285.tif',\n",
       " 'dev-et-data/out/DelawareRiverBasin/Run12_24_2020/run_drb150_1224_bigs_chip39.84N-73.72E_o/1950/etasw_1950286.tif',\n",
       " 'dev-et-data/out/DelawareRiverBasin/Run12_24_2020/run_drb150_1224_bigs_chip39.84N-73.72E_o/1950/etasw_1950287.tif',\n",
       " 'dev-et-data/out/DelawareRiverBasin/Run12_24_2020/run_drb150_1224_bigs_chip39.84N-73.72E_o/1950/etasw_1950288.tif',\n",
       " 'dev-et-data/out/DelawareRiverBasin/Run12_24_2020/run_drb150_1224_bigs_chip39.84N-73.72E_o/1950/etasw_1950289.tif',\n",
       " 'dev-et-data/out/DelawareRiverBasin/Run12_24_2020/run_drb150_1224_bigs_chip39.84N-73.72E_o/1950/etasw_1950290.tif',\n",
       " 'dev-et-data/out/DelawareRiverBasin/Run12_24_2020/run_drb150_1224_bigs_chip39.84N-73.72E_o/1950/etasw_1950291.tif',\n",
       " 'dev-et-data/out/DelawareRiverBasin/Run12_24_2020/run_drb150_1224_bigs_chip39.84N-73.72E_o/1950/etasw_1950292.tif',\n",
       " 'dev-et-data/out/DelawareRiverBasin/Run12_24_2020/run_drb150_1224_bigs_chip39.84N-73.72E_o/1950/etasw_1950293.tif',\n",
       " 'dev-et-data/out/DelawareRiverBasin/Run12_24_2020/run_drb150_1224_bigs_chip39.84N-73.72E_o/1950/etasw_1950294.tif',\n",
       " 'dev-et-data/out/DelawareRiverBasin/Run12_24_2020/run_drb150_1224_bigs_chip39.84N-73.72E_o/1950/etasw_1950295.tif',\n",
       " 'dev-et-data/out/DelawareRiverBasin/Run12_24_2020/run_drb150_1224_bigs_chip39.84N-73.72E_o/1950/etasw_1950296.tif',\n",
       " 'dev-et-data/out/DelawareRiverBasin/Run12_24_2020/run_drb150_1224_bigs_chip39.84N-73.72E_o/1950/etasw_1950297.tif',\n",
       " 'dev-et-data/out/DelawareRiverBasin/Run12_24_2020/run_drb150_1224_bigs_chip39.84N-73.72E_o/1950/etasw_1950298.tif',\n",
       " 'dev-et-data/out/DelawareRiverBasin/Run12_24_2020/run_drb150_1224_bigs_chip39.84N-73.72E_o/1950/etasw_1950299.tif',\n",
       " 'dev-et-data/out/DelawareRiverBasin/Run12_24_2020/run_drb150_1224_bigs_chip39.84N-73.72E_o/1950/etasw_1950300.tif',\n",
       " 'dev-et-data/out/DelawareRiverBasin/Run12_24_2020/run_drb150_1224_bigs_chip39.84N-73.72E_o/1950/etasw_1950301.tif',\n",
       " 'dev-et-data/out/DelawareRiverBasin/Run12_24_2020/run_drb150_1224_bigs_chip39.84N-73.72E_o/1950/etasw_1950302.tif',\n",
       " 'dev-et-data/out/DelawareRiverBasin/Run12_24_2020/run_drb150_1224_bigs_chip39.84N-73.72E_o/1950/etasw_1950303.tif',\n",
       " 'dev-et-data/out/DelawareRiverBasin/Run12_24_2020/run_drb150_1224_bigs_chip39.84N-73.72E_o/1950/etasw_1950304.tif',\n",
       " 'dev-et-data/out/DelawareRiverBasin/Run12_24_2020/run_drb150_1224_bigs_chip39.84N-73.72E_o/1950/etasw_1950305.tif',\n",
       " 'dev-et-data/out/DelawareRiverBasin/Run12_24_2020/run_drb150_1224_bigs_chip39.84N-73.72E_o/1950/etasw_1950306.tif',\n",
       " 'dev-et-data/out/DelawareRiverBasin/Run12_24_2020/run_drb150_1224_bigs_chip39.84N-73.72E_o/1950/etasw_1950307.tif',\n",
       " 'dev-et-data/out/DelawareRiverBasin/Run12_24_2020/run_drb150_1224_bigs_chip39.84N-73.72E_o/1950/etasw_1950308.tif',\n",
       " 'dev-et-data/out/DelawareRiverBasin/Run12_24_2020/run_drb150_1224_bigs_chip39.84N-73.72E_o/1950/etasw_1950309.tif',\n",
       " 'dev-et-data/out/DelawareRiverBasin/Run12_24_2020/run_drb150_1224_bigs_chip39.84N-73.72E_o/1950/etasw_1950310.tif',\n",
       " 'dev-et-data/out/DelawareRiverBasin/Run12_24_2020/run_drb150_1224_bigs_chip39.84N-73.72E_o/1950/etasw_1950311.tif',\n",
       " 'dev-et-data/out/DelawareRiverBasin/Run12_24_2020/run_drb150_1224_bigs_chip39.84N-73.72E_o/1950/etasw_1950312.tif',\n",
       " 'dev-et-data/out/DelawareRiverBasin/Run12_24_2020/run_drb150_1224_bigs_chip39.84N-73.72E_o/1950/etasw_1950313.tif',\n",
       " 'dev-et-data/out/DelawareRiverBasin/Run12_24_2020/run_drb150_1224_bigs_chip39.84N-73.72E_o/1950/etasw_1950314.tif',\n",
       " 'dev-et-data/out/DelawareRiverBasin/Run12_24_2020/run_drb150_1224_bigs_chip39.84N-73.72E_o/1950/etasw_1950315.tif',\n",
       " 'dev-et-data/out/DelawareRiverBasin/Run12_24_2020/run_drb150_1224_bigs_chip39.84N-73.72E_o/1950/etasw_1950316.tif',\n",
       " 'dev-et-data/out/DelawareRiverBasin/Run12_24_2020/run_drb150_1224_bigs_chip39.84N-73.72E_o/1950/etasw_1950317.tif',\n",
       " 'dev-et-data/out/DelawareRiverBasin/Run12_24_2020/run_drb150_1224_bigs_chip39.84N-73.72E_o/1950/etasw_1950318.tif',\n",
       " 'dev-et-data/out/DelawareRiverBasin/Run12_24_2020/run_drb150_1224_bigs_chip39.84N-73.72E_o/1950/etasw_1950319.tif',\n",
       " 'dev-et-data/out/DelawareRiverBasin/Run12_24_2020/run_drb150_1224_bigs_chip39.84N-73.72E_o/1950/etasw_1950320.tif',\n",
       " 'dev-et-data/out/DelawareRiverBasin/Run12_24_2020/run_drb150_1224_bigs_chip39.84N-73.72E_o/1950/etasw_1950321.tif',\n",
       " 'dev-et-data/out/DelawareRiverBasin/Run12_24_2020/run_drb150_1224_bigs_chip39.84N-73.72E_o/1950/etasw_1950322.tif',\n",
       " 'dev-et-data/out/DelawareRiverBasin/Run12_24_2020/run_drb150_1224_bigs_chip39.84N-73.72E_o/1950/etasw_1950323.tif',\n",
       " 'dev-et-data/out/DelawareRiverBasin/Run12_24_2020/run_drb150_1224_bigs_chip39.84N-73.72E_o/1950/etasw_1950324.tif',\n",
       " 'dev-et-data/out/DelawareRiverBasin/Run12_24_2020/run_drb150_1224_bigs_chip39.84N-73.72E_o/1950/etasw_1950325.tif',\n",
       " 'dev-et-data/out/DelawareRiverBasin/Run12_24_2020/run_drb150_1224_bigs_chip39.84N-73.72E_o/1950/etasw_1950326.tif',\n",
       " 'dev-et-data/out/DelawareRiverBasin/Run12_24_2020/run_drb150_1224_bigs_chip39.84N-73.72E_o/1950/etasw_1950327.tif',\n",
       " 'dev-et-data/out/DelawareRiverBasin/Run12_24_2020/run_drb150_1224_bigs_chip39.84N-73.72E_o/1950/etasw_1950328.tif',\n",
       " 'dev-et-data/out/DelawareRiverBasin/Run12_24_2020/run_drb150_1224_bigs_chip39.84N-73.72E_o/1950/etasw_1950329.tif',\n",
       " 'dev-et-data/out/DelawareRiverBasin/Run12_24_2020/run_drb150_1224_bigs_chip39.84N-73.72E_o/1950/etasw_1950330.tif',\n",
       " 'dev-et-data/out/DelawareRiverBasin/Run12_24_2020/run_drb150_1224_bigs_chip39.84N-73.72E_o/1950/etasw_1950331.tif',\n",
       " 'dev-et-data/out/DelawareRiverBasin/Run12_24_2020/run_drb150_1224_bigs_chip39.84N-73.72E_o/1950/etasw_1950332.tif',\n",
       " 'dev-et-data/out/DelawareRiverBasin/Run12_24_2020/run_drb150_1224_bigs_chip39.84N-73.72E_o/1950/etasw_1950333.tif',\n",
       " 'dev-et-data/out/DelawareRiverBasin/Run12_24_2020/run_drb150_1224_bigs_chip39.84N-73.72E_o/1950/etasw_1950334.tif',\n",
       " 'dev-et-data/out/DelawareRiverBasin/Run12_24_2020/run_drb150_1224_bigs_chip39.84N-73.72E_o/1950/etasw_1950335.tif',\n",
       " 'dev-et-data/out/DelawareRiverBasin/Run12_24_2020/run_drb150_1224_bigs_chip39.84N-73.72E_o/1950/etasw_1950336.tif',\n",
       " 'dev-et-data/out/DelawareRiverBasin/Run12_24_2020/run_drb150_1224_bigs_chip39.84N-73.72E_o/1950/etasw_1950337.tif',\n",
       " 'dev-et-data/out/DelawareRiverBasin/Run12_24_2020/run_drb150_1224_bigs_chip39.84N-73.72E_o/1950/etasw_1950338.tif',\n",
       " 'dev-et-data/out/DelawareRiverBasin/Run12_24_2020/run_drb150_1224_bigs_chip39.84N-73.72E_o/1950/etasw_1950339.tif',\n",
       " 'dev-et-data/out/DelawareRiverBasin/Run12_24_2020/run_drb150_1224_bigs_chip39.84N-73.72E_o/1950/etasw_1950340.tif',\n",
       " 'dev-et-data/out/DelawareRiverBasin/Run12_24_2020/run_drb150_1224_bigs_chip39.84N-73.72E_o/1950/etasw_1950341.tif',\n",
       " 'dev-et-data/out/DelawareRiverBasin/Run12_24_2020/run_drb150_1224_bigs_chip39.84N-73.72E_o/1950/etasw_1950342.tif',\n",
       " 'dev-et-data/out/DelawareRiverBasin/Run12_24_2020/run_drb150_1224_bigs_chip39.84N-73.72E_o/1950/etasw_1950343.tif',\n",
       " 'dev-et-data/out/DelawareRiverBasin/Run12_24_2020/run_drb150_1224_bigs_chip39.84N-73.72E_o/1950/etasw_1950344.tif',\n",
       " 'dev-et-data/out/DelawareRiverBasin/Run12_24_2020/run_drb150_1224_bigs_chip39.84N-73.72E_o/1950/etasw_1950345.tif',\n",
       " 'dev-et-data/out/DelawareRiverBasin/Run12_24_2020/run_drb150_1224_bigs_chip39.84N-73.72E_o/1950/etasw_1950346.tif',\n",
       " 'dev-et-data/out/DelawareRiverBasin/Run12_24_2020/run_drb150_1224_bigs_chip39.84N-73.72E_o/1950/etasw_1950347.tif',\n",
       " 'dev-et-data/out/DelawareRiverBasin/Run12_24_2020/run_drb150_1224_bigs_chip39.84N-73.72E_o/1950/etasw_1950348.tif',\n",
       " 'dev-et-data/out/DelawareRiverBasin/Run12_24_2020/run_drb150_1224_bigs_chip39.84N-73.72E_o/1950/etasw_1950349.tif',\n",
       " 'dev-et-data/out/DelawareRiverBasin/Run12_24_2020/run_drb150_1224_bigs_chip39.84N-73.72E_o/1950/etasw_1950350.tif',\n",
       " 'dev-et-data/out/DelawareRiverBasin/Run12_24_2020/run_drb150_1224_bigs_chip39.84N-73.72E_o/1950/etasw_1950351.tif',\n",
       " 'dev-et-data/out/DelawareRiverBasin/Run12_24_2020/run_drb150_1224_bigs_chip39.84N-73.72E_o/1950/etasw_1950352.tif',\n",
       " 'dev-et-data/out/DelawareRiverBasin/Run12_24_2020/run_drb150_1224_bigs_chip39.84N-73.72E_o/1950/etasw_1950353.tif',\n",
       " 'dev-et-data/out/DelawareRiverBasin/Run12_24_2020/run_drb150_1224_bigs_chip39.84N-73.72E_o/1950/etasw_1950354.tif',\n",
       " 'dev-et-data/out/DelawareRiverBasin/Run12_24_2020/run_drb150_1224_bigs_chip39.84N-73.72E_o/1950/etasw_1950355.tif',\n",
       " 'dev-et-data/out/DelawareRiverBasin/Run12_24_2020/run_drb150_1224_bigs_chip39.84N-73.72E_o/1950/etasw_1950356.tif',\n",
       " 'dev-et-data/out/DelawareRiverBasin/Run12_24_2020/run_drb150_1224_bigs_chip39.84N-73.72E_o/1950/etasw_1950357.tif',\n",
       " 'dev-et-data/out/DelawareRiverBasin/Run12_24_2020/run_drb150_1224_bigs_chip39.84N-73.72E_o/1950/etasw_1950358.tif',\n",
       " 'dev-et-data/out/DelawareRiverBasin/Run12_24_2020/run_drb150_1224_bigs_chip39.84N-73.72E_o/1950/etasw_1950359.tif',\n",
       " 'dev-et-data/out/DelawareRiverBasin/Run12_24_2020/run_drb150_1224_bigs_chip39.84N-73.72E_o/1950/etasw_1950360.tif',\n",
       " 'dev-et-data/out/DelawareRiverBasin/Run12_24_2020/run_drb150_1224_bigs_chip39.84N-73.72E_o/1950/etasw_1950361.tif',\n",
       " 'dev-et-data/out/DelawareRiverBasin/Run12_24_2020/run_drb150_1224_bigs_chip39.84N-73.72E_o/1950/etasw_1950362.tif',\n",
       " 'dev-et-data/out/DelawareRiverBasin/Run12_24_2020/run_drb150_1224_bigs_chip39.84N-73.72E_o/1950/etasw_1950363.tif',\n",
       " 'dev-et-data/out/DelawareRiverBasin/Run12_24_2020/run_drb150_1224_bigs_chip39.84N-73.72E_o/1950/etasw_1950364.tif',\n",
       " 'dev-et-data/out/DelawareRiverBasin/Run12_24_2020/run_drb150_1224_bigs_chip39.84N-73.72E_o/1950/etasw_1950365.tif']"
      ]
     },
     "execution_count": 8,
     "metadata": {},
     "output_type": "execute_result"
    }
   ],
   "source": [
    "tif_list"
   ]
  },
  {
   "cell_type": "code",
   "execution_count": 9,
   "metadata": {},
   "outputs": [
    {
     "data": {
      "text/plain": [
       "'dev-et-data/out/DelawareRiverBasin/Run12_24_2020/run_drb150_1224_bigs_chip39.84N-73.72E_o/1950/etasw_1950001.tif'"
      ]
     },
     "execution_count": 9,
     "metadata": {},
     "output_type": "execute_result"
    }
   ],
   "source": [
    "tif_list[0]"
   ]
  },
  {
   "cell_type": "code",
   "execution_count": 10,
   "metadata": {},
   "outputs": [],
   "source": [
    "#! pip install --user folium"
   ]
  },
  {
   "cell_type": "code",
   "execution_count": 11,
   "metadata": {},
   "outputs": [],
   "source": [
    "import folium\n",
    "import geopandas as gpd\n",
    "tiles=\" http://mt1.google.com/vt/lyrs=y&z={z}&x={x}&y={y}\"\n",
    "attr=\"Google\"\n",
    "\n",
    "\n",
    "class Fmap():\n",
    "\n",
    "\tdef __init__(self,color='blue'):\n",
    "                print(\"creating Fmap class\")\n",
    "                self.color = color\n",
    "\n",
    "\tdef sat_geojson(self, geojson_bb_file):\n",
    "                \n",
    "                my_geo = gpd.read_file(geojson_bb_file)\n",
    "                center=my_geo.geometry[0].bounds[1], my_geo.geometry[0].bounds[0]\n",
    "                sw = center\n",
    "                ne = my_geo.geometry[0].bounds[3], my_geo.geometry[0].bounds[2]\n",
    "                map3 = folium.Map(location=center, zoom_start=12,center=center,tiles=tiles,attr=attr)\n",
    "                map3.fit_bounds([sw,ne])\n",
    "                my_geo_json = my_geo.to_json()\n",
    "                style_function= lambda x:{'color':self.color}\n",
    "                folium.GeoJson(my_geo_json,style_function).add_to(map3)\n",
    "                map3.add_child(folium.features.LatLngPopup())\n",
    "                #map3\n",
    "                return(map3)\n",
    "\n",
    "\tdef map_geojson(self, geojson_bb_file):\n",
    "                my_geo = gpd.read_file(geojson_bb_file)\n",
    "                center=my_geo.geometry[0].bounds[1], my_geo.geometry[0].bounds[0]\n",
    "                sw = center\n",
    "                ne = my_geo.geometry[0].bounds[3], my_geo.geometry[0].bounds[2]\n",
    "                map3 = folium.Map(location=center, zoom_start=12,center=center)\n",
    "                map3.fit_bounds([sw,ne])\n",
    "                my_geo_json = my_geo.to_json()\n",
    "                style_function= lambda x:{'color':self.color}\n",
    "                folium.GeoJson(my_geo_json,style_function).add_to(map3)\n",
    "                map3.add_child(folium.features.LatLngPopup())\n",
    "                #map3\n",
    "                return(map3)\n",
    "\n",
    "\tdef add_geojson(self, geojson_bb_file, map3, color='pink'):\n",
    "                my_geo = gpd.read_file(geojson_bb_file)\n",
    "                center=my_geo.geometry[0].bounds[1], my_geo.geometry[0].bounds[0]\n",
    "                sw = center\n",
    "                ne = my_geo.geometry[0].bounds[3], my_geo.geometry[0].bounds[2]\n",
    "                #map3 = folium.Map(location=center, zoom_start=12,center=center)\n",
    "                #map3.fit_bounds([sw,ne])\n",
    "                my_geo_json = my_geo.to_json()\n",
    "                style_function= lambda x:{'color':color}\n",
    "                folium.GeoJson(my_geo_json,style_function).add_to(map3)\n",
    "                return(map3)\n",
    "\n",
    "\tdef ne_geojson(self, geojson_bb_file):\n",
    "                my_geo = gpd.read_file(geojson_bb_file)\n",
    "                center=my_geo.geometry[0].bounds[1], my_geo.geometry[0].bounds[0]\n",
    "                sw = center\n",
    "                ne = my_geo.geometry[0].bounds[3], my_geo.geometry[0].bounds[2]\n",
    "                return(ne)\n"
   ]
  },
  {
   "cell_type": "code",
   "execution_count": 12,
   "metadata": {},
   "outputs": [
    {
     "name": "stdout",
     "output_type": "stream",
     "text": [
      "creating Fmap class\n"
     ]
    }
   ],
   "source": [
    "fm = Fmap()"
   ]
  },
  {
   "cell_type": "code",
   "execution_count": 13,
   "metadata": {},
   "outputs": [],
   "source": [
    "import os\n",
    "\n",
    "def _run_command(cmd, verbose=False):\n",
    "    if verbose:\n",
    "        print(cmd)\n",
    "    result = os.system(cmd)\n",
    "    if result != 0:\n",
    "        raise Exception('command \"%s\" failed with code %d.' % (cmd, result))\n",
    "\n",
    "def geojson_create_from_tif(src_tif,dst_geojson):\n",
    "    command = f'rio bounds {src_tif} > {dst_geojson}'\n",
    "    _run_command(command)"
   ]
  },
  {
   "cell_type": "code",
   "execution_count": 14,
   "metadata": {},
   "outputs": [],
   "source": [
    "!mkdir -p geo"
   ]
  },
  {
   "cell_type": "code",
   "execution_count": 15,
   "metadata": {},
   "outputs": [],
   "source": [
    "dst_geojson = './geo/one.geojson'\n",
    "src_tif = f's3://{tif_list[0]}'\n",
    "geojson_create_from_tif(src_tif,dst_geojson)"
   ]
  },
  {
   "cell_type": "code",
   "execution_count": 16,
   "metadata": {},
   "outputs": [
    {
     "data": {
      "text/html": [
       "<div style=\"width:100%;\"><div style=\"position:relative;width:100%;height:0;padding-bottom:60%;\"><span style=\"color:#565656\">Make this Notebook Trusted to load map: File -> Trust Notebook</span><iframe src=\"about:blank\" style=\"position:absolute;width:100%;height:100%;left:0;top:0;border:none !important;\" data-html=%3C%21DOCTYPE%20html%3E%0A%3Chead%3E%20%20%20%20%0A%20%20%20%20%3Cmeta%20http-equiv%3D%22content-type%22%20content%3D%22text/html%3B%20charset%3DUTF-8%22%20/%3E%0A%20%20%20%20%0A%20%20%20%20%20%20%20%20%3Cscript%3E%0A%20%20%20%20%20%20%20%20%20%20%20%20L_NO_TOUCH%20%3D%20false%3B%0A%20%20%20%20%20%20%20%20%20%20%20%20L_DISABLE_3D%20%3D%20false%3B%0A%20%20%20%20%20%20%20%20%3C/script%3E%0A%20%20%20%20%0A%20%20%20%20%3Cscript%20src%3D%22https%3A//cdn.jsdelivr.net/npm/leaflet%401.6.0/dist/leaflet.js%22%3E%3C/script%3E%0A%20%20%20%20%3Cscript%20src%3D%22https%3A//code.jquery.com/jquery-1.12.4.min.js%22%3E%3C/script%3E%0A%20%20%20%20%3Cscript%20src%3D%22https%3A//maxcdn.bootstrapcdn.com/bootstrap/3.2.0/js/bootstrap.min.js%22%3E%3C/script%3E%0A%20%20%20%20%3Cscript%20src%3D%22https%3A//cdnjs.cloudflare.com/ajax/libs/Leaflet.awesome-markers/2.0.2/leaflet.awesome-markers.js%22%3E%3C/script%3E%0A%20%20%20%20%3Clink%20rel%3D%22stylesheet%22%20href%3D%22https%3A//cdn.jsdelivr.net/npm/leaflet%401.6.0/dist/leaflet.css%22/%3E%0A%20%20%20%20%3Clink%20rel%3D%22stylesheet%22%20href%3D%22https%3A//maxcdn.bootstrapcdn.com/bootstrap/3.2.0/css/bootstrap.min.css%22/%3E%0A%20%20%20%20%3Clink%20rel%3D%22stylesheet%22%20href%3D%22https%3A//maxcdn.bootstrapcdn.com/bootstrap/3.2.0/css/bootstrap-theme.min.css%22/%3E%0A%20%20%20%20%3Clink%20rel%3D%22stylesheet%22%20href%3D%22https%3A//maxcdn.bootstrapcdn.com/font-awesome/4.6.3/css/font-awesome.min.css%22/%3E%0A%20%20%20%20%3Clink%20rel%3D%22stylesheet%22%20href%3D%22https%3A//cdnjs.cloudflare.com/ajax/libs/Leaflet.awesome-markers/2.0.2/leaflet.awesome-markers.css%22/%3E%0A%20%20%20%20%3Clink%20rel%3D%22stylesheet%22%20href%3D%22https%3A//rawcdn.githack.com/python-visualization/folium/master/folium/templates/leaflet.awesome.rotate.css%22/%3E%0A%20%20%20%20%3Cstyle%3Ehtml%2C%20body%20%7Bwidth%3A%20100%25%3Bheight%3A%20100%25%3Bmargin%3A%200%3Bpadding%3A%200%3B%7D%3C/style%3E%0A%20%20%20%20%3Cstyle%3E%23map%20%7Bposition%3Aabsolute%3Btop%3A0%3Bbottom%3A0%3Bright%3A0%3Bleft%3A0%3B%7D%3C/style%3E%0A%20%20%20%20%0A%20%20%20%20%20%20%20%20%20%20%20%20%3Cmeta%20name%3D%22viewport%22%20content%3D%22width%3Ddevice-width%2C%0A%20%20%20%20%20%20%20%20%20%20%20%20%20%20%20%20initial-scale%3D1.0%2C%20maximum-scale%3D1.0%2C%20user-scalable%3Dno%22%20/%3E%0A%20%20%20%20%20%20%20%20%20%20%20%20%3Cstyle%3E%0A%20%20%20%20%20%20%20%20%20%20%20%20%20%20%20%20%23map_6fdabf5cc94c4de4b4d0c77d1fef7e21%20%7B%0A%20%20%20%20%20%20%20%20%20%20%20%20%20%20%20%20%20%20%20%20position%3A%20relative%3B%0A%20%20%20%20%20%20%20%20%20%20%20%20%20%20%20%20%20%20%20%20width%3A%20100.0%25%3B%0A%20%20%20%20%20%20%20%20%20%20%20%20%20%20%20%20%20%20%20%20height%3A%20100.0%25%3B%0A%20%20%20%20%20%20%20%20%20%20%20%20%20%20%20%20%20%20%20%20left%3A%200.0%25%3B%0A%20%20%20%20%20%20%20%20%20%20%20%20%20%20%20%20%20%20%20%20top%3A%200.0%25%3B%0A%20%20%20%20%20%20%20%20%20%20%20%20%20%20%20%20%7D%0A%20%20%20%20%20%20%20%20%20%20%20%20%3C/style%3E%0A%20%20%20%20%20%20%20%20%0A%3C/head%3E%0A%3Cbody%3E%20%20%20%20%0A%20%20%20%20%0A%20%20%20%20%20%20%20%20%20%20%20%20%3Cdiv%20class%3D%22folium-map%22%20id%3D%22map_6fdabf5cc94c4de4b4d0c77d1fef7e21%22%20%3E%3C/div%3E%0A%20%20%20%20%20%20%20%20%0A%3C/body%3E%0A%3Cscript%3E%20%20%20%20%0A%20%20%20%20%0A%20%20%20%20%20%20%20%20%20%20%20%20var%20map_6fdabf5cc94c4de4b4d0c77d1fef7e21%20%3D%20L.map%28%0A%20%20%20%20%20%20%20%20%20%20%20%20%20%20%20%20%22map_6fdabf5cc94c4de4b4d0c77d1fef7e21%22%2C%0A%20%20%20%20%20%20%20%20%20%20%20%20%20%20%20%20%7B%0A%20%20%20%20%20%20%20%20%20%20%20%20%20%20%20%20%20%20%20%20center%3A%20%5B38.36094412891505%2C%20-73.72439398349997%5D%2C%0A%20%20%20%20%20%20%20%20%20%20%20%20%20%20%20%20%20%20%20%20crs%3A%20L.CRS.EPSG3857%2C%0A%20%20%20%20%20%20%20%20%20%20%20%20%20%20%20%20%20%20%20%20zoom%3A%2012%2C%0A%20%20%20%20%20%20%20%20%20%20%20%20%20%20%20%20%20%20%20%20zoomControl%3A%20true%2C%0A%20%20%20%20%20%20%20%20%20%20%20%20%20%20%20%20%20%20%20%20preferCanvas%3A%20false%2C%0A%20%20%20%20%20%20%20%20%20%20%20%20%20%20%20%20%20%20%20%20center%3A%20%5B38.36094412891505%2C%20-73.72439398349997%5D%2C%0A%20%20%20%20%20%20%20%20%20%20%20%20%20%20%20%20%7D%0A%20%20%20%20%20%20%20%20%20%20%20%20%29%3B%0A%0A%20%20%20%20%20%20%20%20%20%20%20%20%0A%0A%20%20%20%20%20%20%20%20%0A%20%20%20%20%0A%20%20%20%20%20%20%20%20%20%20%20%20var%20tile_layer_8cdca7e3ae1c4c0587150e18fcbbca1f%20%3D%20L.tileLayer%28%0A%20%20%20%20%20%20%20%20%20%20%20%20%20%20%20%20%22https%3A//%7Bs%7D.tile.openstreetmap.org/%7Bz%7D/%7Bx%7D/%7By%7D.png%22%2C%0A%20%20%20%20%20%20%20%20%20%20%20%20%20%20%20%20%7B%22attribution%22%3A%20%22Data%20by%20%5Cu0026copy%3B%20%5Cu003ca%20href%3D%5C%22http%3A//openstreetmap.org%5C%22%5Cu003eOpenStreetMap%5Cu003c/a%5Cu003e%2C%20under%20%5Cu003ca%20href%3D%5C%22http%3A//www.openstreetmap.org/copyright%5C%22%5Cu003eODbL%5Cu003c/a%5Cu003e.%22%2C%20%22detectRetina%22%3A%20false%2C%20%22maxNativeZoom%22%3A%2018%2C%20%22maxZoom%22%3A%2018%2C%20%22minZoom%22%3A%200%2C%20%22noWrap%22%3A%20false%2C%20%22opacity%22%3A%201%2C%20%22subdomains%22%3A%20%22abc%22%2C%20%22tms%22%3A%20false%7D%0A%20%20%20%20%20%20%20%20%20%20%20%20%29.addTo%28map_6fdabf5cc94c4de4b4d0c77d1fef7e21%29%3B%0A%20%20%20%20%20%20%20%20%0A%20%20%20%20%0A%20%20%20%20%20%20%20%20%20%20%20%20map_6fdabf5cc94c4de4b4d0c77d1fef7e21.fitBounds%28%0A%20%20%20%20%20%20%20%20%20%20%20%20%20%20%20%20%5B%5B38.36094412891505%2C%20-73.72439398349997%5D%2C%20%5B39.84470033741505%2C%20-72.70053976949997%5D%5D%2C%0A%20%20%20%20%20%20%20%20%20%20%20%20%20%20%20%20%7B%7D%0A%20%20%20%20%20%20%20%20%20%20%20%20%29%3B%0A%20%20%20%20%20%20%20%20%0A%20%20%20%20%0A%20%20%20%20%20%20%20%20function%20geo_json_851767887e3d461489b37b0e5bce1306_styler%28feature%29%20%7B%0A%20%20%20%20%20%20%20%20%20%20%20%20switch%28feature.id%29%20%7B%0A%20%20%20%20%20%20%20%20%20%20%20%20%20%20%20%20default%3A%0A%20%20%20%20%20%20%20%20%20%20%20%20%20%20%20%20%20%20%20%20return%20%7B%22color%22%3A%20%22blue%22%7D%3B%0A%20%20%20%20%20%20%20%20%20%20%20%20%7D%0A%20%20%20%20%20%20%20%20%7D%0A%20%20%20%20%20%20%20%20function%20geo_json_851767887e3d461489b37b0e5bce1306_onEachFeature%28feature%2C%20layer%29%20%7B%0A%20%20%20%20%20%20%20%20%20%20%20%20layer.on%28%7B%0A%20%20%20%20%20%20%20%20%20%20%20%20%20%20%20%20click%3A%20function%28e%29%20%7B%0A%20%20%20%20%20%20%20%20%20%20%20%20%20%20%20%20%20%20%20%20map_6fdabf5cc94c4de4b4d0c77d1fef7e21.fitBounds%28e.target.getBounds%28%29%29%3B%0A%20%20%20%20%20%20%20%20%20%20%20%20%20%20%20%20%7D%0A%20%20%20%20%20%20%20%20%20%20%20%20%7D%29%3B%0A%20%20%20%20%20%20%20%20%7D%3B%0A%20%20%20%20%20%20%20%20var%20geo_json_851767887e3d461489b37b0e5bce1306%20%3D%20L.geoJson%28null%2C%20%7B%0A%20%20%20%20%20%20%20%20%20%20%20%20%20%20%20%20onEachFeature%3A%20geo_json_851767887e3d461489b37b0e5bce1306_onEachFeature%2C%0A%20%20%20%20%20%20%20%20%20%20%20%20%0A%20%20%20%20%20%20%20%20%20%20%20%20%20%20%20%20style%3A%20geo_json_851767887e3d461489b37b0e5bce1306_styler%2C%0A%20%20%20%20%20%20%20%20%7D%29.addTo%28map_6fdabf5cc94c4de4b4d0c77d1fef7e21%29%3B%0A%0A%20%20%20%20%20%20%20%20function%20geo_json_851767887e3d461489b37b0e5bce1306_add%20%28data%29%20%7B%0A%20%20%20%20%20%20%20%20%20%20%20%20geo_json_851767887e3d461489b37b0e5bce1306.addData%28data%29%3B%0A%20%20%20%20%20%20%20%20%7D%0A%20%20%20%20%20%20%20%20%20%20%20%20geo_json_851767887e3d461489b37b0e5bce1306_add%28%7B%22features%22%3A%20%5B%7B%22geometry%22%3A%20%7B%22coordinates%22%3A%20%5B%5B%5B-73.72439398349997%2C%2038.36094412891505%5D%2C%20%5B-72.70053976949997%2C%2038.36094412891505%5D%2C%20%5B-72.70053976949997%2C%2039.84470033741505%5D%2C%20%5B-73.72439398349997%2C%2039.84470033741505%5D%2C%20%5B-73.72439398349997%2C%2038.36094412891505%5D%5D%5D%2C%20%22type%22%3A%20%22Polygon%22%7D%2C%20%22id%22%3A%20%220%22%2C%20%22properties%22%3A%20%7B%22filename%22%3A%20%22etasw_1950001.tif%22%2C%20%22id%22%3A%20%220%22%2C%20%22title%22%3A%20%22s3%3A//dev-et-data/out/DelawareRiverBasin/Run12_24_2020/run_drb150_1224_bigs_chip39.84N-73.72E_o/1950/etasw_1950001.tif%22%7D%2C%20%22type%22%3A%20%22Feature%22%7D%5D%2C%20%22type%22%3A%20%22FeatureCollection%22%7D%29%3B%0A%20%20%20%20%20%20%20%20%0A%20%20%20%20%0A%20%20%20%20%20%20%20%20%20%20%20%20%20%20%20%20var%20lat_lng_popup_bdd1e10773e047afb71449be3d55ca65%20%3D%20L.popup%28%29%3B%0A%20%20%20%20%20%20%20%20%20%20%20%20%20%20%20%20function%20latLngPop%28e%29%20%7B%0A%20%20%20%20%20%20%20%20%20%20%20%20%20%20%20%20%20%20%20%20lat_lng_popup_bdd1e10773e047afb71449be3d55ca65%0A%20%20%20%20%20%20%20%20%20%20%20%20%20%20%20%20%20%20%20%20%20%20%20%20.setLatLng%28e.latlng%29%0A%20%20%20%20%20%20%20%20%20%20%20%20%20%20%20%20%20%20%20%20%20%20%20%20.setContent%28%22Latitude%3A%20%22%20%2B%20e.latlng.lat.toFixed%284%29%20%2B%0A%20%20%20%20%20%20%20%20%20%20%20%20%20%20%20%20%20%20%20%20%20%20%20%20%20%20%20%20%20%20%20%20%20%20%20%20%22%3Cbr%3ELongitude%3A%20%22%20%2B%20e.latlng.lng.toFixed%284%29%29%0A%20%20%20%20%20%20%20%20%20%20%20%20%20%20%20%20%20%20%20%20%20%20%20%20.openOn%28map_6fdabf5cc94c4de4b4d0c77d1fef7e21%29%3B%0A%20%20%20%20%20%20%20%20%20%20%20%20%20%20%20%20%20%20%20%20%7D%0A%20%20%20%20%20%20%20%20%20%20%20%20%20%20%20%20map_6fdabf5cc94c4de4b4d0c77d1fef7e21.on%28%27click%27%2C%20latLngPop%29%3B%0A%20%20%20%20%20%20%20%20%20%20%20%20%0A%3C/script%3E onload=\"this.contentDocument.open();this.contentDocument.write(    decodeURIComponent(this.getAttribute('data-html')));this.contentDocument.close();\" allowfullscreen webkitallowfullscreen mozallowfullscreen></iframe></div></div>"
      ],
      "text/plain": [
       "<folium.folium.Map at 0x7f37b2ba7ac8>"
      ]
     },
     "execution_count": 16,
     "metadata": {},
     "output_type": "execute_result"
    }
   ],
   "source": [
    "fm.map_geojson(dst_geojson)"
   ]
  },
  {
   "cell_type": "code",
   "execution_count": 17,
   "metadata": {},
   "outputs": [],
   "source": [
    "def get_tif0(full_path):\n",
    "    new_path=f'{full_path}/1950'\n",
    "    tl = get_tifs2(new_path)\n",
    "    return(tl[0])\n"
   ]
  },
  {
   "cell_type": "code",
   "execution_count": 18,
   "metadata": {},
   "outputs": [
    {
     "name": "stdout",
     "output_type": "stream",
     "text": [
      "dev-et-data/out/DelawareRiverBasin/Run12_24_2020/run_drb150_1224_bigs_chip39.84N-73.72E_o\n",
      "dev-et-data/out/DelawareRiverBasin/Run12_24_2020/run_drb150_1224_bigs_chip39.84N-74.74E_o\n",
      "dev-et-data/out/DelawareRiverBasin/Run12_24_2020/run_drb150_1224_bigs_chip39.84N-75.77E_o\n",
      "dev-et-data/out/DelawareRiverBasin/Run12_24_2020/run_drb150_1224_bigs_chip39.84N-76.79E_o\n",
      "dev-et-data/out/DelawareRiverBasin/Run12_24_2020/run_drb150_1224_bigs_chip41.33N-73.72E_o\n",
      "dev-et-data/out/DelawareRiverBasin/Run12_24_2020/run_drb150_1224_bigs_chip41.33N-74.74E_o\n",
      "dev-et-data/out/DelawareRiverBasin/Run12_24_2020/run_drb150_1224_bigs_chip41.33N-75.77E_o\n",
      "dev-et-data/out/DelawareRiverBasin/Run12_24_2020/run_drb150_1224_bigs_chip41.33N-76.79E_o\n",
      "dev-et-data/out/DelawareRiverBasin/Run12_24_2020/run_drb150_1224_bigs_chip42.81N-73.72E_o\n",
      "dev-et-data/out/DelawareRiverBasin/Run12_24_2020/run_drb150_1224_bigs_chip42.81N-74.74E_o\n",
      "dev-et-data/out/DelawareRiverBasin/Run12_24_2020/run_drb150_1224_bigs_chip42.81N-75.77E_o\n",
      "dev-et-data/out/DelawareRiverBasin/Run12_24_2020/run_drb150_1224_bigs_chip42.81N-76.79E_o\n"
     ]
    }
   ],
   "source": [
    "tif0_list=[]\n",
    "geoj0_list=[]\n",
    "for i in path_list:\n",
    "    print(i)\n",
    "    tif0 = get_tif0(i)\n",
    "    tif0_list.append(tif0)\n",
    "    name = './geo/' +i.split('/')[-1]\n",
    "    geoj0 = geojson_create_from_tif(f's3://{tif0}',name)\n",
    "    geoj0_list.append(name)"
   ]
  },
  {
   "cell_type": "code",
   "execution_count": 19,
   "metadata": {},
   "outputs": [
    {
     "name": "stdout",
     "output_type": "stream",
     "text": [
      "fullscene.geojason\r\n",
      "one.geojson\r\n",
      "run_drb150_1224_bigs_chip39.84N-73.72E_o\r\n",
      "run_drb150_1224_bigs_chip39.84N-74.74E_o\r\n",
      "run_drb150_1224_bigs_chip39.84N-75.77E_o\r\n",
      "run_drb150_1224_bigs_chip39.84N-76.79E_o\r\n",
      "run_drb150_1224_bigs_chip41.33N-73.72E_o\r\n",
      "run_drb150_1224_bigs_chip41.33N-74.74E_o\r\n",
      "run_drb150_1224_bigs_chip41.33N-75.77E_o\r\n",
      "run_drb150_1224_bigs_chip41.33N-76.79E_o\r\n",
      "run_drb150_1224_bigs_chip42.81N-73.72E_o\r\n",
      "run_drb150_1224_bigs_chip42.81N-74.74E_o\r\n",
      "run_drb150_1224_bigs_chip42.81N-75.77E_o\r\n",
      "run_drb150_1224_bigs_chip42.81N-76.79E_o\r\n"
     ]
    }
   ],
   "source": [
    "! ls geo"
   ]
  },
  {
   "cell_type": "code",
   "execution_count": 20,
   "metadata": {},
   "outputs": [
    {
     "name": "stdout",
     "output_type": "stream",
     "text": [
      "./geo/run_drb150_1224_bigs_chip39.84N-73.72E_o\n",
      "./geo/run_drb150_1224_bigs_chip39.84N-74.74E_o\n",
      "./geo/run_drb150_1224_bigs_chip39.84N-75.77E_o\n",
      "./geo/run_drb150_1224_bigs_chip39.84N-76.79E_o\n",
      "./geo/run_drb150_1224_bigs_chip41.33N-73.72E_o\n",
      "./geo/run_drb150_1224_bigs_chip41.33N-74.74E_o\n",
      "./geo/run_drb150_1224_bigs_chip41.33N-75.77E_o\n",
      "./geo/run_drb150_1224_bigs_chip41.33N-76.79E_o\n",
      "./geo/run_drb150_1224_bigs_chip42.81N-73.72E_o\n",
      "./geo/run_drb150_1224_bigs_chip42.81N-74.74E_o\n",
      "./geo/run_drb150_1224_bigs_chip42.81N-75.77E_o\n",
      "./geo/run_drb150_1224_bigs_chip42.81N-76.79E_o\n"
     ]
    }
   ],
   "source": [
    "for goj in geoj0_list:\n",
    "    print(goj)"
   ]
  },
  {
   "cell_type": "code",
   "execution_count": 21,
   "metadata": {},
   "outputs": [
    {
     "name": "stdout",
     "output_type": "stream",
     "text": [
      "creating Fmap class\n"
     ]
    }
   ],
   "source": [
    "fm2 = Fmap()"
   ]
  },
  {
   "cell_type": "code",
   "execution_count": 22,
   "metadata": {},
   "outputs": [],
   "source": [
    "mymap = fm2.map_geojson(geoj0_list[0])"
   ]
  },
  {
   "cell_type": "code",
   "execution_count": 23,
   "metadata": {},
   "outputs": [
    {
     "name": "stdout",
     "output_type": "stream",
     "text": [
      "./geo/run_drb150_1224_bigs_chip39.84N-74.74E_o\n",
      "./geo/run_drb150_1224_bigs_chip39.84N-75.77E_o\n",
      "./geo/run_drb150_1224_bigs_chip39.84N-76.79E_o\n",
      "./geo/run_drb150_1224_bigs_chip41.33N-73.72E_o\n",
      "./geo/run_drb150_1224_bigs_chip41.33N-74.74E_o\n",
      "./geo/run_drb150_1224_bigs_chip41.33N-75.77E_o\n",
      "./geo/run_drb150_1224_bigs_chip41.33N-76.79E_o\n",
      "./geo/run_drb150_1224_bigs_chip42.81N-73.72E_o\n",
      "./geo/run_drb150_1224_bigs_chip42.81N-74.74E_o\n",
      "./geo/run_drb150_1224_bigs_chip42.81N-75.77E_o\n",
      "./geo/run_drb150_1224_bigs_chip42.81N-76.79E_o\n"
     ]
    }
   ],
   "source": [
    "for goj in geoj0_list[1:]:\n",
    "    print(goj)\n",
    "    fm2.add_geojson(goj,mymap,color='green')"
   ]
  },
  {
   "cell_type": "code",
   "execution_count": 24,
   "metadata": {},
   "outputs": [
    {
     "data": {
      "text/html": [
       "<div style=\"width:100%;\"><div style=\"position:relative;width:100%;height:0;padding-bottom:60%;\"><span style=\"color:#565656\">Make this Notebook Trusted to load map: File -> Trust Notebook</span><iframe src=\"about:blank\" style=\"position:absolute;width:100%;height:100%;left:0;top:0;border:none !important;\" data-html=%3C%21DOCTYPE%20html%3E%0A%3Chead%3E%20%20%20%20%0A%20%20%20%20%3Cmeta%20http-equiv%3D%22content-type%22%20content%3D%22text/html%3B%20charset%3DUTF-8%22%20/%3E%0A%20%20%20%20%0A%20%20%20%20%20%20%20%20%3Cscript%3E%0A%20%20%20%20%20%20%20%20%20%20%20%20L_NO_TOUCH%20%3D%20false%3B%0A%20%20%20%20%20%20%20%20%20%20%20%20L_DISABLE_3D%20%3D%20false%3B%0A%20%20%20%20%20%20%20%20%3C/script%3E%0A%20%20%20%20%0A%20%20%20%20%3Cscript%20src%3D%22https%3A//cdn.jsdelivr.net/npm/leaflet%401.6.0/dist/leaflet.js%22%3E%3C/script%3E%0A%20%20%20%20%3Cscript%20src%3D%22https%3A//code.jquery.com/jquery-1.12.4.min.js%22%3E%3C/script%3E%0A%20%20%20%20%3Cscript%20src%3D%22https%3A//maxcdn.bootstrapcdn.com/bootstrap/3.2.0/js/bootstrap.min.js%22%3E%3C/script%3E%0A%20%20%20%20%3Cscript%20src%3D%22https%3A//cdnjs.cloudflare.com/ajax/libs/Leaflet.awesome-markers/2.0.2/leaflet.awesome-markers.js%22%3E%3C/script%3E%0A%20%20%20%20%3Clink%20rel%3D%22stylesheet%22%20href%3D%22https%3A//cdn.jsdelivr.net/npm/leaflet%401.6.0/dist/leaflet.css%22/%3E%0A%20%20%20%20%3Clink%20rel%3D%22stylesheet%22%20href%3D%22https%3A//maxcdn.bootstrapcdn.com/bootstrap/3.2.0/css/bootstrap.min.css%22/%3E%0A%20%20%20%20%3Clink%20rel%3D%22stylesheet%22%20href%3D%22https%3A//maxcdn.bootstrapcdn.com/bootstrap/3.2.0/css/bootstrap-theme.min.css%22/%3E%0A%20%20%20%20%3Clink%20rel%3D%22stylesheet%22%20href%3D%22https%3A//maxcdn.bootstrapcdn.com/font-awesome/4.6.3/css/font-awesome.min.css%22/%3E%0A%20%20%20%20%3Clink%20rel%3D%22stylesheet%22%20href%3D%22https%3A//cdnjs.cloudflare.com/ajax/libs/Leaflet.awesome-markers/2.0.2/leaflet.awesome-markers.css%22/%3E%0A%20%20%20%20%3Clink%20rel%3D%22stylesheet%22%20href%3D%22https%3A//rawcdn.githack.com/python-visualization/folium/master/folium/templates/leaflet.awesome.rotate.css%22/%3E%0A%20%20%20%20%3Cstyle%3Ehtml%2C%20body%20%7Bwidth%3A%20100%25%3Bheight%3A%20100%25%3Bmargin%3A%200%3Bpadding%3A%200%3B%7D%3C/style%3E%0A%20%20%20%20%3Cstyle%3E%23map%20%7Bposition%3Aabsolute%3Btop%3A0%3Bbottom%3A0%3Bright%3A0%3Bleft%3A0%3B%7D%3C/style%3E%0A%20%20%20%20%0A%20%20%20%20%20%20%20%20%20%20%20%20%3Cmeta%20name%3D%22viewport%22%20content%3D%22width%3Ddevice-width%2C%0A%20%20%20%20%20%20%20%20%20%20%20%20%20%20%20%20initial-scale%3D1.0%2C%20maximum-scale%3D1.0%2C%20user-scalable%3Dno%22%20/%3E%0A%20%20%20%20%20%20%20%20%20%20%20%20%3Cstyle%3E%0A%20%20%20%20%20%20%20%20%20%20%20%20%20%20%20%20%23map_613eb0ba15a8486fbd574b4589a31f31%20%7B%0A%20%20%20%20%20%20%20%20%20%20%20%20%20%20%20%20%20%20%20%20position%3A%20relative%3B%0A%20%20%20%20%20%20%20%20%20%20%20%20%20%20%20%20%20%20%20%20width%3A%20100.0%25%3B%0A%20%20%20%20%20%20%20%20%20%20%20%20%20%20%20%20%20%20%20%20height%3A%20100.0%25%3B%0A%20%20%20%20%20%20%20%20%20%20%20%20%20%20%20%20%20%20%20%20left%3A%200.0%25%3B%0A%20%20%20%20%20%20%20%20%20%20%20%20%20%20%20%20%20%20%20%20top%3A%200.0%25%3B%0A%20%20%20%20%20%20%20%20%20%20%20%20%20%20%20%20%7D%0A%20%20%20%20%20%20%20%20%20%20%20%20%3C/style%3E%0A%20%20%20%20%20%20%20%20%0A%3C/head%3E%0A%3Cbody%3E%20%20%20%20%0A%20%20%20%20%0A%20%20%20%20%20%20%20%20%20%20%20%20%3Cdiv%20class%3D%22folium-map%22%20id%3D%22map_613eb0ba15a8486fbd574b4589a31f31%22%20%3E%3C/div%3E%0A%20%20%20%20%20%20%20%20%0A%3C/body%3E%0A%3Cscript%3E%20%20%20%20%0A%20%20%20%20%0A%20%20%20%20%20%20%20%20%20%20%20%20var%20map_613eb0ba15a8486fbd574b4589a31f31%20%3D%20L.map%28%0A%20%20%20%20%20%20%20%20%20%20%20%20%20%20%20%20%22map_613eb0ba15a8486fbd574b4589a31f31%22%2C%0A%20%20%20%20%20%20%20%20%20%20%20%20%20%20%20%20%7B%0A%20%20%20%20%20%20%20%20%20%20%20%20%20%20%20%20%20%20%20%20center%3A%20%5B38.36094412891505%2C%20-73.72439398349997%5D%2C%0A%20%20%20%20%20%20%20%20%20%20%20%20%20%20%20%20%20%20%20%20crs%3A%20L.CRS.EPSG3857%2C%0A%20%20%20%20%20%20%20%20%20%20%20%20%20%20%20%20%20%20%20%20zoom%3A%2012%2C%0A%20%20%20%20%20%20%20%20%20%20%20%20%20%20%20%20%20%20%20%20zoomControl%3A%20true%2C%0A%20%20%20%20%20%20%20%20%20%20%20%20%20%20%20%20%20%20%20%20preferCanvas%3A%20false%2C%0A%20%20%20%20%20%20%20%20%20%20%20%20%20%20%20%20%20%20%20%20center%3A%20%5B38.36094412891505%2C%20-73.72439398349997%5D%2C%0A%20%20%20%20%20%20%20%20%20%20%20%20%20%20%20%20%7D%0A%20%20%20%20%20%20%20%20%20%20%20%20%29%3B%0A%0A%20%20%20%20%20%20%20%20%20%20%20%20%0A%0A%20%20%20%20%20%20%20%20%0A%20%20%20%20%0A%20%20%20%20%20%20%20%20%20%20%20%20var%20tile_layer_60f694b6fe5b4735a1dcbf105cb055a6%20%3D%20L.tileLayer%28%0A%20%20%20%20%20%20%20%20%20%20%20%20%20%20%20%20%22https%3A//%7Bs%7D.tile.openstreetmap.org/%7Bz%7D/%7Bx%7D/%7By%7D.png%22%2C%0A%20%20%20%20%20%20%20%20%20%20%20%20%20%20%20%20%7B%22attribution%22%3A%20%22Data%20by%20%5Cu0026copy%3B%20%5Cu003ca%20href%3D%5C%22http%3A//openstreetmap.org%5C%22%5Cu003eOpenStreetMap%5Cu003c/a%5Cu003e%2C%20under%20%5Cu003ca%20href%3D%5C%22http%3A//www.openstreetmap.org/copyright%5C%22%5Cu003eODbL%5Cu003c/a%5Cu003e.%22%2C%20%22detectRetina%22%3A%20false%2C%20%22maxNativeZoom%22%3A%2018%2C%20%22maxZoom%22%3A%2018%2C%20%22minZoom%22%3A%200%2C%20%22noWrap%22%3A%20false%2C%20%22opacity%22%3A%201%2C%20%22subdomains%22%3A%20%22abc%22%2C%20%22tms%22%3A%20false%7D%0A%20%20%20%20%20%20%20%20%20%20%20%20%29.addTo%28map_613eb0ba15a8486fbd574b4589a31f31%29%3B%0A%20%20%20%20%20%20%20%20%0A%20%20%20%20%0A%20%20%20%20%20%20%20%20%20%20%20%20map_613eb0ba15a8486fbd574b4589a31f31.fitBounds%28%0A%20%20%20%20%20%20%20%20%20%20%20%20%20%20%20%20%5B%5B38.36094412891505%2C%20-73.72439398349997%5D%2C%20%5B39.84470033741505%2C%20-72.70053976949997%5D%5D%2C%0A%20%20%20%20%20%20%20%20%20%20%20%20%20%20%20%20%7B%7D%0A%20%20%20%20%20%20%20%20%20%20%20%20%29%3B%0A%20%20%20%20%20%20%20%20%0A%20%20%20%20%0A%20%20%20%20%20%20%20%20function%20geo_json_8d31b366a8ca4685bc271935ec013ff4_styler%28feature%29%20%7B%0A%20%20%20%20%20%20%20%20%20%20%20%20switch%28feature.id%29%20%7B%0A%20%20%20%20%20%20%20%20%20%20%20%20%20%20%20%20default%3A%0A%20%20%20%20%20%20%20%20%20%20%20%20%20%20%20%20%20%20%20%20return%20%7B%22color%22%3A%20%22blue%22%7D%3B%0A%20%20%20%20%20%20%20%20%20%20%20%20%7D%0A%20%20%20%20%20%20%20%20%7D%0A%20%20%20%20%20%20%20%20function%20geo_json_8d31b366a8ca4685bc271935ec013ff4_onEachFeature%28feature%2C%20layer%29%20%7B%0A%20%20%20%20%20%20%20%20%20%20%20%20layer.on%28%7B%0A%20%20%20%20%20%20%20%20%20%20%20%20%20%20%20%20click%3A%20function%28e%29%20%7B%0A%20%20%20%20%20%20%20%20%20%20%20%20%20%20%20%20%20%20%20%20map_613eb0ba15a8486fbd574b4589a31f31.fitBounds%28e.target.getBounds%28%29%29%3B%0A%20%20%20%20%20%20%20%20%20%20%20%20%20%20%20%20%7D%0A%20%20%20%20%20%20%20%20%20%20%20%20%7D%29%3B%0A%20%20%20%20%20%20%20%20%7D%3B%0A%20%20%20%20%20%20%20%20var%20geo_json_8d31b366a8ca4685bc271935ec013ff4%20%3D%20L.geoJson%28null%2C%20%7B%0A%20%20%20%20%20%20%20%20%20%20%20%20%20%20%20%20onEachFeature%3A%20geo_json_8d31b366a8ca4685bc271935ec013ff4_onEachFeature%2C%0A%20%20%20%20%20%20%20%20%20%20%20%20%0A%20%20%20%20%20%20%20%20%20%20%20%20%20%20%20%20style%3A%20geo_json_8d31b366a8ca4685bc271935ec013ff4_styler%2C%0A%20%20%20%20%20%20%20%20%7D%29.addTo%28map_613eb0ba15a8486fbd574b4589a31f31%29%3B%0A%0A%20%20%20%20%20%20%20%20function%20geo_json_8d31b366a8ca4685bc271935ec013ff4_add%20%28data%29%20%7B%0A%20%20%20%20%20%20%20%20%20%20%20%20geo_json_8d31b366a8ca4685bc271935ec013ff4.addData%28data%29%3B%0A%20%20%20%20%20%20%20%20%7D%0A%20%20%20%20%20%20%20%20%20%20%20%20geo_json_8d31b366a8ca4685bc271935ec013ff4_add%28%7B%22features%22%3A%20%5B%7B%22geometry%22%3A%20%7B%22coordinates%22%3A%20%5B%5B%5B-73.72439398349997%2C%2038.36094412891505%5D%2C%20%5B-72.70053976949997%2C%2038.36094412891505%5D%2C%20%5B-72.70053976949997%2C%2039.84470033741505%5D%2C%20%5B-73.72439398349997%2C%2039.84470033741505%5D%2C%20%5B-73.72439398349997%2C%2038.36094412891505%5D%5D%5D%2C%20%22type%22%3A%20%22Polygon%22%7D%2C%20%22id%22%3A%20%220%22%2C%20%22properties%22%3A%20%7B%22filename%22%3A%20%22etasw_1950001.tif%22%2C%20%22id%22%3A%20%220%22%2C%20%22title%22%3A%20%22s3%3A//dev-et-data/out/DelawareRiverBasin/Run12_24_2020/run_drb150_1224_bigs_chip39.84N-73.72E_o/1950/etasw_1950001.tif%22%7D%2C%20%22type%22%3A%20%22Feature%22%7D%5D%2C%20%22type%22%3A%20%22FeatureCollection%22%7D%29%3B%0A%20%20%20%20%20%20%20%20%0A%20%20%20%20%0A%20%20%20%20%20%20%20%20%20%20%20%20%20%20%20%20var%20lat_lng_popup_727053e46c4547bab5b58c92a29d463e%20%3D%20L.popup%28%29%3B%0A%20%20%20%20%20%20%20%20%20%20%20%20%20%20%20%20function%20latLngPop%28e%29%20%7B%0A%20%20%20%20%20%20%20%20%20%20%20%20%20%20%20%20%20%20%20%20lat_lng_popup_727053e46c4547bab5b58c92a29d463e%0A%20%20%20%20%20%20%20%20%20%20%20%20%20%20%20%20%20%20%20%20%20%20%20%20.setLatLng%28e.latlng%29%0A%20%20%20%20%20%20%20%20%20%20%20%20%20%20%20%20%20%20%20%20%20%20%20%20.setContent%28%22Latitude%3A%20%22%20%2B%20e.latlng.lat.toFixed%284%29%20%2B%0A%20%20%20%20%20%20%20%20%20%20%20%20%20%20%20%20%20%20%20%20%20%20%20%20%20%20%20%20%20%20%20%20%20%20%20%20%22%3Cbr%3ELongitude%3A%20%22%20%2B%20e.latlng.lng.toFixed%284%29%29%0A%20%20%20%20%20%20%20%20%20%20%20%20%20%20%20%20%20%20%20%20%20%20%20%20.openOn%28map_613eb0ba15a8486fbd574b4589a31f31%29%3B%0A%20%20%20%20%20%20%20%20%20%20%20%20%20%20%20%20%20%20%20%20%7D%0A%20%20%20%20%20%20%20%20%20%20%20%20%20%20%20%20map_613eb0ba15a8486fbd574b4589a31f31.on%28%27click%27%2C%20latLngPop%29%3B%0A%20%20%20%20%20%20%20%20%20%20%20%20%0A%20%20%20%20%0A%20%20%20%20%20%20%20%20function%20geo_json_537cb9dfcaa24fd8bf5f9b7f1332370d_styler%28feature%29%20%7B%0A%20%20%20%20%20%20%20%20%20%20%20%20switch%28feature.id%29%20%7B%0A%20%20%20%20%20%20%20%20%20%20%20%20%20%20%20%20default%3A%0A%20%20%20%20%20%20%20%20%20%20%20%20%20%20%20%20%20%20%20%20return%20%7B%22color%22%3A%20%22green%22%7D%3B%0A%20%20%20%20%20%20%20%20%20%20%20%20%7D%0A%20%20%20%20%20%20%20%20%7D%0A%20%20%20%20%20%20%20%20function%20geo_json_537cb9dfcaa24fd8bf5f9b7f1332370d_onEachFeature%28feature%2C%20layer%29%20%7B%0A%20%20%20%20%20%20%20%20%20%20%20%20layer.on%28%7B%0A%20%20%20%20%20%20%20%20%20%20%20%20%20%20%20%20click%3A%20function%28e%29%20%7B%0A%20%20%20%20%20%20%20%20%20%20%20%20%20%20%20%20%20%20%20%20map_613eb0ba15a8486fbd574b4589a31f31.fitBounds%28e.target.getBounds%28%29%29%3B%0A%20%20%20%20%20%20%20%20%20%20%20%20%20%20%20%20%7D%0A%20%20%20%20%20%20%20%20%20%20%20%20%7D%29%3B%0A%20%20%20%20%20%20%20%20%7D%3B%0A%20%20%20%20%20%20%20%20var%20geo_json_537cb9dfcaa24fd8bf5f9b7f1332370d%20%3D%20L.geoJson%28null%2C%20%7B%0A%20%20%20%20%20%20%20%20%20%20%20%20%20%20%20%20onEachFeature%3A%20geo_json_537cb9dfcaa24fd8bf5f9b7f1332370d_onEachFeature%2C%0A%20%20%20%20%20%20%20%20%20%20%20%20%0A%20%20%20%20%20%20%20%20%20%20%20%20%20%20%20%20style%3A%20geo_json_537cb9dfcaa24fd8bf5f9b7f1332370d_styler%2C%0A%20%20%20%20%20%20%20%20%7D%29.addTo%28map_613eb0ba15a8486fbd574b4589a31f31%29%3B%0A%0A%20%20%20%20%20%20%20%20function%20geo_json_537cb9dfcaa24fd8bf5f9b7f1332370d_add%20%28data%29%20%7B%0A%20%20%20%20%20%20%20%20%20%20%20%20geo_json_537cb9dfcaa24fd8bf5f9b7f1332370d.addData%28data%29%3B%0A%20%20%20%20%20%20%20%20%7D%0A%20%20%20%20%20%20%20%20%20%20%20%20geo_json_537cb9dfcaa24fd8bf5f9b7f1332370d_add%28%7B%22features%22%3A%20%5B%7B%22geometry%22%3A%20%7B%22coordinates%22%3A%20%5B%5B%5B-74.74616719299998%2C%2038.36094412891505%5D%2C%20%5B-73.72231297899998%2C%2038.36094412891505%5D%2C%20%5B-73.72231297899998%2C%2039.84470033741505%5D%2C%20%5B-74.74616719299998%2C%2039.84470033741505%5D%2C%20%5B-74.74616719299998%2C%2038.36094412891505%5D%5D%5D%2C%20%22type%22%3A%20%22Polygon%22%7D%2C%20%22id%22%3A%20%220%22%2C%20%22properties%22%3A%20%7B%22filename%22%3A%20%22etasw_1950001.tif%22%2C%20%22id%22%3A%20%220%22%2C%20%22title%22%3A%20%22s3%3A//dev-et-data/out/DelawareRiverBasin/Run12_24_2020/run_drb150_1224_bigs_chip39.84N-74.74E_o/1950/etasw_1950001.tif%22%7D%2C%20%22type%22%3A%20%22Feature%22%7D%5D%2C%20%22type%22%3A%20%22FeatureCollection%22%7D%29%3B%0A%20%20%20%20%20%20%20%20%0A%20%20%20%20%0A%20%20%20%20%20%20%20%20function%20geo_json_b72ff04f190743e2992ae929271e1cd0_styler%28feature%29%20%7B%0A%20%20%20%20%20%20%20%20%20%20%20%20switch%28feature.id%29%20%7B%0A%20%20%20%20%20%20%20%20%20%20%20%20%20%20%20%20default%3A%0A%20%20%20%20%20%20%20%20%20%20%20%20%20%20%20%20%20%20%20%20return%20%7B%22color%22%3A%20%22green%22%7D%3B%0A%20%20%20%20%20%20%20%20%20%20%20%20%7D%0A%20%20%20%20%20%20%20%20%7D%0A%20%20%20%20%20%20%20%20function%20geo_json_b72ff04f190743e2992ae929271e1cd0_onEachFeature%28feature%2C%20layer%29%20%7B%0A%20%20%20%20%20%20%20%20%20%20%20%20layer.on%28%7B%0A%20%20%20%20%20%20%20%20%20%20%20%20%20%20%20%20click%3A%20function%28e%29%20%7B%0A%20%20%20%20%20%20%20%20%20%20%20%20%20%20%20%20%20%20%20%20map_613eb0ba15a8486fbd574b4589a31f31.fitBounds%28e.target.getBounds%28%29%29%3B%0A%20%20%20%20%20%20%20%20%20%20%20%20%20%20%20%20%7D%0A%20%20%20%20%20%20%20%20%20%20%20%20%7D%29%3B%0A%20%20%20%20%20%20%20%20%7D%3B%0A%20%20%20%20%20%20%20%20var%20geo_json_b72ff04f190743e2992ae929271e1cd0%20%3D%20L.geoJson%28null%2C%20%7B%0A%20%20%20%20%20%20%20%20%20%20%20%20%20%20%20%20onEachFeature%3A%20geo_json_b72ff04f190743e2992ae929271e1cd0_onEachFeature%2C%0A%20%20%20%20%20%20%20%20%20%20%20%20%0A%20%20%20%20%20%20%20%20%20%20%20%20%20%20%20%20style%3A%20geo_json_b72ff04f190743e2992ae929271e1cd0_styler%2C%0A%20%20%20%20%20%20%20%20%7D%29.addTo%28map_613eb0ba15a8486fbd574b4589a31f31%29%3B%0A%0A%20%20%20%20%20%20%20%20function%20geo_json_b72ff04f190743e2992ae929271e1cd0_add%20%28data%29%20%7B%0A%20%20%20%20%20%20%20%20%20%20%20%20geo_json_b72ff04f190743e2992ae929271e1cd0.addData%28data%29%3B%0A%20%20%20%20%20%20%20%20%7D%0A%20%20%20%20%20%20%20%20%20%20%20%20geo_json_b72ff04f190743e2992ae929271e1cd0_add%28%7B%22features%22%3A%20%5B%7B%22geometry%22%3A%20%7B%22coordinates%22%3A%20%5B%5B%5B-75.76794040249997%2C%2038.36094412891505%5D%2C%20%5B-74.74408618849998%2C%2038.36094412891505%5D%2C%20%5B-74.74408618849998%2C%2039.84470033741505%5D%2C%20%5B-75.76794040249997%2C%2039.84470033741505%5D%2C%20%5B-75.76794040249997%2C%2038.36094412891505%5D%5D%5D%2C%20%22type%22%3A%20%22Polygon%22%7D%2C%20%22id%22%3A%20%220%22%2C%20%22properties%22%3A%20%7B%22filename%22%3A%20%22etasw_1950001.tif%22%2C%20%22id%22%3A%20%220%22%2C%20%22title%22%3A%20%22s3%3A//dev-et-data/out/DelawareRiverBasin/Run12_24_2020/run_drb150_1224_bigs_chip39.84N-75.77E_o/1950/etasw_1950001.tif%22%7D%2C%20%22type%22%3A%20%22Feature%22%7D%5D%2C%20%22type%22%3A%20%22FeatureCollection%22%7D%29%3B%0A%20%20%20%20%20%20%20%20%0A%20%20%20%20%0A%20%20%20%20%20%20%20%20function%20geo_json_ca86aa5283cd498d98482a89b756a2dd_styler%28feature%29%20%7B%0A%20%20%20%20%20%20%20%20%20%20%20%20switch%28feature.id%29%20%7B%0A%20%20%20%20%20%20%20%20%20%20%20%20%20%20%20%20default%3A%0A%20%20%20%20%20%20%20%20%20%20%20%20%20%20%20%20%20%20%20%20return%20%7B%22color%22%3A%20%22green%22%7D%3B%0A%20%20%20%20%20%20%20%20%20%20%20%20%7D%0A%20%20%20%20%20%20%20%20%7D%0A%20%20%20%20%20%20%20%20function%20geo_json_ca86aa5283cd498d98482a89b756a2dd_onEachFeature%28feature%2C%20layer%29%20%7B%0A%20%20%20%20%20%20%20%20%20%20%20%20layer.on%28%7B%0A%20%20%20%20%20%20%20%20%20%20%20%20%20%20%20%20click%3A%20function%28e%29%20%7B%0A%20%20%20%20%20%20%20%20%20%20%20%20%20%20%20%20%20%20%20%20map_613eb0ba15a8486fbd574b4589a31f31.fitBounds%28e.target.getBounds%28%29%29%3B%0A%20%20%20%20%20%20%20%20%20%20%20%20%20%20%20%20%7D%0A%20%20%20%20%20%20%20%20%20%20%20%20%7D%29%3B%0A%20%20%20%20%20%20%20%20%7D%3B%0A%20%20%20%20%20%20%20%20var%20geo_json_ca86aa5283cd498d98482a89b756a2dd%20%3D%20L.geoJson%28null%2C%20%7B%0A%20%20%20%20%20%20%20%20%20%20%20%20%20%20%20%20onEachFeature%3A%20geo_json_ca86aa5283cd498d98482a89b756a2dd_onEachFeature%2C%0A%20%20%20%20%20%20%20%20%20%20%20%20%0A%20%20%20%20%20%20%20%20%20%20%20%20%20%20%20%20style%3A%20geo_json_ca86aa5283cd498d98482a89b756a2dd_styler%2C%0A%20%20%20%20%20%20%20%20%7D%29.addTo%28map_613eb0ba15a8486fbd574b4589a31f31%29%3B%0A%0A%20%20%20%20%20%20%20%20function%20geo_json_ca86aa5283cd498d98482a89b756a2dd_add%20%28data%29%20%7B%0A%20%20%20%20%20%20%20%20%20%20%20%20geo_json_ca86aa5283cd498d98482a89b756a2dd.addData%28data%29%3B%0A%20%20%20%20%20%20%20%20%7D%0A%20%20%20%20%20%20%20%20%20%20%20%20geo_json_ca86aa5283cd498d98482a89b756a2dd_add%28%7B%22features%22%3A%20%5B%7B%22geometry%22%3A%20%7B%22coordinates%22%3A%20%5B%5B%5B-76.78971361199997%2C%2038.36094412891505%5D%2C%20%5B-75.76585939799998%2C%2038.36094412891505%5D%2C%20%5B-75.76585939799998%2C%2039.84470033741505%5D%2C%20%5B-76.78971361199997%2C%2039.84470033741505%5D%2C%20%5B-76.78971361199997%2C%2038.36094412891505%5D%5D%5D%2C%20%22type%22%3A%20%22Polygon%22%7D%2C%20%22id%22%3A%20%220%22%2C%20%22properties%22%3A%20%7B%22filename%22%3A%20%22etasw_1950001.tif%22%2C%20%22id%22%3A%20%220%22%2C%20%22title%22%3A%20%22s3%3A//dev-et-data/out/DelawareRiverBasin/Run12_24_2020/run_drb150_1224_bigs_chip39.84N-76.79E_o/1950/etasw_1950001.tif%22%7D%2C%20%22type%22%3A%20%22Feature%22%7D%5D%2C%20%22type%22%3A%20%22FeatureCollection%22%7D%29%3B%0A%20%20%20%20%20%20%20%20%0A%20%20%20%20%0A%20%20%20%20%20%20%20%20function%20geo_json_3f4f0039e46942c7a3712aefdf04d21f_styler%28feature%29%20%7B%0A%20%20%20%20%20%20%20%20%20%20%20%20switch%28feature.id%29%20%7B%0A%20%20%20%20%20%20%20%20%20%20%20%20%20%20%20%20default%3A%0A%20%20%20%20%20%20%20%20%20%20%20%20%20%20%20%20%20%20%20%20return%20%7B%22color%22%3A%20%22green%22%7D%3B%0A%20%20%20%20%20%20%20%20%20%20%20%20%7D%0A%20%20%20%20%20%20%20%20%7D%0A%20%20%20%20%20%20%20%20function%20geo_json_3f4f0039e46942c7a3712aefdf04d21f_onEachFeature%28feature%2C%20layer%29%20%7B%0A%20%20%20%20%20%20%20%20%20%20%20%20layer.on%28%7B%0A%20%20%20%20%20%20%20%20%20%20%20%20%20%20%20%20click%3A%20function%28e%29%20%7B%0A%20%20%20%20%20%20%20%20%20%20%20%20%20%20%20%20%20%20%20%20map_613eb0ba15a8486fbd574b4589a31f31.fitBounds%28e.target.getBounds%28%29%29%3B%0A%20%20%20%20%20%20%20%20%20%20%20%20%20%20%20%20%7D%0A%20%20%20%20%20%20%20%20%20%20%20%20%7D%29%3B%0A%20%20%20%20%20%20%20%20%7D%3B%0A%20%20%20%20%20%20%20%20var%20geo_json_3f4f0039e46942c7a3712aefdf04d21f%20%3D%20L.geoJson%28null%2C%20%7B%0A%20%20%20%20%20%20%20%20%20%20%20%20%20%20%20%20onEachFeature%3A%20geo_json_3f4f0039e46942c7a3712aefdf04d21f_onEachFeature%2C%0A%20%20%20%20%20%20%20%20%20%20%20%20%0A%20%20%20%20%20%20%20%20%20%20%20%20%20%20%20%20style%3A%20geo_json_3f4f0039e46942c7a3712aefdf04d21f_styler%2C%0A%20%20%20%20%20%20%20%20%7D%29.addTo%28map_613eb0ba15a8486fbd574b4589a31f31%29%3B%0A%0A%20%20%20%20%20%20%20%20function%20geo_json_3f4f0039e46942c7a3712aefdf04d21f_add%20%28data%29%20%7B%0A%20%20%20%20%20%20%20%20%20%20%20%20geo_json_3f4f0039e46942c7a3712aefdf04d21f.addData%28data%29%3B%0A%20%20%20%20%20%20%20%20%7D%0A%20%20%20%20%20%20%20%20%20%20%20%20geo_json_3f4f0039e46942c7a3712aefdf04d21f_add%28%7B%22features%22%3A%20%5B%7B%22geometry%22%3A%20%7B%22coordinates%22%3A%20%5B%5B%5B-73.72439398349997%2C%2039.84261933291505%5D%2C%20%5B-72.70053976949997%2C%2039.84261933291505%5D%2C%20%5B-72.70053976949997%2C%2041.32845654591505%5D%2C%20%5B-73.72439398349997%2C%2041.32845654591505%5D%2C%20%5B-73.72439398349997%2C%2039.84261933291505%5D%5D%5D%2C%20%22type%22%3A%20%22Polygon%22%7D%2C%20%22id%22%3A%20%220%22%2C%20%22properties%22%3A%20%7B%22filename%22%3A%20%22etasw_1950001.tif%22%2C%20%22id%22%3A%20%220%22%2C%20%22title%22%3A%20%22s3%3A//dev-et-data/out/DelawareRiverBasin/Run12_24_2020/run_drb150_1224_bigs_chip41.33N-73.72E_o/1950/etasw_1950001.tif%22%7D%2C%20%22type%22%3A%20%22Feature%22%7D%5D%2C%20%22type%22%3A%20%22FeatureCollection%22%7D%29%3B%0A%20%20%20%20%20%20%20%20%0A%20%20%20%20%0A%20%20%20%20%20%20%20%20function%20geo_json_aa90373555a04e6a86946977a4e0f6ce_styler%28feature%29%20%7B%0A%20%20%20%20%20%20%20%20%20%20%20%20switch%28feature.id%29%20%7B%0A%20%20%20%20%20%20%20%20%20%20%20%20%20%20%20%20default%3A%0A%20%20%20%20%20%20%20%20%20%20%20%20%20%20%20%20%20%20%20%20return%20%7B%22color%22%3A%20%22green%22%7D%3B%0A%20%20%20%20%20%20%20%20%20%20%20%20%7D%0A%20%20%20%20%20%20%20%20%7D%0A%20%20%20%20%20%20%20%20function%20geo_json_aa90373555a04e6a86946977a4e0f6ce_onEachFeature%28feature%2C%20layer%29%20%7B%0A%20%20%20%20%20%20%20%20%20%20%20%20layer.on%28%7B%0A%20%20%20%20%20%20%20%20%20%20%20%20%20%20%20%20click%3A%20function%28e%29%20%7B%0A%20%20%20%20%20%20%20%20%20%20%20%20%20%20%20%20%20%20%20%20map_613eb0ba15a8486fbd574b4589a31f31.fitBounds%28e.target.getBounds%28%29%29%3B%0A%20%20%20%20%20%20%20%20%20%20%20%20%20%20%20%20%7D%0A%20%20%20%20%20%20%20%20%20%20%20%20%7D%29%3B%0A%20%20%20%20%20%20%20%20%7D%3B%0A%20%20%20%20%20%20%20%20var%20geo_json_aa90373555a04e6a86946977a4e0f6ce%20%3D%20L.geoJson%28null%2C%20%7B%0A%20%20%20%20%20%20%20%20%20%20%20%20%20%20%20%20onEachFeature%3A%20geo_json_aa90373555a04e6a86946977a4e0f6ce_onEachFeature%2C%0A%20%20%20%20%20%20%20%20%20%20%20%20%0A%20%20%20%20%20%20%20%20%20%20%20%20%20%20%20%20style%3A%20geo_json_aa90373555a04e6a86946977a4e0f6ce_styler%2C%0A%20%20%20%20%20%20%20%20%7D%29.addTo%28map_613eb0ba15a8486fbd574b4589a31f31%29%3B%0A%0A%20%20%20%20%20%20%20%20function%20geo_json_aa90373555a04e6a86946977a4e0f6ce_add%20%28data%29%20%7B%0A%20%20%20%20%20%20%20%20%20%20%20%20geo_json_aa90373555a04e6a86946977a4e0f6ce.addData%28data%29%3B%0A%20%20%20%20%20%20%20%20%7D%0A%20%20%20%20%20%20%20%20%20%20%20%20geo_json_aa90373555a04e6a86946977a4e0f6ce_add%28%7B%22features%22%3A%20%5B%7B%22geometry%22%3A%20%7B%22coordinates%22%3A%20%5B%5B%5B-74.74616719299998%2C%2039.84261933291505%5D%2C%20%5B-73.72231297899998%2C%2039.84261933291505%5D%2C%20%5B-73.72231297899998%2C%2041.32845654591505%5D%2C%20%5B-74.74616719299998%2C%2041.32845654591505%5D%2C%20%5B-74.74616719299998%2C%2039.84261933291505%5D%5D%5D%2C%20%22type%22%3A%20%22Polygon%22%7D%2C%20%22id%22%3A%20%220%22%2C%20%22properties%22%3A%20%7B%22filename%22%3A%20%22etasw_1950001.tif%22%2C%20%22id%22%3A%20%220%22%2C%20%22title%22%3A%20%22s3%3A//dev-et-data/out/DelawareRiverBasin/Run12_24_2020/run_drb150_1224_bigs_chip41.33N-74.74E_o/1950/etasw_1950001.tif%22%7D%2C%20%22type%22%3A%20%22Feature%22%7D%5D%2C%20%22type%22%3A%20%22FeatureCollection%22%7D%29%3B%0A%20%20%20%20%20%20%20%20%0A%20%20%20%20%0A%20%20%20%20%20%20%20%20function%20geo_json_74e86ee4d9ba410c85399cd702dd61a6_styler%28feature%29%20%7B%0A%20%20%20%20%20%20%20%20%20%20%20%20switch%28feature.id%29%20%7B%0A%20%20%20%20%20%20%20%20%20%20%20%20%20%20%20%20default%3A%0A%20%20%20%20%20%20%20%20%20%20%20%20%20%20%20%20%20%20%20%20return%20%7B%22color%22%3A%20%22green%22%7D%3B%0A%20%20%20%20%20%20%20%20%20%20%20%20%7D%0A%20%20%20%20%20%20%20%20%7D%0A%20%20%20%20%20%20%20%20function%20geo_json_74e86ee4d9ba410c85399cd702dd61a6_onEachFeature%28feature%2C%20layer%29%20%7B%0A%20%20%20%20%20%20%20%20%20%20%20%20layer.on%28%7B%0A%20%20%20%20%20%20%20%20%20%20%20%20%20%20%20%20click%3A%20function%28e%29%20%7B%0A%20%20%20%20%20%20%20%20%20%20%20%20%20%20%20%20%20%20%20%20map_613eb0ba15a8486fbd574b4589a31f31.fitBounds%28e.target.getBounds%28%29%29%3B%0A%20%20%20%20%20%20%20%20%20%20%20%20%20%20%20%20%7D%0A%20%20%20%20%20%20%20%20%20%20%20%20%7D%29%3B%0A%20%20%20%20%20%20%20%20%7D%3B%0A%20%20%20%20%20%20%20%20var%20geo_json_74e86ee4d9ba410c85399cd702dd61a6%20%3D%20L.geoJson%28null%2C%20%7B%0A%20%20%20%20%20%20%20%20%20%20%20%20%20%20%20%20onEachFeature%3A%20geo_json_74e86ee4d9ba410c85399cd702dd61a6_onEachFeature%2C%0A%20%20%20%20%20%20%20%20%20%20%20%20%0A%20%20%20%20%20%20%20%20%20%20%20%20%20%20%20%20style%3A%20geo_json_74e86ee4d9ba410c85399cd702dd61a6_styler%2C%0A%20%20%20%20%20%20%20%20%7D%29.addTo%28map_613eb0ba15a8486fbd574b4589a31f31%29%3B%0A%0A%20%20%20%20%20%20%20%20function%20geo_json_74e86ee4d9ba410c85399cd702dd61a6_add%20%28data%29%20%7B%0A%20%20%20%20%20%20%20%20%20%20%20%20geo_json_74e86ee4d9ba410c85399cd702dd61a6.addData%28data%29%3B%0A%20%20%20%20%20%20%20%20%7D%0A%20%20%20%20%20%20%20%20%20%20%20%20geo_json_74e86ee4d9ba410c85399cd702dd61a6_add%28%7B%22features%22%3A%20%5B%7B%22geometry%22%3A%20%7B%22coordinates%22%3A%20%5B%5B%5B-75.76794040249997%2C%2039.84261933291505%5D%2C%20%5B-74.74408618849998%2C%2039.84261933291505%5D%2C%20%5B-74.74408618849998%2C%2041.32845654591505%5D%2C%20%5B-75.76794040249997%2C%2041.32845654591505%5D%2C%20%5B-75.76794040249997%2C%2039.84261933291505%5D%5D%5D%2C%20%22type%22%3A%20%22Polygon%22%7D%2C%20%22id%22%3A%20%220%22%2C%20%22properties%22%3A%20%7B%22filename%22%3A%20%22etasw_1950001.tif%22%2C%20%22id%22%3A%20%220%22%2C%20%22title%22%3A%20%22s3%3A//dev-et-data/out/DelawareRiverBasin/Run12_24_2020/run_drb150_1224_bigs_chip41.33N-75.77E_o/1950/etasw_1950001.tif%22%7D%2C%20%22type%22%3A%20%22Feature%22%7D%5D%2C%20%22type%22%3A%20%22FeatureCollection%22%7D%29%3B%0A%20%20%20%20%20%20%20%20%0A%20%20%20%20%0A%20%20%20%20%20%20%20%20function%20geo_json_c86a26758f4a4b239c7c87ad4fcdd326_styler%28feature%29%20%7B%0A%20%20%20%20%20%20%20%20%20%20%20%20switch%28feature.id%29%20%7B%0A%20%20%20%20%20%20%20%20%20%20%20%20%20%20%20%20default%3A%0A%20%20%20%20%20%20%20%20%20%20%20%20%20%20%20%20%20%20%20%20return%20%7B%22color%22%3A%20%22green%22%7D%3B%0A%20%20%20%20%20%20%20%20%20%20%20%20%7D%0A%20%20%20%20%20%20%20%20%7D%0A%20%20%20%20%20%20%20%20function%20geo_json_c86a26758f4a4b239c7c87ad4fcdd326_onEachFeature%28feature%2C%20layer%29%20%7B%0A%20%20%20%20%20%20%20%20%20%20%20%20layer.on%28%7B%0A%20%20%20%20%20%20%20%20%20%20%20%20%20%20%20%20click%3A%20function%28e%29%20%7B%0A%20%20%20%20%20%20%20%20%20%20%20%20%20%20%20%20%20%20%20%20map_613eb0ba15a8486fbd574b4589a31f31.fitBounds%28e.target.getBounds%28%29%29%3B%0A%20%20%20%20%20%20%20%20%20%20%20%20%20%20%20%20%7D%0A%20%20%20%20%20%20%20%20%20%20%20%20%7D%29%3B%0A%20%20%20%20%20%20%20%20%7D%3B%0A%20%20%20%20%20%20%20%20var%20geo_json_c86a26758f4a4b239c7c87ad4fcdd326%20%3D%20L.geoJson%28null%2C%20%7B%0A%20%20%20%20%20%20%20%20%20%20%20%20%20%20%20%20onEachFeature%3A%20geo_json_c86a26758f4a4b239c7c87ad4fcdd326_onEachFeature%2C%0A%20%20%20%20%20%20%20%20%20%20%20%20%0A%20%20%20%20%20%20%20%20%20%20%20%20%20%20%20%20style%3A%20geo_json_c86a26758f4a4b239c7c87ad4fcdd326_styler%2C%0A%20%20%20%20%20%20%20%20%7D%29.addTo%28map_613eb0ba15a8486fbd574b4589a31f31%29%3B%0A%0A%20%20%20%20%20%20%20%20function%20geo_json_c86a26758f4a4b239c7c87ad4fcdd326_add%20%28data%29%20%7B%0A%20%20%20%20%20%20%20%20%20%20%20%20geo_json_c86a26758f4a4b239c7c87ad4fcdd326.addData%28data%29%3B%0A%20%20%20%20%20%20%20%20%7D%0A%20%20%20%20%20%20%20%20%20%20%20%20geo_json_c86a26758f4a4b239c7c87ad4fcdd326_add%28%7B%22features%22%3A%20%5B%7B%22geometry%22%3A%20%7B%22coordinates%22%3A%20%5B%5B%5B-76.78971361199997%2C%2039.84261933291505%5D%2C%20%5B-75.76585939799998%2C%2039.84261933291505%5D%2C%20%5B-75.76585939799998%2C%2041.32845654591505%5D%2C%20%5B-76.78971361199997%2C%2041.32845654591505%5D%2C%20%5B-76.78971361199997%2C%2039.84261933291505%5D%5D%5D%2C%20%22type%22%3A%20%22Polygon%22%7D%2C%20%22id%22%3A%20%220%22%2C%20%22properties%22%3A%20%7B%22filename%22%3A%20%22etasw_1950001.tif%22%2C%20%22id%22%3A%20%220%22%2C%20%22title%22%3A%20%22s3%3A//dev-et-data/out/DelawareRiverBasin/Run12_24_2020/run_drb150_1224_bigs_chip41.33N-76.79E_o/1950/etasw_1950001.tif%22%7D%2C%20%22type%22%3A%20%22Feature%22%7D%5D%2C%20%22type%22%3A%20%22FeatureCollection%22%7D%29%3B%0A%20%20%20%20%20%20%20%20%0A%20%20%20%20%0A%20%20%20%20%20%20%20%20function%20geo_json_171fe37a188648ed8562ac0c70d9265e_styler%28feature%29%20%7B%0A%20%20%20%20%20%20%20%20%20%20%20%20switch%28feature.id%29%20%7B%0A%20%20%20%20%20%20%20%20%20%20%20%20%20%20%20%20default%3A%0A%20%20%20%20%20%20%20%20%20%20%20%20%20%20%20%20%20%20%20%20return%20%7B%22color%22%3A%20%22green%22%7D%3B%0A%20%20%20%20%20%20%20%20%20%20%20%20%7D%0A%20%20%20%20%20%20%20%20%7D%0A%20%20%20%20%20%20%20%20function%20geo_json_171fe37a188648ed8562ac0c70d9265e_onEachFeature%28feature%2C%20layer%29%20%7B%0A%20%20%20%20%20%20%20%20%20%20%20%20layer.on%28%7B%0A%20%20%20%20%20%20%20%20%20%20%20%20%20%20%20%20click%3A%20function%28e%29%20%7B%0A%20%20%20%20%20%20%20%20%20%20%20%20%20%20%20%20%20%20%20%20map_613eb0ba15a8486fbd574b4589a31f31.fitBounds%28e.target.getBounds%28%29%29%3B%0A%20%20%20%20%20%20%20%20%20%20%20%20%20%20%20%20%7D%0A%20%20%20%20%20%20%20%20%20%20%20%20%7D%29%3B%0A%20%20%20%20%20%20%20%20%7D%3B%0A%20%20%20%20%20%20%20%20var%20geo_json_171fe37a188648ed8562ac0c70d9265e%20%3D%20L.geoJson%28null%2C%20%7B%0A%20%20%20%20%20%20%20%20%20%20%20%20%20%20%20%20onEachFeature%3A%20geo_json_171fe37a188648ed8562ac0c70d9265e_onEachFeature%2C%0A%20%20%20%20%20%20%20%20%20%20%20%20%0A%20%20%20%20%20%20%20%20%20%20%20%20%20%20%20%20style%3A%20geo_json_171fe37a188648ed8562ac0c70d9265e_styler%2C%0A%20%20%20%20%20%20%20%20%7D%29.addTo%28map_613eb0ba15a8486fbd574b4589a31f31%29%3B%0A%0A%20%20%20%20%20%20%20%20function%20geo_json_171fe37a188648ed8562ac0c70d9265e_add%20%28data%29%20%7B%0A%20%20%20%20%20%20%20%20%20%20%20%20geo_json_171fe37a188648ed8562ac0c70d9265e.addData%28data%29%3B%0A%20%20%20%20%20%20%20%20%7D%0A%20%20%20%20%20%20%20%20%20%20%20%20geo_json_171fe37a188648ed8562ac0c70d9265e_add%28%7B%22features%22%3A%20%5B%7B%22geometry%22%3A%20%7B%22coordinates%22%3A%20%5B%5B%5B-73.72439398349997%2C%2041.326375541415054%5D%2C%20%5B-72.70053976949997%2C%2041.326375541415054%5D%2C%20%5B-72.70053976949997%2C%2042.81013174991505%5D%2C%20%5B-73.72439398349997%2C%2042.81013174991505%5D%2C%20%5B-73.72439398349997%2C%2041.326375541415054%5D%5D%5D%2C%20%22type%22%3A%20%22Polygon%22%7D%2C%20%22id%22%3A%20%220%22%2C%20%22properties%22%3A%20%7B%22filename%22%3A%20%22etasw_1950001.tif%22%2C%20%22id%22%3A%20%220%22%2C%20%22title%22%3A%20%22s3%3A//dev-et-data/out/DelawareRiverBasin/Run12_24_2020/run_drb150_1224_bigs_chip42.81N-73.72E_o/1950/etasw_1950001.tif%22%7D%2C%20%22type%22%3A%20%22Feature%22%7D%5D%2C%20%22type%22%3A%20%22FeatureCollection%22%7D%29%3B%0A%20%20%20%20%20%20%20%20%0A%20%20%20%20%0A%20%20%20%20%20%20%20%20function%20geo_json_f8b38b64fd7a46cb84e0f7bef1898a79_styler%28feature%29%20%7B%0A%20%20%20%20%20%20%20%20%20%20%20%20switch%28feature.id%29%20%7B%0A%20%20%20%20%20%20%20%20%20%20%20%20%20%20%20%20default%3A%0A%20%20%20%20%20%20%20%20%20%20%20%20%20%20%20%20%20%20%20%20return%20%7B%22color%22%3A%20%22green%22%7D%3B%0A%20%20%20%20%20%20%20%20%20%20%20%20%7D%0A%20%20%20%20%20%20%20%20%7D%0A%20%20%20%20%20%20%20%20function%20geo_json_f8b38b64fd7a46cb84e0f7bef1898a79_onEachFeature%28feature%2C%20layer%29%20%7B%0A%20%20%20%20%20%20%20%20%20%20%20%20layer.on%28%7B%0A%20%20%20%20%20%20%20%20%20%20%20%20%20%20%20%20click%3A%20function%28e%29%20%7B%0A%20%20%20%20%20%20%20%20%20%20%20%20%20%20%20%20%20%20%20%20map_613eb0ba15a8486fbd574b4589a31f31.fitBounds%28e.target.getBounds%28%29%29%3B%0A%20%20%20%20%20%20%20%20%20%20%20%20%20%20%20%20%7D%0A%20%20%20%20%20%20%20%20%20%20%20%20%7D%29%3B%0A%20%20%20%20%20%20%20%20%7D%3B%0A%20%20%20%20%20%20%20%20var%20geo_json_f8b38b64fd7a46cb84e0f7bef1898a79%20%3D%20L.geoJson%28null%2C%20%7B%0A%20%20%20%20%20%20%20%20%20%20%20%20%20%20%20%20onEachFeature%3A%20geo_json_f8b38b64fd7a46cb84e0f7bef1898a79_onEachFeature%2C%0A%20%20%20%20%20%20%20%20%20%20%20%20%0A%20%20%20%20%20%20%20%20%20%20%20%20%20%20%20%20style%3A%20geo_json_f8b38b64fd7a46cb84e0f7bef1898a79_styler%2C%0A%20%20%20%20%20%20%20%20%7D%29.addTo%28map_613eb0ba15a8486fbd574b4589a31f31%29%3B%0A%0A%20%20%20%20%20%20%20%20function%20geo_json_f8b38b64fd7a46cb84e0f7bef1898a79_add%20%28data%29%20%7B%0A%20%20%20%20%20%20%20%20%20%20%20%20geo_json_f8b38b64fd7a46cb84e0f7bef1898a79.addData%28data%29%3B%0A%20%20%20%20%20%20%20%20%7D%0A%20%20%20%20%20%20%20%20%20%20%20%20geo_json_f8b38b64fd7a46cb84e0f7bef1898a79_add%28%7B%22features%22%3A%20%5B%7B%22geometry%22%3A%20%7B%22coordinates%22%3A%20%5B%5B%5B-74.74616719299998%2C%2041.326375541415054%5D%2C%20%5B-73.72231297899998%2C%2041.326375541415054%5D%2C%20%5B-73.72231297899998%2C%2042.81013174991505%5D%2C%20%5B-74.74616719299998%2C%2042.81013174991505%5D%2C%20%5B-74.74616719299998%2C%2041.326375541415054%5D%5D%5D%2C%20%22type%22%3A%20%22Polygon%22%7D%2C%20%22id%22%3A%20%220%22%2C%20%22properties%22%3A%20%7B%22filename%22%3A%20%22etasw_1950001.tif%22%2C%20%22id%22%3A%20%220%22%2C%20%22title%22%3A%20%22s3%3A//dev-et-data/out/DelawareRiverBasin/Run12_24_2020/run_drb150_1224_bigs_chip42.81N-74.74E_o/1950/etasw_1950001.tif%22%7D%2C%20%22type%22%3A%20%22Feature%22%7D%5D%2C%20%22type%22%3A%20%22FeatureCollection%22%7D%29%3B%0A%20%20%20%20%20%20%20%20%0A%20%20%20%20%0A%20%20%20%20%20%20%20%20function%20geo_json_e0f970186a334002b5fe4a35f3b90616_styler%28feature%29%20%7B%0A%20%20%20%20%20%20%20%20%20%20%20%20switch%28feature.id%29%20%7B%0A%20%20%20%20%20%20%20%20%20%20%20%20%20%20%20%20default%3A%0A%20%20%20%20%20%20%20%20%20%20%20%20%20%20%20%20%20%20%20%20return%20%7B%22color%22%3A%20%22green%22%7D%3B%0A%20%20%20%20%20%20%20%20%20%20%20%20%7D%0A%20%20%20%20%20%20%20%20%7D%0A%20%20%20%20%20%20%20%20function%20geo_json_e0f970186a334002b5fe4a35f3b90616_onEachFeature%28feature%2C%20layer%29%20%7B%0A%20%20%20%20%20%20%20%20%20%20%20%20layer.on%28%7B%0A%20%20%20%20%20%20%20%20%20%20%20%20%20%20%20%20click%3A%20function%28e%29%20%7B%0A%20%20%20%20%20%20%20%20%20%20%20%20%20%20%20%20%20%20%20%20map_613eb0ba15a8486fbd574b4589a31f31.fitBounds%28e.target.getBounds%28%29%29%3B%0A%20%20%20%20%20%20%20%20%20%20%20%20%20%20%20%20%7D%0A%20%20%20%20%20%20%20%20%20%20%20%20%7D%29%3B%0A%20%20%20%20%20%20%20%20%7D%3B%0A%20%20%20%20%20%20%20%20var%20geo_json_e0f970186a334002b5fe4a35f3b90616%20%3D%20L.geoJson%28null%2C%20%7B%0A%20%20%20%20%20%20%20%20%20%20%20%20%20%20%20%20onEachFeature%3A%20geo_json_e0f970186a334002b5fe4a35f3b90616_onEachFeature%2C%0A%20%20%20%20%20%20%20%20%20%20%20%20%0A%20%20%20%20%20%20%20%20%20%20%20%20%20%20%20%20style%3A%20geo_json_e0f970186a334002b5fe4a35f3b90616_styler%2C%0A%20%20%20%20%20%20%20%20%7D%29.addTo%28map_613eb0ba15a8486fbd574b4589a31f31%29%3B%0A%0A%20%20%20%20%20%20%20%20function%20geo_json_e0f970186a334002b5fe4a35f3b90616_add%20%28data%29%20%7B%0A%20%20%20%20%20%20%20%20%20%20%20%20geo_json_e0f970186a334002b5fe4a35f3b90616.addData%28data%29%3B%0A%20%20%20%20%20%20%20%20%7D%0A%20%20%20%20%20%20%20%20%20%20%20%20geo_json_e0f970186a334002b5fe4a35f3b90616_add%28%7B%22features%22%3A%20%5B%7B%22geometry%22%3A%20%7B%22coordinates%22%3A%20%5B%5B%5B-75.76794040249997%2C%2041.326375541415054%5D%2C%20%5B-74.74408618849998%2C%2041.326375541415054%5D%2C%20%5B-74.74408618849998%2C%2042.81013174991505%5D%2C%20%5B-75.76794040249997%2C%2042.81013174991505%5D%2C%20%5B-75.76794040249997%2C%2041.326375541415054%5D%5D%5D%2C%20%22type%22%3A%20%22Polygon%22%7D%2C%20%22id%22%3A%20%220%22%2C%20%22properties%22%3A%20%7B%22filename%22%3A%20%22etasw_1950001.tif%22%2C%20%22id%22%3A%20%220%22%2C%20%22title%22%3A%20%22s3%3A//dev-et-data/out/DelawareRiverBasin/Run12_24_2020/run_drb150_1224_bigs_chip42.81N-75.77E_o/1950/etasw_1950001.tif%22%7D%2C%20%22type%22%3A%20%22Feature%22%7D%5D%2C%20%22type%22%3A%20%22FeatureCollection%22%7D%29%3B%0A%20%20%20%20%20%20%20%20%0A%20%20%20%20%0A%20%20%20%20%20%20%20%20function%20geo_json_ce408b8e08d8482cbc9bc55581e783ef_styler%28feature%29%20%7B%0A%20%20%20%20%20%20%20%20%20%20%20%20switch%28feature.id%29%20%7B%0A%20%20%20%20%20%20%20%20%20%20%20%20%20%20%20%20default%3A%0A%20%20%20%20%20%20%20%20%20%20%20%20%20%20%20%20%20%20%20%20return%20%7B%22color%22%3A%20%22green%22%7D%3B%0A%20%20%20%20%20%20%20%20%20%20%20%20%7D%0A%20%20%20%20%20%20%20%20%7D%0A%20%20%20%20%20%20%20%20function%20geo_json_ce408b8e08d8482cbc9bc55581e783ef_onEachFeature%28feature%2C%20layer%29%20%7B%0A%20%20%20%20%20%20%20%20%20%20%20%20layer.on%28%7B%0A%20%20%20%20%20%20%20%20%20%20%20%20%20%20%20%20click%3A%20function%28e%29%20%7B%0A%20%20%20%20%20%20%20%20%20%20%20%20%20%20%20%20%20%20%20%20map_613eb0ba15a8486fbd574b4589a31f31.fitBounds%28e.target.getBounds%28%29%29%3B%0A%20%20%20%20%20%20%20%20%20%20%20%20%20%20%20%20%7D%0A%20%20%20%20%20%20%20%20%20%20%20%20%7D%29%3B%0A%20%20%20%20%20%20%20%20%7D%3B%0A%20%20%20%20%20%20%20%20var%20geo_json_ce408b8e08d8482cbc9bc55581e783ef%20%3D%20L.geoJson%28null%2C%20%7B%0A%20%20%20%20%20%20%20%20%20%20%20%20%20%20%20%20onEachFeature%3A%20geo_json_ce408b8e08d8482cbc9bc55581e783ef_onEachFeature%2C%0A%20%20%20%20%20%20%20%20%20%20%20%20%0A%20%20%20%20%20%20%20%20%20%20%20%20%20%20%20%20style%3A%20geo_json_ce408b8e08d8482cbc9bc55581e783ef_styler%2C%0A%20%20%20%20%20%20%20%20%7D%29.addTo%28map_613eb0ba15a8486fbd574b4589a31f31%29%3B%0A%0A%20%20%20%20%20%20%20%20function%20geo_json_ce408b8e08d8482cbc9bc55581e783ef_add%20%28data%29%20%7B%0A%20%20%20%20%20%20%20%20%20%20%20%20geo_json_ce408b8e08d8482cbc9bc55581e783ef.addData%28data%29%3B%0A%20%20%20%20%20%20%20%20%7D%0A%20%20%20%20%20%20%20%20%20%20%20%20geo_json_ce408b8e08d8482cbc9bc55581e783ef_add%28%7B%22features%22%3A%20%5B%7B%22geometry%22%3A%20%7B%22coordinates%22%3A%20%5B%5B%5B-76.78971361199997%2C%2041.326375541415054%5D%2C%20%5B-75.76585939799998%2C%2041.326375541415054%5D%2C%20%5B-75.76585939799998%2C%2042.81013174991505%5D%2C%20%5B-76.78971361199997%2C%2042.81013174991505%5D%2C%20%5B-76.78971361199997%2C%2041.326375541415054%5D%5D%5D%2C%20%22type%22%3A%20%22Polygon%22%7D%2C%20%22id%22%3A%20%220%22%2C%20%22properties%22%3A%20%7B%22filename%22%3A%20%22etasw_1950001.tif%22%2C%20%22id%22%3A%20%220%22%2C%20%22title%22%3A%20%22s3%3A//dev-et-data/out/DelawareRiverBasin/Run12_24_2020/run_drb150_1224_bigs_chip42.81N-76.79E_o/1950/etasw_1950001.tif%22%7D%2C%20%22type%22%3A%20%22Feature%22%7D%5D%2C%20%22type%22%3A%20%22FeatureCollection%22%7D%29%3B%0A%20%20%20%20%20%20%20%20%0A%3C/script%3E onload=\"this.contentDocument.open();this.contentDocument.write(    decodeURIComponent(this.getAttribute('data-html')));this.contentDocument.close();\" allowfullscreen webkitallowfullscreen mozallowfullscreen></iframe></div></div>"
      ],
      "text/plain": [
       "<folium.folium.Map at 0x7f3783cc69b0>"
      ]
     },
     "execution_count": 24,
     "metadata": {},
     "output_type": "execute_result"
    }
   ],
   "source": [
    "mymap"
   ]
  },
  {
   "cell_type": "code",
   "execution_count": 25,
   "metadata": {},
   "outputs": [
    {
     "data": {
      "text/plain": [
       "'dev-et-data/enduser/DelawareRiverBasin/Run09_13_2020'"
      ]
     },
     "execution_count": 25,
     "metadata": {},
     "output_type": "execute_result"
    }
   ],
   "source": [
    "path1 = 'dev-et-data/enduser/DelawareRiverBasin'\n",
    "\n",
    "path_list = get_paths(path1)\n",
    "\n",
    "path_list[0]"
   ]
  },
  {
   "cell_type": "code",
   "execution_count": 26,
   "metadata": {},
   "outputs": [
    {
     "data": {
      "text/plain": [
       "['dev-et-data/enduser/DelawareRiverBasin/Run09_13_2020',\n",
       " 'dev-et-data/enduser/DelawareRiverBasin/dekade_4',\n",
       " 'dev-et-data/enduser/DelawareRiverBasin/drb150',\n",
       " 'dev-et-data/enduser/DelawareRiverBasin/drb150_nofunswitch',\n",
       " 'dev-et-data/enduser/DelawareRiverBasin/drb150a',\n",
       " 'dev-et-data/enduser/DelawareRiverBasin/drb150b',\n",
       " 'dev-et-data/enduser/DelawareRiverBasin/drb150bAnnual',\n",
       " 'dev-et-data/enduser/DelawareRiverBasin/drb150c',\n",
       " 'dev-et-data/enduser/DelawareRiverBasin/drb150cAnnual']"
      ]
     },
     "execution_count": 26,
     "metadata": {},
     "output_type": "execute_result"
    }
   ],
   "source": [
    "path_list"
   ]
  },
  {
   "cell_type": "code",
   "execution_count": 27,
   "metadata": {},
   "outputs": [
    {
     "data": {
      "text/plain": [
       "'dev-et-data/enduser/DelawareRiverBasin/drb150cAnnual/etasw_1950.tif'"
      ]
     },
     "execution_count": 27,
     "metadata": {},
     "output_type": "execute_result"
    }
   ],
   "source": [
    "path1 = 'dev-et-data/enduser/DelawareRiverBasin/drb150cAnnual'\n",
    "path_list = get_paths(path1)\n",
    "\n",
    "path_list[0]"
   ]
  },
  {
   "cell_type": "code",
   "execution_count": 28,
   "metadata": {},
   "outputs": [],
   "source": [
    "name = './geo/fullscene.geojason'\n",
    "geoj0 = geojson_create_from_tif(f's3://{path_list[0]}',name)\n"
   ]
  },
  {
   "cell_type": "code",
   "execution_count": 29,
   "metadata": {},
   "outputs": [
    {
     "data": {
      "text/html": [
       "<div style=\"width:100%;\"><div style=\"position:relative;width:100%;height:0;padding-bottom:60%;\"><span style=\"color:#565656\">Make this Notebook Trusted to load map: File -> Trust Notebook</span><iframe src=\"about:blank\" style=\"position:absolute;width:100%;height:100%;left:0;top:0;border:none !important;\" data-html=%3C%21DOCTYPE%20html%3E%0A%3Chead%3E%20%20%20%20%0A%20%20%20%20%3Cmeta%20http-equiv%3D%22content-type%22%20content%3D%22text/html%3B%20charset%3DUTF-8%22%20/%3E%0A%20%20%20%20%0A%20%20%20%20%20%20%20%20%3Cscript%3E%0A%20%20%20%20%20%20%20%20%20%20%20%20L_NO_TOUCH%20%3D%20false%3B%0A%20%20%20%20%20%20%20%20%20%20%20%20L_DISABLE_3D%20%3D%20false%3B%0A%20%20%20%20%20%20%20%20%3C/script%3E%0A%20%20%20%20%0A%20%20%20%20%3Cscript%20src%3D%22https%3A//cdn.jsdelivr.net/npm/leaflet%401.6.0/dist/leaflet.js%22%3E%3C/script%3E%0A%20%20%20%20%3Cscript%20src%3D%22https%3A//code.jquery.com/jquery-1.12.4.min.js%22%3E%3C/script%3E%0A%20%20%20%20%3Cscript%20src%3D%22https%3A//maxcdn.bootstrapcdn.com/bootstrap/3.2.0/js/bootstrap.min.js%22%3E%3C/script%3E%0A%20%20%20%20%3Cscript%20src%3D%22https%3A//cdnjs.cloudflare.com/ajax/libs/Leaflet.awesome-markers/2.0.2/leaflet.awesome-markers.js%22%3E%3C/script%3E%0A%20%20%20%20%3Clink%20rel%3D%22stylesheet%22%20href%3D%22https%3A//cdn.jsdelivr.net/npm/leaflet%401.6.0/dist/leaflet.css%22/%3E%0A%20%20%20%20%3Clink%20rel%3D%22stylesheet%22%20href%3D%22https%3A//maxcdn.bootstrapcdn.com/bootstrap/3.2.0/css/bootstrap.min.css%22/%3E%0A%20%20%20%20%3Clink%20rel%3D%22stylesheet%22%20href%3D%22https%3A//maxcdn.bootstrapcdn.com/bootstrap/3.2.0/css/bootstrap-theme.min.css%22/%3E%0A%20%20%20%20%3Clink%20rel%3D%22stylesheet%22%20href%3D%22https%3A//maxcdn.bootstrapcdn.com/font-awesome/4.6.3/css/font-awesome.min.css%22/%3E%0A%20%20%20%20%3Clink%20rel%3D%22stylesheet%22%20href%3D%22https%3A//cdnjs.cloudflare.com/ajax/libs/Leaflet.awesome-markers/2.0.2/leaflet.awesome-markers.css%22/%3E%0A%20%20%20%20%3Clink%20rel%3D%22stylesheet%22%20href%3D%22https%3A//rawcdn.githack.com/python-visualization/folium/master/folium/templates/leaflet.awesome.rotate.css%22/%3E%0A%20%20%20%20%3Cstyle%3Ehtml%2C%20body%20%7Bwidth%3A%20100%25%3Bheight%3A%20100%25%3Bmargin%3A%200%3Bpadding%3A%200%3B%7D%3C/style%3E%0A%20%20%20%20%3Cstyle%3E%23map%20%7Bposition%3Aabsolute%3Btop%3A0%3Bbottom%3A0%3Bright%3A0%3Bleft%3A0%3B%7D%3C/style%3E%0A%20%20%20%20%0A%20%20%20%20%20%20%20%20%20%20%20%20%3Cmeta%20name%3D%22viewport%22%20content%3D%22width%3Ddevice-width%2C%0A%20%20%20%20%20%20%20%20%20%20%20%20%20%20%20%20initial-scale%3D1.0%2C%20maximum-scale%3D1.0%2C%20user-scalable%3Dno%22%20/%3E%0A%20%20%20%20%20%20%20%20%20%20%20%20%3Cstyle%3E%0A%20%20%20%20%20%20%20%20%20%20%20%20%20%20%20%20%23map_613eb0ba15a8486fbd574b4589a31f31%20%7B%0A%20%20%20%20%20%20%20%20%20%20%20%20%20%20%20%20%20%20%20%20position%3A%20relative%3B%0A%20%20%20%20%20%20%20%20%20%20%20%20%20%20%20%20%20%20%20%20width%3A%20100.0%25%3B%0A%20%20%20%20%20%20%20%20%20%20%20%20%20%20%20%20%20%20%20%20height%3A%20100.0%25%3B%0A%20%20%20%20%20%20%20%20%20%20%20%20%20%20%20%20%20%20%20%20left%3A%200.0%25%3B%0A%20%20%20%20%20%20%20%20%20%20%20%20%20%20%20%20%20%20%20%20top%3A%200.0%25%3B%0A%20%20%20%20%20%20%20%20%20%20%20%20%20%20%20%20%7D%0A%20%20%20%20%20%20%20%20%20%20%20%20%3C/style%3E%0A%20%20%20%20%20%20%20%20%0A%3C/head%3E%0A%3Cbody%3E%20%20%20%20%0A%20%20%20%20%0A%20%20%20%20%20%20%20%20%20%20%20%20%3Cdiv%20class%3D%22folium-map%22%20id%3D%22map_613eb0ba15a8486fbd574b4589a31f31%22%20%3E%3C/div%3E%0A%20%20%20%20%20%20%20%20%0A%3C/body%3E%0A%3Cscript%3E%20%20%20%20%0A%20%20%20%20%0A%20%20%20%20%20%20%20%20%20%20%20%20var%20map_613eb0ba15a8486fbd574b4589a31f31%20%3D%20L.map%28%0A%20%20%20%20%20%20%20%20%20%20%20%20%20%20%20%20%22map_613eb0ba15a8486fbd574b4589a31f31%22%2C%0A%20%20%20%20%20%20%20%20%20%20%20%20%20%20%20%20%7B%0A%20%20%20%20%20%20%20%20%20%20%20%20%20%20%20%20%20%20%20%20center%3A%20%5B38.36094412891505%2C%20-73.72439398349997%5D%2C%0A%20%20%20%20%20%20%20%20%20%20%20%20%20%20%20%20%20%20%20%20crs%3A%20L.CRS.EPSG3857%2C%0A%20%20%20%20%20%20%20%20%20%20%20%20%20%20%20%20%20%20%20%20zoom%3A%2012%2C%0A%20%20%20%20%20%20%20%20%20%20%20%20%20%20%20%20%20%20%20%20zoomControl%3A%20true%2C%0A%20%20%20%20%20%20%20%20%20%20%20%20%20%20%20%20%20%20%20%20preferCanvas%3A%20false%2C%0A%20%20%20%20%20%20%20%20%20%20%20%20%20%20%20%20%20%20%20%20center%3A%20%5B38.36094412891505%2C%20-73.72439398349997%5D%2C%0A%20%20%20%20%20%20%20%20%20%20%20%20%20%20%20%20%7D%0A%20%20%20%20%20%20%20%20%20%20%20%20%29%3B%0A%0A%20%20%20%20%20%20%20%20%20%20%20%20%0A%0A%20%20%20%20%20%20%20%20%0A%20%20%20%20%0A%20%20%20%20%20%20%20%20%20%20%20%20var%20tile_layer_60f694b6fe5b4735a1dcbf105cb055a6%20%3D%20L.tileLayer%28%0A%20%20%20%20%20%20%20%20%20%20%20%20%20%20%20%20%22https%3A//%7Bs%7D.tile.openstreetmap.org/%7Bz%7D/%7Bx%7D/%7By%7D.png%22%2C%0A%20%20%20%20%20%20%20%20%20%20%20%20%20%20%20%20%7B%22attribution%22%3A%20%22Data%20by%20%5Cu0026copy%3B%20%5Cu003ca%20href%3D%5C%22http%3A//openstreetmap.org%5C%22%5Cu003eOpenStreetMap%5Cu003c/a%5Cu003e%2C%20under%20%5Cu003ca%20href%3D%5C%22http%3A//www.openstreetmap.org/copyright%5C%22%5Cu003eODbL%5Cu003c/a%5Cu003e.%22%2C%20%22detectRetina%22%3A%20false%2C%20%22maxNativeZoom%22%3A%2018%2C%20%22maxZoom%22%3A%2018%2C%20%22minZoom%22%3A%200%2C%20%22noWrap%22%3A%20false%2C%20%22opacity%22%3A%201%2C%20%22subdomains%22%3A%20%22abc%22%2C%20%22tms%22%3A%20false%7D%0A%20%20%20%20%20%20%20%20%20%20%20%20%29.addTo%28map_613eb0ba15a8486fbd574b4589a31f31%29%3B%0A%20%20%20%20%20%20%20%20%0A%20%20%20%20%0A%20%20%20%20%20%20%20%20%20%20%20%20map_613eb0ba15a8486fbd574b4589a31f31.fitBounds%28%0A%20%20%20%20%20%20%20%20%20%20%20%20%20%20%20%20%5B%5B38.36094412891505%2C%20-73.72439398349997%5D%2C%20%5B39.84470033741505%2C%20-72.70053976949997%5D%5D%2C%0A%20%20%20%20%20%20%20%20%20%20%20%20%20%20%20%20%7B%7D%0A%20%20%20%20%20%20%20%20%20%20%20%20%29%3B%0A%20%20%20%20%20%20%20%20%0A%20%20%20%20%0A%20%20%20%20%20%20%20%20function%20geo_json_8d31b366a8ca4685bc271935ec013ff4_styler%28feature%29%20%7B%0A%20%20%20%20%20%20%20%20%20%20%20%20switch%28feature.id%29%20%7B%0A%20%20%20%20%20%20%20%20%20%20%20%20%20%20%20%20default%3A%0A%20%20%20%20%20%20%20%20%20%20%20%20%20%20%20%20%20%20%20%20return%20%7B%22color%22%3A%20%22blue%22%7D%3B%0A%20%20%20%20%20%20%20%20%20%20%20%20%7D%0A%20%20%20%20%20%20%20%20%7D%0A%20%20%20%20%20%20%20%20function%20geo_json_8d31b366a8ca4685bc271935ec013ff4_onEachFeature%28feature%2C%20layer%29%20%7B%0A%20%20%20%20%20%20%20%20%20%20%20%20layer.on%28%7B%0A%20%20%20%20%20%20%20%20%20%20%20%20%20%20%20%20click%3A%20function%28e%29%20%7B%0A%20%20%20%20%20%20%20%20%20%20%20%20%20%20%20%20%20%20%20%20map_613eb0ba15a8486fbd574b4589a31f31.fitBounds%28e.target.getBounds%28%29%29%3B%0A%20%20%20%20%20%20%20%20%20%20%20%20%20%20%20%20%7D%0A%20%20%20%20%20%20%20%20%20%20%20%20%7D%29%3B%0A%20%20%20%20%20%20%20%20%7D%3B%0A%20%20%20%20%20%20%20%20var%20geo_json_8d31b366a8ca4685bc271935ec013ff4%20%3D%20L.geoJson%28null%2C%20%7B%0A%20%20%20%20%20%20%20%20%20%20%20%20%20%20%20%20onEachFeature%3A%20geo_json_8d31b366a8ca4685bc271935ec013ff4_onEachFeature%2C%0A%20%20%20%20%20%20%20%20%20%20%20%20%0A%20%20%20%20%20%20%20%20%20%20%20%20%20%20%20%20style%3A%20geo_json_8d31b366a8ca4685bc271935ec013ff4_styler%2C%0A%20%20%20%20%20%20%20%20%7D%29.addTo%28map_613eb0ba15a8486fbd574b4589a31f31%29%3B%0A%0A%20%20%20%20%20%20%20%20function%20geo_json_8d31b366a8ca4685bc271935ec013ff4_add%20%28data%29%20%7B%0A%20%20%20%20%20%20%20%20%20%20%20%20geo_json_8d31b366a8ca4685bc271935ec013ff4.addData%28data%29%3B%0A%20%20%20%20%20%20%20%20%7D%0A%20%20%20%20%20%20%20%20%20%20%20%20geo_json_8d31b366a8ca4685bc271935ec013ff4_add%28%7B%22features%22%3A%20%5B%7B%22geometry%22%3A%20%7B%22coordinates%22%3A%20%5B%5B%5B-73.72439398349997%2C%2038.36094412891505%5D%2C%20%5B-72.70053976949997%2C%2038.36094412891505%5D%2C%20%5B-72.70053976949997%2C%2039.84470033741505%5D%2C%20%5B-73.72439398349997%2C%2039.84470033741505%5D%2C%20%5B-73.72439398349997%2C%2038.36094412891505%5D%5D%5D%2C%20%22type%22%3A%20%22Polygon%22%7D%2C%20%22id%22%3A%20%220%22%2C%20%22properties%22%3A%20%7B%22filename%22%3A%20%22etasw_1950001.tif%22%2C%20%22id%22%3A%20%220%22%2C%20%22title%22%3A%20%22s3%3A//dev-et-data/out/DelawareRiverBasin/Run12_24_2020/run_drb150_1224_bigs_chip39.84N-73.72E_o/1950/etasw_1950001.tif%22%7D%2C%20%22type%22%3A%20%22Feature%22%7D%5D%2C%20%22type%22%3A%20%22FeatureCollection%22%7D%29%3B%0A%20%20%20%20%20%20%20%20%0A%20%20%20%20%0A%20%20%20%20%20%20%20%20%20%20%20%20%20%20%20%20var%20lat_lng_popup_727053e46c4547bab5b58c92a29d463e%20%3D%20L.popup%28%29%3B%0A%20%20%20%20%20%20%20%20%20%20%20%20%20%20%20%20function%20latLngPop%28e%29%20%7B%0A%20%20%20%20%20%20%20%20%20%20%20%20%20%20%20%20%20%20%20%20lat_lng_popup_727053e46c4547bab5b58c92a29d463e%0A%20%20%20%20%20%20%20%20%20%20%20%20%20%20%20%20%20%20%20%20%20%20%20%20.setLatLng%28e.latlng%29%0A%20%20%20%20%20%20%20%20%20%20%20%20%20%20%20%20%20%20%20%20%20%20%20%20.setContent%28%22Latitude%3A%20%22%20%2B%20e.latlng.lat.toFixed%284%29%20%2B%0A%20%20%20%20%20%20%20%20%20%20%20%20%20%20%20%20%20%20%20%20%20%20%20%20%20%20%20%20%20%20%20%20%20%20%20%20%22%3Cbr%3ELongitude%3A%20%22%20%2B%20e.latlng.lng.toFixed%284%29%29%0A%20%20%20%20%20%20%20%20%20%20%20%20%20%20%20%20%20%20%20%20%20%20%20%20.openOn%28map_613eb0ba15a8486fbd574b4589a31f31%29%3B%0A%20%20%20%20%20%20%20%20%20%20%20%20%20%20%20%20%20%20%20%20%7D%0A%20%20%20%20%20%20%20%20%20%20%20%20%20%20%20%20map_613eb0ba15a8486fbd574b4589a31f31.on%28%27click%27%2C%20latLngPop%29%3B%0A%20%20%20%20%20%20%20%20%20%20%20%20%0A%20%20%20%20%0A%20%20%20%20%20%20%20%20function%20geo_json_537cb9dfcaa24fd8bf5f9b7f1332370d_styler%28feature%29%20%7B%0A%20%20%20%20%20%20%20%20%20%20%20%20switch%28feature.id%29%20%7B%0A%20%20%20%20%20%20%20%20%20%20%20%20%20%20%20%20default%3A%0A%20%20%20%20%20%20%20%20%20%20%20%20%20%20%20%20%20%20%20%20return%20%7B%22color%22%3A%20%22green%22%7D%3B%0A%20%20%20%20%20%20%20%20%20%20%20%20%7D%0A%20%20%20%20%20%20%20%20%7D%0A%20%20%20%20%20%20%20%20function%20geo_json_537cb9dfcaa24fd8bf5f9b7f1332370d_onEachFeature%28feature%2C%20layer%29%20%7B%0A%20%20%20%20%20%20%20%20%20%20%20%20layer.on%28%7B%0A%20%20%20%20%20%20%20%20%20%20%20%20%20%20%20%20click%3A%20function%28e%29%20%7B%0A%20%20%20%20%20%20%20%20%20%20%20%20%20%20%20%20%20%20%20%20map_613eb0ba15a8486fbd574b4589a31f31.fitBounds%28e.target.getBounds%28%29%29%3B%0A%20%20%20%20%20%20%20%20%20%20%20%20%20%20%20%20%7D%0A%20%20%20%20%20%20%20%20%20%20%20%20%7D%29%3B%0A%20%20%20%20%20%20%20%20%7D%3B%0A%20%20%20%20%20%20%20%20var%20geo_json_537cb9dfcaa24fd8bf5f9b7f1332370d%20%3D%20L.geoJson%28null%2C%20%7B%0A%20%20%20%20%20%20%20%20%20%20%20%20%20%20%20%20onEachFeature%3A%20geo_json_537cb9dfcaa24fd8bf5f9b7f1332370d_onEachFeature%2C%0A%20%20%20%20%20%20%20%20%20%20%20%20%0A%20%20%20%20%20%20%20%20%20%20%20%20%20%20%20%20style%3A%20geo_json_537cb9dfcaa24fd8bf5f9b7f1332370d_styler%2C%0A%20%20%20%20%20%20%20%20%7D%29.addTo%28map_613eb0ba15a8486fbd574b4589a31f31%29%3B%0A%0A%20%20%20%20%20%20%20%20function%20geo_json_537cb9dfcaa24fd8bf5f9b7f1332370d_add%20%28data%29%20%7B%0A%20%20%20%20%20%20%20%20%20%20%20%20geo_json_537cb9dfcaa24fd8bf5f9b7f1332370d.addData%28data%29%3B%0A%20%20%20%20%20%20%20%20%7D%0A%20%20%20%20%20%20%20%20%20%20%20%20geo_json_537cb9dfcaa24fd8bf5f9b7f1332370d_add%28%7B%22features%22%3A%20%5B%7B%22geometry%22%3A%20%7B%22coordinates%22%3A%20%5B%5B%5B-74.74616719299998%2C%2038.36094412891505%5D%2C%20%5B-73.72231297899998%2C%2038.36094412891505%5D%2C%20%5B-73.72231297899998%2C%2039.84470033741505%5D%2C%20%5B-74.74616719299998%2C%2039.84470033741505%5D%2C%20%5B-74.74616719299998%2C%2038.36094412891505%5D%5D%5D%2C%20%22type%22%3A%20%22Polygon%22%7D%2C%20%22id%22%3A%20%220%22%2C%20%22properties%22%3A%20%7B%22filename%22%3A%20%22etasw_1950001.tif%22%2C%20%22id%22%3A%20%220%22%2C%20%22title%22%3A%20%22s3%3A//dev-et-data/out/DelawareRiverBasin/Run12_24_2020/run_drb150_1224_bigs_chip39.84N-74.74E_o/1950/etasw_1950001.tif%22%7D%2C%20%22type%22%3A%20%22Feature%22%7D%5D%2C%20%22type%22%3A%20%22FeatureCollection%22%7D%29%3B%0A%20%20%20%20%20%20%20%20%0A%20%20%20%20%0A%20%20%20%20%20%20%20%20function%20geo_json_b72ff04f190743e2992ae929271e1cd0_styler%28feature%29%20%7B%0A%20%20%20%20%20%20%20%20%20%20%20%20switch%28feature.id%29%20%7B%0A%20%20%20%20%20%20%20%20%20%20%20%20%20%20%20%20default%3A%0A%20%20%20%20%20%20%20%20%20%20%20%20%20%20%20%20%20%20%20%20return%20%7B%22color%22%3A%20%22green%22%7D%3B%0A%20%20%20%20%20%20%20%20%20%20%20%20%7D%0A%20%20%20%20%20%20%20%20%7D%0A%20%20%20%20%20%20%20%20function%20geo_json_b72ff04f190743e2992ae929271e1cd0_onEachFeature%28feature%2C%20layer%29%20%7B%0A%20%20%20%20%20%20%20%20%20%20%20%20layer.on%28%7B%0A%20%20%20%20%20%20%20%20%20%20%20%20%20%20%20%20click%3A%20function%28e%29%20%7B%0A%20%20%20%20%20%20%20%20%20%20%20%20%20%20%20%20%20%20%20%20map_613eb0ba15a8486fbd574b4589a31f31.fitBounds%28e.target.getBounds%28%29%29%3B%0A%20%20%20%20%20%20%20%20%20%20%20%20%20%20%20%20%7D%0A%20%20%20%20%20%20%20%20%20%20%20%20%7D%29%3B%0A%20%20%20%20%20%20%20%20%7D%3B%0A%20%20%20%20%20%20%20%20var%20geo_json_b72ff04f190743e2992ae929271e1cd0%20%3D%20L.geoJson%28null%2C%20%7B%0A%20%20%20%20%20%20%20%20%20%20%20%20%20%20%20%20onEachFeature%3A%20geo_json_b72ff04f190743e2992ae929271e1cd0_onEachFeature%2C%0A%20%20%20%20%20%20%20%20%20%20%20%20%0A%20%20%20%20%20%20%20%20%20%20%20%20%20%20%20%20style%3A%20geo_json_b72ff04f190743e2992ae929271e1cd0_styler%2C%0A%20%20%20%20%20%20%20%20%7D%29.addTo%28map_613eb0ba15a8486fbd574b4589a31f31%29%3B%0A%0A%20%20%20%20%20%20%20%20function%20geo_json_b72ff04f190743e2992ae929271e1cd0_add%20%28data%29%20%7B%0A%20%20%20%20%20%20%20%20%20%20%20%20geo_json_b72ff04f190743e2992ae929271e1cd0.addData%28data%29%3B%0A%20%20%20%20%20%20%20%20%7D%0A%20%20%20%20%20%20%20%20%20%20%20%20geo_json_b72ff04f190743e2992ae929271e1cd0_add%28%7B%22features%22%3A%20%5B%7B%22geometry%22%3A%20%7B%22coordinates%22%3A%20%5B%5B%5B-75.76794040249997%2C%2038.36094412891505%5D%2C%20%5B-74.74408618849998%2C%2038.36094412891505%5D%2C%20%5B-74.74408618849998%2C%2039.84470033741505%5D%2C%20%5B-75.76794040249997%2C%2039.84470033741505%5D%2C%20%5B-75.76794040249997%2C%2038.36094412891505%5D%5D%5D%2C%20%22type%22%3A%20%22Polygon%22%7D%2C%20%22id%22%3A%20%220%22%2C%20%22properties%22%3A%20%7B%22filename%22%3A%20%22etasw_1950001.tif%22%2C%20%22id%22%3A%20%220%22%2C%20%22title%22%3A%20%22s3%3A//dev-et-data/out/DelawareRiverBasin/Run12_24_2020/run_drb150_1224_bigs_chip39.84N-75.77E_o/1950/etasw_1950001.tif%22%7D%2C%20%22type%22%3A%20%22Feature%22%7D%5D%2C%20%22type%22%3A%20%22FeatureCollection%22%7D%29%3B%0A%20%20%20%20%20%20%20%20%0A%20%20%20%20%0A%20%20%20%20%20%20%20%20function%20geo_json_ca86aa5283cd498d98482a89b756a2dd_styler%28feature%29%20%7B%0A%20%20%20%20%20%20%20%20%20%20%20%20switch%28feature.id%29%20%7B%0A%20%20%20%20%20%20%20%20%20%20%20%20%20%20%20%20default%3A%0A%20%20%20%20%20%20%20%20%20%20%20%20%20%20%20%20%20%20%20%20return%20%7B%22color%22%3A%20%22green%22%7D%3B%0A%20%20%20%20%20%20%20%20%20%20%20%20%7D%0A%20%20%20%20%20%20%20%20%7D%0A%20%20%20%20%20%20%20%20function%20geo_json_ca86aa5283cd498d98482a89b756a2dd_onEachFeature%28feature%2C%20layer%29%20%7B%0A%20%20%20%20%20%20%20%20%20%20%20%20layer.on%28%7B%0A%20%20%20%20%20%20%20%20%20%20%20%20%20%20%20%20click%3A%20function%28e%29%20%7B%0A%20%20%20%20%20%20%20%20%20%20%20%20%20%20%20%20%20%20%20%20map_613eb0ba15a8486fbd574b4589a31f31.fitBounds%28e.target.getBounds%28%29%29%3B%0A%20%20%20%20%20%20%20%20%20%20%20%20%20%20%20%20%7D%0A%20%20%20%20%20%20%20%20%20%20%20%20%7D%29%3B%0A%20%20%20%20%20%20%20%20%7D%3B%0A%20%20%20%20%20%20%20%20var%20geo_json_ca86aa5283cd498d98482a89b756a2dd%20%3D%20L.geoJson%28null%2C%20%7B%0A%20%20%20%20%20%20%20%20%20%20%20%20%20%20%20%20onEachFeature%3A%20geo_json_ca86aa5283cd498d98482a89b756a2dd_onEachFeature%2C%0A%20%20%20%20%20%20%20%20%20%20%20%20%0A%20%20%20%20%20%20%20%20%20%20%20%20%20%20%20%20style%3A%20geo_json_ca86aa5283cd498d98482a89b756a2dd_styler%2C%0A%20%20%20%20%20%20%20%20%7D%29.addTo%28map_613eb0ba15a8486fbd574b4589a31f31%29%3B%0A%0A%20%20%20%20%20%20%20%20function%20geo_json_ca86aa5283cd498d98482a89b756a2dd_add%20%28data%29%20%7B%0A%20%20%20%20%20%20%20%20%20%20%20%20geo_json_ca86aa5283cd498d98482a89b756a2dd.addData%28data%29%3B%0A%20%20%20%20%20%20%20%20%7D%0A%20%20%20%20%20%20%20%20%20%20%20%20geo_json_ca86aa5283cd498d98482a89b756a2dd_add%28%7B%22features%22%3A%20%5B%7B%22geometry%22%3A%20%7B%22coordinates%22%3A%20%5B%5B%5B-76.78971361199997%2C%2038.36094412891505%5D%2C%20%5B-75.76585939799998%2C%2038.36094412891505%5D%2C%20%5B-75.76585939799998%2C%2039.84470033741505%5D%2C%20%5B-76.78971361199997%2C%2039.84470033741505%5D%2C%20%5B-76.78971361199997%2C%2038.36094412891505%5D%5D%5D%2C%20%22type%22%3A%20%22Polygon%22%7D%2C%20%22id%22%3A%20%220%22%2C%20%22properties%22%3A%20%7B%22filename%22%3A%20%22etasw_1950001.tif%22%2C%20%22id%22%3A%20%220%22%2C%20%22title%22%3A%20%22s3%3A//dev-et-data/out/DelawareRiverBasin/Run12_24_2020/run_drb150_1224_bigs_chip39.84N-76.79E_o/1950/etasw_1950001.tif%22%7D%2C%20%22type%22%3A%20%22Feature%22%7D%5D%2C%20%22type%22%3A%20%22FeatureCollection%22%7D%29%3B%0A%20%20%20%20%20%20%20%20%0A%20%20%20%20%0A%20%20%20%20%20%20%20%20function%20geo_json_3f4f0039e46942c7a3712aefdf04d21f_styler%28feature%29%20%7B%0A%20%20%20%20%20%20%20%20%20%20%20%20switch%28feature.id%29%20%7B%0A%20%20%20%20%20%20%20%20%20%20%20%20%20%20%20%20default%3A%0A%20%20%20%20%20%20%20%20%20%20%20%20%20%20%20%20%20%20%20%20return%20%7B%22color%22%3A%20%22green%22%7D%3B%0A%20%20%20%20%20%20%20%20%20%20%20%20%7D%0A%20%20%20%20%20%20%20%20%7D%0A%20%20%20%20%20%20%20%20function%20geo_json_3f4f0039e46942c7a3712aefdf04d21f_onEachFeature%28feature%2C%20layer%29%20%7B%0A%20%20%20%20%20%20%20%20%20%20%20%20layer.on%28%7B%0A%20%20%20%20%20%20%20%20%20%20%20%20%20%20%20%20click%3A%20function%28e%29%20%7B%0A%20%20%20%20%20%20%20%20%20%20%20%20%20%20%20%20%20%20%20%20map_613eb0ba15a8486fbd574b4589a31f31.fitBounds%28e.target.getBounds%28%29%29%3B%0A%20%20%20%20%20%20%20%20%20%20%20%20%20%20%20%20%7D%0A%20%20%20%20%20%20%20%20%20%20%20%20%7D%29%3B%0A%20%20%20%20%20%20%20%20%7D%3B%0A%20%20%20%20%20%20%20%20var%20geo_json_3f4f0039e46942c7a3712aefdf04d21f%20%3D%20L.geoJson%28null%2C%20%7B%0A%20%20%20%20%20%20%20%20%20%20%20%20%20%20%20%20onEachFeature%3A%20geo_json_3f4f0039e46942c7a3712aefdf04d21f_onEachFeature%2C%0A%20%20%20%20%20%20%20%20%20%20%20%20%0A%20%20%20%20%20%20%20%20%20%20%20%20%20%20%20%20style%3A%20geo_json_3f4f0039e46942c7a3712aefdf04d21f_styler%2C%0A%20%20%20%20%20%20%20%20%7D%29.addTo%28map_613eb0ba15a8486fbd574b4589a31f31%29%3B%0A%0A%20%20%20%20%20%20%20%20function%20geo_json_3f4f0039e46942c7a3712aefdf04d21f_add%20%28data%29%20%7B%0A%20%20%20%20%20%20%20%20%20%20%20%20geo_json_3f4f0039e46942c7a3712aefdf04d21f.addData%28data%29%3B%0A%20%20%20%20%20%20%20%20%7D%0A%20%20%20%20%20%20%20%20%20%20%20%20geo_json_3f4f0039e46942c7a3712aefdf04d21f_add%28%7B%22features%22%3A%20%5B%7B%22geometry%22%3A%20%7B%22coordinates%22%3A%20%5B%5B%5B-73.72439398349997%2C%2039.84261933291505%5D%2C%20%5B-72.70053976949997%2C%2039.84261933291505%5D%2C%20%5B-72.70053976949997%2C%2041.32845654591505%5D%2C%20%5B-73.72439398349997%2C%2041.32845654591505%5D%2C%20%5B-73.72439398349997%2C%2039.84261933291505%5D%5D%5D%2C%20%22type%22%3A%20%22Polygon%22%7D%2C%20%22id%22%3A%20%220%22%2C%20%22properties%22%3A%20%7B%22filename%22%3A%20%22etasw_1950001.tif%22%2C%20%22id%22%3A%20%220%22%2C%20%22title%22%3A%20%22s3%3A//dev-et-data/out/DelawareRiverBasin/Run12_24_2020/run_drb150_1224_bigs_chip41.33N-73.72E_o/1950/etasw_1950001.tif%22%7D%2C%20%22type%22%3A%20%22Feature%22%7D%5D%2C%20%22type%22%3A%20%22FeatureCollection%22%7D%29%3B%0A%20%20%20%20%20%20%20%20%0A%20%20%20%20%0A%20%20%20%20%20%20%20%20function%20geo_json_aa90373555a04e6a86946977a4e0f6ce_styler%28feature%29%20%7B%0A%20%20%20%20%20%20%20%20%20%20%20%20switch%28feature.id%29%20%7B%0A%20%20%20%20%20%20%20%20%20%20%20%20%20%20%20%20default%3A%0A%20%20%20%20%20%20%20%20%20%20%20%20%20%20%20%20%20%20%20%20return%20%7B%22color%22%3A%20%22green%22%7D%3B%0A%20%20%20%20%20%20%20%20%20%20%20%20%7D%0A%20%20%20%20%20%20%20%20%7D%0A%20%20%20%20%20%20%20%20function%20geo_json_aa90373555a04e6a86946977a4e0f6ce_onEachFeature%28feature%2C%20layer%29%20%7B%0A%20%20%20%20%20%20%20%20%20%20%20%20layer.on%28%7B%0A%20%20%20%20%20%20%20%20%20%20%20%20%20%20%20%20click%3A%20function%28e%29%20%7B%0A%20%20%20%20%20%20%20%20%20%20%20%20%20%20%20%20%20%20%20%20map_613eb0ba15a8486fbd574b4589a31f31.fitBounds%28e.target.getBounds%28%29%29%3B%0A%20%20%20%20%20%20%20%20%20%20%20%20%20%20%20%20%7D%0A%20%20%20%20%20%20%20%20%20%20%20%20%7D%29%3B%0A%20%20%20%20%20%20%20%20%7D%3B%0A%20%20%20%20%20%20%20%20var%20geo_json_aa90373555a04e6a86946977a4e0f6ce%20%3D%20L.geoJson%28null%2C%20%7B%0A%20%20%20%20%20%20%20%20%20%20%20%20%20%20%20%20onEachFeature%3A%20geo_json_aa90373555a04e6a86946977a4e0f6ce_onEachFeature%2C%0A%20%20%20%20%20%20%20%20%20%20%20%20%0A%20%20%20%20%20%20%20%20%20%20%20%20%20%20%20%20style%3A%20geo_json_aa90373555a04e6a86946977a4e0f6ce_styler%2C%0A%20%20%20%20%20%20%20%20%7D%29.addTo%28map_613eb0ba15a8486fbd574b4589a31f31%29%3B%0A%0A%20%20%20%20%20%20%20%20function%20geo_json_aa90373555a04e6a86946977a4e0f6ce_add%20%28data%29%20%7B%0A%20%20%20%20%20%20%20%20%20%20%20%20geo_json_aa90373555a04e6a86946977a4e0f6ce.addData%28data%29%3B%0A%20%20%20%20%20%20%20%20%7D%0A%20%20%20%20%20%20%20%20%20%20%20%20geo_json_aa90373555a04e6a86946977a4e0f6ce_add%28%7B%22features%22%3A%20%5B%7B%22geometry%22%3A%20%7B%22coordinates%22%3A%20%5B%5B%5B-74.74616719299998%2C%2039.84261933291505%5D%2C%20%5B-73.72231297899998%2C%2039.84261933291505%5D%2C%20%5B-73.72231297899998%2C%2041.32845654591505%5D%2C%20%5B-74.74616719299998%2C%2041.32845654591505%5D%2C%20%5B-74.74616719299998%2C%2039.84261933291505%5D%5D%5D%2C%20%22type%22%3A%20%22Polygon%22%7D%2C%20%22id%22%3A%20%220%22%2C%20%22properties%22%3A%20%7B%22filename%22%3A%20%22etasw_1950001.tif%22%2C%20%22id%22%3A%20%220%22%2C%20%22title%22%3A%20%22s3%3A//dev-et-data/out/DelawareRiverBasin/Run12_24_2020/run_drb150_1224_bigs_chip41.33N-74.74E_o/1950/etasw_1950001.tif%22%7D%2C%20%22type%22%3A%20%22Feature%22%7D%5D%2C%20%22type%22%3A%20%22FeatureCollection%22%7D%29%3B%0A%20%20%20%20%20%20%20%20%0A%20%20%20%20%0A%20%20%20%20%20%20%20%20function%20geo_json_74e86ee4d9ba410c85399cd702dd61a6_styler%28feature%29%20%7B%0A%20%20%20%20%20%20%20%20%20%20%20%20switch%28feature.id%29%20%7B%0A%20%20%20%20%20%20%20%20%20%20%20%20%20%20%20%20default%3A%0A%20%20%20%20%20%20%20%20%20%20%20%20%20%20%20%20%20%20%20%20return%20%7B%22color%22%3A%20%22green%22%7D%3B%0A%20%20%20%20%20%20%20%20%20%20%20%20%7D%0A%20%20%20%20%20%20%20%20%7D%0A%20%20%20%20%20%20%20%20function%20geo_json_74e86ee4d9ba410c85399cd702dd61a6_onEachFeature%28feature%2C%20layer%29%20%7B%0A%20%20%20%20%20%20%20%20%20%20%20%20layer.on%28%7B%0A%20%20%20%20%20%20%20%20%20%20%20%20%20%20%20%20click%3A%20function%28e%29%20%7B%0A%20%20%20%20%20%20%20%20%20%20%20%20%20%20%20%20%20%20%20%20map_613eb0ba15a8486fbd574b4589a31f31.fitBounds%28e.target.getBounds%28%29%29%3B%0A%20%20%20%20%20%20%20%20%20%20%20%20%20%20%20%20%7D%0A%20%20%20%20%20%20%20%20%20%20%20%20%7D%29%3B%0A%20%20%20%20%20%20%20%20%7D%3B%0A%20%20%20%20%20%20%20%20var%20geo_json_74e86ee4d9ba410c85399cd702dd61a6%20%3D%20L.geoJson%28null%2C%20%7B%0A%20%20%20%20%20%20%20%20%20%20%20%20%20%20%20%20onEachFeature%3A%20geo_json_74e86ee4d9ba410c85399cd702dd61a6_onEachFeature%2C%0A%20%20%20%20%20%20%20%20%20%20%20%20%0A%20%20%20%20%20%20%20%20%20%20%20%20%20%20%20%20style%3A%20geo_json_74e86ee4d9ba410c85399cd702dd61a6_styler%2C%0A%20%20%20%20%20%20%20%20%7D%29.addTo%28map_613eb0ba15a8486fbd574b4589a31f31%29%3B%0A%0A%20%20%20%20%20%20%20%20function%20geo_json_74e86ee4d9ba410c85399cd702dd61a6_add%20%28data%29%20%7B%0A%20%20%20%20%20%20%20%20%20%20%20%20geo_json_74e86ee4d9ba410c85399cd702dd61a6.addData%28data%29%3B%0A%20%20%20%20%20%20%20%20%7D%0A%20%20%20%20%20%20%20%20%20%20%20%20geo_json_74e86ee4d9ba410c85399cd702dd61a6_add%28%7B%22features%22%3A%20%5B%7B%22geometry%22%3A%20%7B%22coordinates%22%3A%20%5B%5B%5B-75.76794040249997%2C%2039.84261933291505%5D%2C%20%5B-74.74408618849998%2C%2039.84261933291505%5D%2C%20%5B-74.74408618849998%2C%2041.32845654591505%5D%2C%20%5B-75.76794040249997%2C%2041.32845654591505%5D%2C%20%5B-75.76794040249997%2C%2039.84261933291505%5D%5D%5D%2C%20%22type%22%3A%20%22Polygon%22%7D%2C%20%22id%22%3A%20%220%22%2C%20%22properties%22%3A%20%7B%22filename%22%3A%20%22etasw_1950001.tif%22%2C%20%22id%22%3A%20%220%22%2C%20%22title%22%3A%20%22s3%3A//dev-et-data/out/DelawareRiverBasin/Run12_24_2020/run_drb150_1224_bigs_chip41.33N-75.77E_o/1950/etasw_1950001.tif%22%7D%2C%20%22type%22%3A%20%22Feature%22%7D%5D%2C%20%22type%22%3A%20%22FeatureCollection%22%7D%29%3B%0A%20%20%20%20%20%20%20%20%0A%20%20%20%20%0A%20%20%20%20%20%20%20%20function%20geo_json_c86a26758f4a4b239c7c87ad4fcdd326_styler%28feature%29%20%7B%0A%20%20%20%20%20%20%20%20%20%20%20%20switch%28feature.id%29%20%7B%0A%20%20%20%20%20%20%20%20%20%20%20%20%20%20%20%20default%3A%0A%20%20%20%20%20%20%20%20%20%20%20%20%20%20%20%20%20%20%20%20return%20%7B%22color%22%3A%20%22green%22%7D%3B%0A%20%20%20%20%20%20%20%20%20%20%20%20%7D%0A%20%20%20%20%20%20%20%20%7D%0A%20%20%20%20%20%20%20%20function%20geo_json_c86a26758f4a4b239c7c87ad4fcdd326_onEachFeature%28feature%2C%20layer%29%20%7B%0A%20%20%20%20%20%20%20%20%20%20%20%20layer.on%28%7B%0A%20%20%20%20%20%20%20%20%20%20%20%20%20%20%20%20click%3A%20function%28e%29%20%7B%0A%20%20%20%20%20%20%20%20%20%20%20%20%20%20%20%20%20%20%20%20map_613eb0ba15a8486fbd574b4589a31f31.fitBounds%28e.target.getBounds%28%29%29%3B%0A%20%20%20%20%20%20%20%20%20%20%20%20%20%20%20%20%7D%0A%20%20%20%20%20%20%20%20%20%20%20%20%7D%29%3B%0A%20%20%20%20%20%20%20%20%7D%3B%0A%20%20%20%20%20%20%20%20var%20geo_json_c86a26758f4a4b239c7c87ad4fcdd326%20%3D%20L.geoJson%28null%2C%20%7B%0A%20%20%20%20%20%20%20%20%20%20%20%20%20%20%20%20onEachFeature%3A%20geo_json_c86a26758f4a4b239c7c87ad4fcdd326_onEachFeature%2C%0A%20%20%20%20%20%20%20%20%20%20%20%20%0A%20%20%20%20%20%20%20%20%20%20%20%20%20%20%20%20style%3A%20geo_json_c86a26758f4a4b239c7c87ad4fcdd326_styler%2C%0A%20%20%20%20%20%20%20%20%7D%29.addTo%28map_613eb0ba15a8486fbd574b4589a31f31%29%3B%0A%0A%20%20%20%20%20%20%20%20function%20geo_json_c86a26758f4a4b239c7c87ad4fcdd326_add%20%28data%29%20%7B%0A%20%20%20%20%20%20%20%20%20%20%20%20geo_json_c86a26758f4a4b239c7c87ad4fcdd326.addData%28data%29%3B%0A%20%20%20%20%20%20%20%20%7D%0A%20%20%20%20%20%20%20%20%20%20%20%20geo_json_c86a26758f4a4b239c7c87ad4fcdd326_add%28%7B%22features%22%3A%20%5B%7B%22geometry%22%3A%20%7B%22coordinates%22%3A%20%5B%5B%5B-76.78971361199997%2C%2039.84261933291505%5D%2C%20%5B-75.76585939799998%2C%2039.84261933291505%5D%2C%20%5B-75.76585939799998%2C%2041.32845654591505%5D%2C%20%5B-76.78971361199997%2C%2041.32845654591505%5D%2C%20%5B-76.78971361199997%2C%2039.84261933291505%5D%5D%5D%2C%20%22type%22%3A%20%22Polygon%22%7D%2C%20%22id%22%3A%20%220%22%2C%20%22properties%22%3A%20%7B%22filename%22%3A%20%22etasw_1950001.tif%22%2C%20%22id%22%3A%20%220%22%2C%20%22title%22%3A%20%22s3%3A//dev-et-data/out/DelawareRiverBasin/Run12_24_2020/run_drb150_1224_bigs_chip41.33N-76.79E_o/1950/etasw_1950001.tif%22%7D%2C%20%22type%22%3A%20%22Feature%22%7D%5D%2C%20%22type%22%3A%20%22FeatureCollection%22%7D%29%3B%0A%20%20%20%20%20%20%20%20%0A%20%20%20%20%0A%20%20%20%20%20%20%20%20function%20geo_json_171fe37a188648ed8562ac0c70d9265e_styler%28feature%29%20%7B%0A%20%20%20%20%20%20%20%20%20%20%20%20switch%28feature.id%29%20%7B%0A%20%20%20%20%20%20%20%20%20%20%20%20%20%20%20%20default%3A%0A%20%20%20%20%20%20%20%20%20%20%20%20%20%20%20%20%20%20%20%20return%20%7B%22color%22%3A%20%22green%22%7D%3B%0A%20%20%20%20%20%20%20%20%20%20%20%20%7D%0A%20%20%20%20%20%20%20%20%7D%0A%20%20%20%20%20%20%20%20function%20geo_json_171fe37a188648ed8562ac0c70d9265e_onEachFeature%28feature%2C%20layer%29%20%7B%0A%20%20%20%20%20%20%20%20%20%20%20%20layer.on%28%7B%0A%20%20%20%20%20%20%20%20%20%20%20%20%20%20%20%20click%3A%20function%28e%29%20%7B%0A%20%20%20%20%20%20%20%20%20%20%20%20%20%20%20%20%20%20%20%20map_613eb0ba15a8486fbd574b4589a31f31.fitBounds%28e.target.getBounds%28%29%29%3B%0A%20%20%20%20%20%20%20%20%20%20%20%20%20%20%20%20%7D%0A%20%20%20%20%20%20%20%20%20%20%20%20%7D%29%3B%0A%20%20%20%20%20%20%20%20%7D%3B%0A%20%20%20%20%20%20%20%20var%20geo_json_171fe37a188648ed8562ac0c70d9265e%20%3D%20L.geoJson%28null%2C%20%7B%0A%20%20%20%20%20%20%20%20%20%20%20%20%20%20%20%20onEachFeature%3A%20geo_json_171fe37a188648ed8562ac0c70d9265e_onEachFeature%2C%0A%20%20%20%20%20%20%20%20%20%20%20%20%0A%20%20%20%20%20%20%20%20%20%20%20%20%20%20%20%20style%3A%20geo_json_171fe37a188648ed8562ac0c70d9265e_styler%2C%0A%20%20%20%20%20%20%20%20%7D%29.addTo%28map_613eb0ba15a8486fbd574b4589a31f31%29%3B%0A%0A%20%20%20%20%20%20%20%20function%20geo_json_171fe37a188648ed8562ac0c70d9265e_add%20%28data%29%20%7B%0A%20%20%20%20%20%20%20%20%20%20%20%20geo_json_171fe37a188648ed8562ac0c70d9265e.addData%28data%29%3B%0A%20%20%20%20%20%20%20%20%7D%0A%20%20%20%20%20%20%20%20%20%20%20%20geo_json_171fe37a188648ed8562ac0c70d9265e_add%28%7B%22features%22%3A%20%5B%7B%22geometry%22%3A%20%7B%22coordinates%22%3A%20%5B%5B%5B-73.72439398349997%2C%2041.326375541415054%5D%2C%20%5B-72.70053976949997%2C%2041.326375541415054%5D%2C%20%5B-72.70053976949997%2C%2042.81013174991505%5D%2C%20%5B-73.72439398349997%2C%2042.81013174991505%5D%2C%20%5B-73.72439398349997%2C%2041.326375541415054%5D%5D%5D%2C%20%22type%22%3A%20%22Polygon%22%7D%2C%20%22id%22%3A%20%220%22%2C%20%22properties%22%3A%20%7B%22filename%22%3A%20%22etasw_1950001.tif%22%2C%20%22id%22%3A%20%220%22%2C%20%22title%22%3A%20%22s3%3A//dev-et-data/out/DelawareRiverBasin/Run12_24_2020/run_drb150_1224_bigs_chip42.81N-73.72E_o/1950/etasw_1950001.tif%22%7D%2C%20%22type%22%3A%20%22Feature%22%7D%5D%2C%20%22type%22%3A%20%22FeatureCollection%22%7D%29%3B%0A%20%20%20%20%20%20%20%20%0A%20%20%20%20%0A%20%20%20%20%20%20%20%20function%20geo_json_f8b38b64fd7a46cb84e0f7bef1898a79_styler%28feature%29%20%7B%0A%20%20%20%20%20%20%20%20%20%20%20%20switch%28feature.id%29%20%7B%0A%20%20%20%20%20%20%20%20%20%20%20%20%20%20%20%20default%3A%0A%20%20%20%20%20%20%20%20%20%20%20%20%20%20%20%20%20%20%20%20return%20%7B%22color%22%3A%20%22green%22%7D%3B%0A%20%20%20%20%20%20%20%20%20%20%20%20%7D%0A%20%20%20%20%20%20%20%20%7D%0A%20%20%20%20%20%20%20%20function%20geo_json_f8b38b64fd7a46cb84e0f7bef1898a79_onEachFeature%28feature%2C%20layer%29%20%7B%0A%20%20%20%20%20%20%20%20%20%20%20%20layer.on%28%7B%0A%20%20%20%20%20%20%20%20%20%20%20%20%20%20%20%20click%3A%20function%28e%29%20%7B%0A%20%20%20%20%20%20%20%20%20%20%20%20%20%20%20%20%20%20%20%20map_613eb0ba15a8486fbd574b4589a31f31.fitBounds%28e.target.getBounds%28%29%29%3B%0A%20%20%20%20%20%20%20%20%20%20%20%20%20%20%20%20%7D%0A%20%20%20%20%20%20%20%20%20%20%20%20%7D%29%3B%0A%20%20%20%20%20%20%20%20%7D%3B%0A%20%20%20%20%20%20%20%20var%20geo_json_f8b38b64fd7a46cb84e0f7bef1898a79%20%3D%20L.geoJson%28null%2C%20%7B%0A%20%20%20%20%20%20%20%20%20%20%20%20%20%20%20%20onEachFeature%3A%20geo_json_f8b38b64fd7a46cb84e0f7bef1898a79_onEachFeature%2C%0A%20%20%20%20%20%20%20%20%20%20%20%20%0A%20%20%20%20%20%20%20%20%20%20%20%20%20%20%20%20style%3A%20geo_json_f8b38b64fd7a46cb84e0f7bef1898a79_styler%2C%0A%20%20%20%20%20%20%20%20%7D%29.addTo%28map_613eb0ba15a8486fbd574b4589a31f31%29%3B%0A%0A%20%20%20%20%20%20%20%20function%20geo_json_f8b38b64fd7a46cb84e0f7bef1898a79_add%20%28data%29%20%7B%0A%20%20%20%20%20%20%20%20%20%20%20%20geo_json_f8b38b64fd7a46cb84e0f7bef1898a79.addData%28data%29%3B%0A%20%20%20%20%20%20%20%20%7D%0A%20%20%20%20%20%20%20%20%20%20%20%20geo_json_f8b38b64fd7a46cb84e0f7bef1898a79_add%28%7B%22features%22%3A%20%5B%7B%22geometry%22%3A%20%7B%22coordinates%22%3A%20%5B%5B%5B-74.74616719299998%2C%2041.326375541415054%5D%2C%20%5B-73.72231297899998%2C%2041.326375541415054%5D%2C%20%5B-73.72231297899998%2C%2042.81013174991505%5D%2C%20%5B-74.74616719299998%2C%2042.81013174991505%5D%2C%20%5B-74.74616719299998%2C%2041.326375541415054%5D%5D%5D%2C%20%22type%22%3A%20%22Polygon%22%7D%2C%20%22id%22%3A%20%220%22%2C%20%22properties%22%3A%20%7B%22filename%22%3A%20%22etasw_1950001.tif%22%2C%20%22id%22%3A%20%220%22%2C%20%22title%22%3A%20%22s3%3A//dev-et-data/out/DelawareRiverBasin/Run12_24_2020/run_drb150_1224_bigs_chip42.81N-74.74E_o/1950/etasw_1950001.tif%22%7D%2C%20%22type%22%3A%20%22Feature%22%7D%5D%2C%20%22type%22%3A%20%22FeatureCollection%22%7D%29%3B%0A%20%20%20%20%20%20%20%20%0A%20%20%20%20%0A%20%20%20%20%20%20%20%20function%20geo_json_e0f970186a334002b5fe4a35f3b90616_styler%28feature%29%20%7B%0A%20%20%20%20%20%20%20%20%20%20%20%20switch%28feature.id%29%20%7B%0A%20%20%20%20%20%20%20%20%20%20%20%20%20%20%20%20default%3A%0A%20%20%20%20%20%20%20%20%20%20%20%20%20%20%20%20%20%20%20%20return%20%7B%22color%22%3A%20%22green%22%7D%3B%0A%20%20%20%20%20%20%20%20%20%20%20%20%7D%0A%20%20%20%20%20%20%20%20%7D%0A%20%20%20%20%20%20%20%20function%20geo_json_e0f970186a334002b5fe4a35f3b90616_onEachFeature%28feature%2C%20layer%29%20%7B%0A%20%20%20%20%20%20%20%20%20%20%20%20layer.on%28%7B%0A%20%20%20%20%20%20%20%20%20%20%20%20%20%20%20%20click%3A%20function%28e%29%20%7B%0A%20%20%20%20%20%20%20%20%20%20%20%20%20%20%20%20%20%20%20%20map_613eb0ba15a8486fbd574b4589a31f31.fitBounds%28e.target.getBounds%28%29%29%3B%0A%20%20%20%20%20%20%20%20%20%20%20%20%20%20%20%20%7D%0A%20%20%20%20%20%20%20%20%20%20%20%20%7D%29%3B%0A%20%20%20%20%20%20%20%20%7D%3B%0A%20%20%20%20%20%20%20%20var%20geo_json_e0f970186a334002b5fe4a35f3b90616%20%3D%20L.geoJson%28null%2C%20%7B%0A%20%20%20%20%20%20%20%20%20%20%20%20%20%20%20%20onEachFeature%3A%20geo_json_e0f970186a334002b5fe4a35f3b90616_onEachFeature%2C%0A%20%20%20%20%20%20%20%20%20%20%20%20%0A%20%20%20%20%20%20%20%20%20%20%20%20%20%20%20%20style%3A%20geo_json_e0f970186a334002b5fe4a35f3b90616_styler%2C%0A%20%20%20%20%20%20%20%20%7D%29.addTo%28map_613eb0ba15a8486fbd574b4589a31f31%29%3B%0A%0A%20%20%20%20%20%20%20%20function%20geo_json_e0f970186a334002b5fe4a35f3b90616_add%20%28data%29%20%7B%0A%20%20%20%20%20%20%20%20%20%20%20%20geo_json_e0f970186a334002b5fe4a35f3b90616.addData%28data%29%3B%0A%20%20%20%20%20%20%20%20%7D%0A%20%20%20%20%20%20%20%20%20%20%20%20geo_json_e0f970186a334002b5fe4a35f3b90616_add%28%7B%22features%22%3A%20%5B%7B%22geometry%22%3A%20%7B%22coordinates%22%3A%20%5B%5B%5B-75.76794040249997%2C%2041.326375541415054%5D%2C%20%5B-74.74408618849998%2C%2041.326375541415054%5D%2C%20%5B-74.74408618849998%2C%2042.81013174991505%5D%2C%20%5B-75.76794040249997%2C%2042.81013174991505%5D%2C%20%5B-75.76794040249997%2C%2041.326375541415054%5D%5D%5D%2C%20%22type%22%3A%20%22Polygon%22%7D%2C%20%22id%22%3A%20%220%22%2C%20%22properties%22%3A%20%7B%22filename%22%3A%20%22etasw_1950001.tif%22%2C%20%22id%22%3A%20%220%22%2C%20%22title%22%3A%20%22s3%3A//dev-et-data/out/DelawareRiverBasin/Run12_24_2020/run_drb150_1224_bigs_chip42.81N-75.77E_o/1950/etasw_1950001.tif%22%7D%2C%20%22type%22%3A%20%22Feature%22%7D%5D%2C%20%22type%22%3A%20%22FeatureCollection%22%7D%29%3B%0A%20%20%20%20%20%20%20%20%0A%20%20%20%20%0A%20%20%20%20%20%20%20%20function%20geo_json_ce408b8e08d8482cbc9bc55581e783ef_styler%28feature%29%20%7B%0A%20%20%20%20%20%20%20%20%20%20%20%20switch%28feature.id%29%20%7B%0A%20%20%20%20%20%20%20%20%20%20%20%20%20%20%20%20default%3A%0A%20%20%20%20%20%20%20%20%20%20%20%20%20%20%20%20%20%20%20%20return%20%7B%22color%22%3A%20%22green%22%7D%3B%0A%20%20%20%20%20%20%20%20%20%20%20%20%7D%0A%20%20%20%20%20%20%20%20%7D%0A%20%20%20%20%20%20%20%20function%20geo_json_ce408b8e08d8482cbc9bc55581e783ef_onEachFeature%28feature%2C%20layer%29%20%7B%0A%20%20%20%20%20%20%20%20%20%20%20%20layer.on%28%7B%0A%20%20%20%20%20%20%20%20%20%20%20%20%20%20%20%20click%3A%20function%28e%29%20%7B%0A%20%20%20%20%20%20%20%20%20%20%20%20%20%20%20%20%20%20%20%20map_613eb0ba15a8486fbd574b4589a31f31.fitBounds%28e.target.getBounds%28%29%29%3B%0A%20%20%20%20%20%20%20%20%20%20%20%20%20%20%20%20%7D%0A%20%20%20%20%20%20%20%20%20%20%20%20%7D%29%3B%0A%20%20%20%20%20%20%20%20%7D%3B%0A%20%20%20%20%20%20%20%20var%20geo_json_ce408b8e08d8482cbc9bc55581e783ef%20%3D%20L.geoJson%28null%2C%20%7B%0A%20%20%20%20%20%20%20%20%20%20%20%20%20%20%20%20onEachFeature%3A%20geo_json_ce408b8e08d8482cbc9bc55581e783ef_onEachFeature%2C%0A%20%20%20%20%20%20%20%20%20%20%20%20%0A%20%20%20%20%20%20%20%20%20%20%20%20%20%20%20%20style%3A%20geo_json_ce408b8e08d8482cbc9bc55581e783ef_styler%2C%0A%20%20%20%20%20%20%20%20%7D%29.addTo%28map_613eb0ba15a8486fbd574b4589a31f31%29%3B%0A%0A%20%20%20%20%20%20%20%20function%20geo_json_ce408b8e08d8482cbc9bc55581e783ef_add%20%28data%29%20%7B%0A%20%20%20%20%20%20%20%20%20%20%20%20geo_json_ce408b8e08d8482cbc9bc55581e783ef.addData%28data%29%3B%0A%20%20%20%20%20%20%20%20%7D%0A%20%20%20%20%20%20%20%20%20%20%20%20geo_json_ce408b8e08d8482cbc9bc55581e783ef_add%28%7B%22features%22%3A%20%5B%7B%22geometry%22%3A%20%7B%22coordinates%22%3A%20%5B%5B%5B-76.78971361199997%2C%2041.326375541415054%5D%2C%20%5B-75.76585939799998%2C%2041.326375541415054%5D%2C%20%5B-75.76585939799998%2C%2042.81013174991505%5D%2C%20%5B-76.78971361199997%2C%2042.81013174991505%5D%2C%20%5B-76.78971361199997%2C%2041.326375541415054%5D%5D%5D%2C%20%22type%22%3A%20%22Polygon%22%7D%2C%20%22id%22%3A%20%220%22%2C%20%22properties%22%3A%20%7B%22filename%22%3A%20%22etasw_1950001.tif%22%2C%20%22id%22%3A%20%220%22%2C%20%22title%22%3A%20%22s3%3A//dev-et-data/out/DelawareRiverBasin/Run12_24_2020/run_drb150_1224_bigs_chip42.81N-76.79E_o/1950/etasw_1950001.tif%22%7D%2C%20%22type%22%3A%20%22Feature%22%7D%5D%2C%20%22type%22%3A%20%22FeatureCollection%22%7D%29%3B%0A%20%20%20%20%20%20%20%20%0A%20%20%20%20%0A%20%20%20%20%20%20%20%20function%20geo_json_3641885c7b9645328012111f94ffa0c0_styler%28feature%29%20%7B%0A%20%20%20%20%20%20%20%20%20%20%20%20switch%28feature.id%29%20%7B%0A%20%20%20%20%20%20%20%20%20%20%20%20%20%20%20%20default%3A%0A%20%20%20%20%20%20%20%20%20%20%20%20%20%20%20%20%20%20%20%20return%20%7B%22color%22%3A%20%22red%22%7D%3B%0A%20%20%20%20%20%20%20%20%20%20%20%20%7D%0A%20%20%20%20%20%20%20%20%7D%0A%20%20%20%20%20%20%20%20function%20geo_json_3641885c7b9645328012111f94ffa0c0_onEachFeature%28feature%2C%20layer%29%20%7B%0A%20%20%20%20%20%20%20%20%20%20%20%20layer.on%28%7B%0A%20%20%20%20%20%20%20%20%20%20%20%20%20%20%20%20click%3A%20function%28e%29%20%7B%0A%20%20%20%20%20%20%20%20%20%20%20%20%20%20%20%20%20%20%20%20map_613eb0ba15a8486fbd574b4589a31f31.fitBounds%28e.target.getBounds%28%29%29%3B%0A%20%20%20%20%20%20%20%20%20%20%20%20%20%20%20%20%7D%0A%20%20%20%20%20%20%20%20%20%20%20%20%7D%29%3B%0A%20%20%20%20%20%20%20%20%7D%3B%0A%20%20%20%20%20%20%20%20var%20geo_json_3641885c7b9645328012111f94ffa0c0%20%3D%20L.geoJson%28null%2C%20%7B%0A%20%20%20%20%20%20%20%20%20%20%20%20%20%20%20%20onEachFeature%3A%20geo_json_3641885c7b9645328012111f94ffa0c0_onEachFeature%2C%0A%20%20%20%20%20%20%20%20%20%20%20%20%0A%20%20%20%20%20%20%20%20%20%20%20%20%20%20%20%20style%3A%20geo_json_3641885c7b9645328012111f94ffa0c0_styler%2C%0A%20%20%20%20%20%20%20%20%7D%29.addTo%28map_613eb0ba15a8486fbd574b4589a31f31%29%3B%0A%0A%20%20%20%20%20%20%20%20function%20geo_json_3641885c7b9645328012111f94ffa0c0_add%20%28data%29%20%7B%0A%20%20%20%20%20%20%20%20%20%20%20%20geo_json_3641885c7b9645328012111f94ffa0c0.addData%28data%29%3B%0A%20%20%20%20%20%20%20%20%7D%0A%20%20%20%20%20%20%20%20%20%20%20%20geo_json_3641885c7b9645328012111f94ffa0c0_add%28%7B%22features%22%3A%20%5B%7B%22geometry%22%3A%20%7B%22coordinates%22%3A%20%5B%5B%5B-76.78971308248228%2C%2038.360944615585886%5D%2C%20%5B-72.70054029901765%2C%2038.360944615585886%5D%2C%20%5B-72.70054029901765%2C%2042.810131263244216%5D%2C%20%5B-76.78971308248228%2C%2042.810131263244216%5D%2C%20%5B-76.78971308248228%2C%2038.360944615585886%5D%5D%5D%2C%20%22type%22%3A%20%22Polygon%22%7D%2C%20%22id%22%3A%20%220%22%2C%20%22properties%22%3A%20%7B%22filename%22%3A%20%22etasw_1950.tif%22%2C%20%22id%22%3A%20%220%22%2C%20%22title%22%3A%20%22s3%3A//dev-et-data/enduser/DelawareRiverBasin/drb150cAnnual/etasw_1950.tif%22%7D%2C%20%22type%22%3A%20%22Feature%22%7D%5D%2C%20%22type%22%3A%20%22FeatureCollection%22%7D%29%3B%0A%20%20%20%20%20%20%20%20%0A%3C/script%3E onload=\"this.contentDocument.open();this.contentDocument.write(    decodeURIComponent(this.getAttribute('data-html')));this.contentDocument.close();\" allowfullscreen webkitallowfullscreen mozallowfullscreen></iframe></div></div>"
      ],
      "text/plain": [
       "<folium.folium.Map at 0x7f3783cc69b0>"
      ]
     },
     "execution_count": 29,
     "metadata": {},
     "output_type": "execute_result"
    }
   ],
   "source": [
    "fm2.add_geojson(name,mymap,color='red')"
   ]
  },
  {
   "cell_type": "code",
   "execution_count": 30,
   "metadata": {},
   "outputs": [
    {
     "name": "stdout",
     "output_type": "stream",
     "text": [
      "__pycache__  log_logger.py\t  s3_func.py\txr_mosaic_func.py\r\n",
      "cog_func.py  mos_mosaic_class.py  st_status.py\r\n"
     ]
    }
   ],
   "source": [
    "!ls ~/opt/etm/etmLib/etmLib"
   ]
  },
  {
   "cell_type": "code",
   "execution_count": 31,
   "metadata": {},
   "outputs": [
    {
     "name": "stdout",
     "output_type": "stream",
     "text": [
      "import os\r\n",
      "import sys\r\n",
      "from time import time\r\n",
      "from time import sleep\r\n",
      "import rasterio\r\n",
      "import xarray as xr\r\n",
      "import rioxarray\r\n",
      "from .cog_func import cog_create_from_tif\r\n",
      "from .s3_func import s3_push_delete_local\r\n",
      "\r\n",
      "def _xr_open_rasterio_retry(s3_file_name):\r\n",
      "    cnt=10\r\n",
      "    while(cnt>0):\r\n",
      "        try:\r\n",
      "            da = xr.open_rasterio(s3_file_name)\r\n",
      "            return da\r\n",
      "        except rasterio.errors.RasterioIOError:\r\n",
      "                        print(\"Unexpected error:\", sys.exc_info()[0])\r\n",
      "                        print('oops',cnt)\r\n",
      "                        print('oops',s3_file_name)\r\n",
      "                        cnt = cnt - 1\r\n",
      "                        sleep(4)\r\n",
      "\r\n",
      "\r\n",
      "def xr_build_mosaic_ds(bucket ,product, tifs):\r\n",
      "\r\n",
      "    start = time()\r\n",
      "    my_da_list =[]\r\n",
      "    for tif in tifs:\r\n",
      "        da = _xr_open_rasterio_retry(f's3://{bucket}/'+tif)\r\n",
      "        da = da.squeeze().drop(labels='band')\r\n",
      "        da.name=product\r\n",
      "        my_da_list.append(da)\r\n",
      "        tnow = time()\r\n",
      "        elapsed = tnow - start\r\n",
      "        print(tif, elapsed)\r\n",
      "\r\n",
      "    DS = xr.merge(my_da_list)\r\n",
      "    return(DS)\r\n",
      "\r\n",
      "def xr_write_geotiff_from_ds(DS, primary_name, out_prefix_path):\r\n",
      "    \r\n",
      "    print(DS)\r\n",
      "    print(primary_name)\r\n",
      "    print(out_prefix_path)\r\n",
      "\r\n",
      "    a = primary_name.split('/')\r\n",
      "    just_tif = a[-2] + '/' + a[-1]\r\n",
      "    local_tif = a[-1]\r\n",
      "    local_cog = 'COG_' + local_tif\r\n",
      "\r\n",
      "    output = out_prefix_path + just_tif\r\n",
      "    bucket = 'dev-et-data'\r\n",
      "    print(f'OUTPUT=={output}')\r\n",
      "    DS.rio.to_raster(local_tif)\r\n",
      "    cog_create_from_tif(local_tif, local_cog)\r\n",
      "    s3_push_delete_local(local_cog, bucket, output)\r\n",
      "    os.remove(local_tif)\r\n",
      "    local_xml = local_cog + '.aux.xml'\r\n",
      "    os.remove(local_xml)\r\n"
     ]
    }
   ],
   "source": [
    "! cat ~/opt/etm/etmLib/etmLib/xr_mosaic_func.py"
   ]
  },
  {
   "cell_type": "code",
   "execution_count": 32,
   "metadata": {},
   "outputs": [
    {
     "name": "stdout",
     "output_type": "stream",
     "text": [
      "import os\r\n",
      "\r\n",
      "def _run_command(cmd, verbose=False):\r\n",
      "    if verbose:\r\n",
      "        print(cmd)\r\n",
      "    result = os.system(cmd)\r\n",
      "    if result != 0:\r\n",
      "        raise Exception('command \"%s\" failed with code %d.' % (cmd, result))\r\n",
      "\r\n",
      "\r\n",
      "def cog_create_from_tif(src_tif,dst_cog):\r\n",
      "    command = f'rio cogeo create {src_tif} {dst_cog}'\r\n",
      "    _run_command(command)\r\n",
      "\r\n",
      "\r\n"
     ]
    }
   ],
   "source": [
    "! cat /home/jupyter-butzer/opt/etm/etmLib/etmLib/cog_func.py"
   ]
  },
  {
   "cell_type": "code",
   "execution_count": null,
   "metadata": {},
   "outputs": [],
   "source": []
  }
 ],
 "metadata": {
  "kernelspec": {
   "display_name": "Python 3",
   "language": "python",
   "name": "python3"
  },
  "language_info": {
   "codemirror_mode": {
    "name": "ipython",
    "version": 3
   },
   "file_extension": ".py",
   "mimetype": "text/x-python",
   "name": "python",
   "nbconvert_exporter": "python",
   "pygments_lexer": "ipython3",
   "version": "3.7.3"
  }
 },
 "nbformat": 4,
 "nbformat_minor": 4
}
