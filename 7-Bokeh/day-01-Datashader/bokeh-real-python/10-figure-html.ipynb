{
 "cells": [
  {
   "cell_type": "code",
   "execution_count": 1,
   "metadata": {},
   "outputs": [
    {
     "name": "stderr",
     "output_type": "stream",
     "text": [
      "WARNING:bokeh.core.validation.check:W-1000 (MISSING_RENDERERS): Plot has no renderers: Figure(id='1001', ...)\n"
     ]
    }
   ],
   "source": [
    "# Bokeh Libraries\n",
    "from bokeh.io import output_file\n",
    "from bokeh.plotting import figure, show\n",
    "\n",
    "# The figure will be rendered in a static HTML file called output_file_test.html\n",
    "output_file('output_file_test.html', \n",
    "            title='Empty Bokeh Figure')\n",
    "\n",
    "# Set up a generic figure() object\n",
    "fig = figure()\n",
    "\n",
    "# See what it looks like\n",
    "show(fig)\n"
   ]
  },
  {
   "cell_type": "code",
   "execution_count": 2,
   "metadata": {},
   "outputs": [
    {
     "name": "stdout",
     "output_type": "stream",
     "text": [
      "00-Bokeh-Visualization-Template.ipynb  filename.html\r\n",
      "10-figure.ipynb\t\t\t       output_file_test.html\r\n"
     ]
    }
   ],
   "source": [
    "!ls"
   ]
  },
  {
   "cell_type": "code",
   "execution_count": null,
   "metadata": {},
   "outputs": [],
   "source": []
  }
 ],
 "metadata": {
  "kernelspec": {
   "display_name": "Python 3",
   "language": "python",
   "name": "python3"
  },
  "language_info": {
   "codemirror_mode": {
    "name": "ipython",
    "version": 3
   },
   "file_extension": ".py",
   "mimetype": "text/x-python",
   "name": "python",
   "nbconvert_exporter": "python",
   "pygments_lexer": "ipython3",
   "version": "3.7.3"
  }
 },
 "nbformat": 4,
 "nbformat_minor": 4
}
